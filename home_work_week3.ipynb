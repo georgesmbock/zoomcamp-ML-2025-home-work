{
 "cells": [
  {
   "cell_type": "code",
   "execution_count": 1,
   "id": "6eff7689-d803-4637-80a6-55add37654ca",
   "metadata": {},
   "outputs": [
    {
     "name": "stdout",
     "output_type": "stream",
     "text": [
      "\u001b[33mcommit bdcbc9fb744a35950f0156d56964d1472d2f581d\u001b[m\u001b[33m (\u001b[m\u001b[1;36mHEAD -> \u001b[m\u001b[1;32mmain\u001b[m\u001b[33m, \u001b[m\u001b[1;31morigin/main\u001b[m\u001b[33m, \u001b[m\u001b[1;31morigin/HEAD\u001b[m\u001b[33m)\u001b[m\n",
      "Author: georgesmbock <mbock@DESKTOP-3KEOBHU>\n",
      "Date:   Fri Oct 17 15:35:38 2025 +0100\n",
      "\n",
      "    home work week3\n"
     ]
    }
   ],
   "source": [
    "!git log -1\n"
   ]
  },
  {
   "cell_type": "code",
   "execution_count": 2,
   "id": "ac65be67-cd4d-4431-8157-86506a3d7d77",
   "metadata": {},
   "outputs": [],
   "source": [
    "url = 'https://raw.githubusercontent.com/alexeygrigorev/datasets/master/course_lead_scoring.csv'\n"
   ]
  },
  {
   "cell_type": "code",
   "execution_count": 3,
   "id": "696c57c3-4b5e-4bee-981f-94490f65c78f",
   "metadata": {},
   "outputs": [],
   "source": [
    "!wget $url -o download_week2.log"
   ]
  },
  {
   "cell_type": "code",
   "execution_count": 4,
   "id": "8c93ed54-7206-42f1-bc37-65065360777b",
   "metadata": {},
   "outputs": [],
   "source": [
    "import pandas as pd\n",
    "import numpy as np\n",
    "import matplotlib.pyplot as plt\n",
    "import seaborn as sns\n"
   ]
  },
  {
   "cell_type": "code",
   "execution_count": 5,
   "id": "a5d05cac-8177-4777-97b7-0f43fca40ce8",
   "metadata": {},
   "outputs": [],
   "source": [
    "df = pd.read_csv('course_lead_scoring.csv')"
   ]
  },
  {
   "cell_type": "code",
   "execution_count": 6,
   "id": "1b125acd-f401-4ada-8109-c83ef29218cb",
   "metadata": {},
   "outputs": [
    {
     "data": {
      "text/html": [
       "<div>\n",
       "<style scoped>\n",
       "    .dataframe tbody tr th:only-of-type {\n",
       "        vertical-align: middle;\n",
       "    }\n",
       "\n",
       "    .dataframe tbody tr th {\n",
       "        vertical-align: top;\n",
       "    }\n",
       "\n",
       "    .dataframe thead th {\n",
       "        text-align: right;\n",
       "    }\n",
       "</style>\n",
       "<table border=\"1\" class=\"dataframe\">\n",
       "  <thead>\n",
       "    <tr style=\"text-align: right;\">\n",
       "      <th></th>\n",
       "      <th>0</th>\n",
       "      <th>1</th>\n",
       "    </tr>\n",
       "  </thead>\n",
       "  <tbody>\n",
       "    <tr>\n",
       "      <th>lead_source</th>\n",
       "      <td>paid_ads</td>\n",
       "      <td>social_media</td>\n",
       "    </tr>\n",
       "    <tr>\n",
       "      <th>industry</th>\n",
       "      <td>NaN</td>\n",
       "      <td>retail</td>\n",
       "    </tr>\n",
       "    <tr>\n",
       "      <th>number_of_courses_viewed</th>\n",
       "      <td>1</td>\n",
       "      <td>1</td>\n",
       "    </tr>\n",
       "    <tr>\n",
       "      <th>annual_income</th>\n",
       "      <td>79450.0</td>\n",
       "      <td>46992.0</td>\n",
       "    </tr>\n",
       "    <tr>\n",
       "      <th>employment_status</th>\n",
       "      <td>unemployed</td>\n",
       "      <td>employed</td>\n",
       "    </tr>\n",
       "    <tr>\n",
       "      <th>location</th>\n",
       "      <td>south_america</td>\n",
       "      <td>south_america</td>\n",
       "    </tr>\n",
       "    <tr>\n",
       "      <th>interaction_count</th>\n",
       "      <td>4</td>\n",
       "      <td>1</td>\n",
       "    </tr>\n",
       "    <tr>\n",
       "      <th>lead_score</th>\n",
       "      <td>0.94</td>\n",
       "      <td>0.8</td>\n",
       "    </tr>\n",
       "    <tr>\n",
       "      <th>converted</th>\n",
       "      <td>1</td>\n",
       "      <td>0</td>\n",
       "    </tr>\n",
       "  </tbody>\n",
       "</table>\n",
       "</div>"
      ],
      "text/plain": [
       "                                      0              1\n",
       "lead_source                    paid_ads   social_media\n",
       "industry                            NaN         retail\n",
       "number_of_courses_viewed              1              1\n",
       "annual_income                   79450.0        46992.0\n",
       "employment_status            unemployed       employed\n",
       "location                  south_america  south_america\n",
       "interaction_count                     4              1\n",
       "lead_score                         0.94            0.8\n",
       "converted                             1              0"
      ]
     },
     "execution_count": 6,
     "metadata": {},
     "output_type": "execute_result"
    }
   ],
   "source": [
    "df.head(2).T"
   ]
  },
  {
   "cell_type": "code",
   "execution_count": 7,
   "id": "796a1e4a-f7b6-46a1-b446-88b47d4e7f46",
   "metadata": {},
   "outputs": [
    {
     "name": "stdout",
     "output_type": "stream",
     "text": [
      "<class 'pandas.core.frame.DataFrame'>\n",
      "RangeIndex: 1462 entries, 0 to 1461\n",
      "Data columns (total 9 columns):\n",
      " #   Column                    Non-Null Count  Dtype  \n",
      "---  ------                    --------------  -----  \n",
      " 0   lead_source               1334 non-null   object \n",
      " 1   industry                  1328 non-null   object \n",
      " 2   number_of_courses_viewed  1462 non-null   int64  \n",
      " 3   annual_income             1281 non-null   float64\n",
      " 4   employment_status         1362 non-null   object \n",
      " 5   location                  1399 non-null   object \n",
      " 6   interaction_count         1462 non-null   int64  \n",
      " 7   lead_score                1462 non-null   float64\n",
      " 8   converted                 1462 non-null   int64  \n",
      "dtypes: float64(2), int64(3), object(4)\n",
      "memory usage: 102.9+ KB\n"
     ]
    }
   ],
   "source": [
    "df.info()"
   ]
  },
  {
   "cell_type": "markdown",
   "id": "49765ac9-9c2f-404e-b9f5-532fb4b50402",
   "metadata": {},
   "source": [
    "## Data preparation\n",
    "* Check if the missing values are presented in the features.\n",
    "* If there are missing values:\n",
    "    * For categorical features, replace them with 'NA'\n",
    "    * For numerical features, replace with with 0.0"
   ]
  },
  {
   "cell_type": "code",
   "execution_count": 8,
   "id": "3041992c-5b71-4321-8567-04113efad15e",
   "metadata": {},
   "outputs": [
    {
     "data": {
      "text/plain": [
       "lead_source                 128\n",
       "industry                    134\n",
       "number_of_courses_viewed      0\n",
       "annual_income               181\n",
       "employment_status           100\n",
       "location                     63\n",
       "interaction_count             0\n",
       "lead_score                    0\n",
       "converted                     0\n",
       "dtype: int64"
      ]
     },
     "execution_count": 8,
     "metadata": {},
     "output_type": "execute_result"
    }
   ],
   "source": [
    "df.isna().sum()"
   ]
  },
  {
   "cell_type": "code",
   "execution_count": 9,
   "id": "fd42e780-1c5f-4dd1-8559-ffee412331e6",
   "metadata": {},
   "outputs": [],
   "source": [
    "def missing_replace(l, val):\n",
    "    for col in l:\n",
    "        df[col].fillna(val, inplace=True)\n",
    "    return df\n",
    "    "
   ]
  },
  {
   "cell_type": "code",
   "execution_count": 10,
   "id": "53a336db-0074-4e69-9caa-5863f643e47d",
   "metadata": {},
   "outputs": [
    {
     "name": "stderr",
     "output_type": "stream",
     "text": [
      "/tmp/ipykernel_178249/3076195048.py:3: FutureWarning: A value is trying to be set on a copy of a DataFrame or Series through chained assignment using an inplace method.\n",
      "The behavior will change in pandas 3.0. This inplace method will never work because the intermediate object on which we are setting values always behaves as a copy.\n",
      "\n",
      "For example, when doing 'df[col].method(value, inplace=True)', try using 'df.method({col: value}, inplace=True)' or df[col] = df[col].method(value) instead, to perform the operation inplace on the original object.\n",
      "\n",
      "\n",
      "  df[col].fillna(val, inplace=True)\n"
     ]
    }
   ],
   "source": [
    "l = [col for col in df.columns if df[col].dtypes =='O' and df[col].isna().sum() != 0]\n",
    "val = 'NA'\n",
    "df = missing_replace(l, val)\n"
   ]
  },
  {
   "cell_type": "code",
   "execution_count": 11,
   "id": "47a1e744-5668-46cb-8bd3-6cb2c1fa8376",
   "metadata": {},
   "outputs": [
    {
     "name": "stderr",
     "output_type": "stream",
     "text": [
      "/tmp/ipykernel_178249/3076195048.py:3: FutureWarning: A value is trying to be set on a copy of a DataFrame or Series through chained assignment using an inplace method.\n",
      "The behavior will change in pandas 3.0. This inplace method will never work because the intermediate object on which we are setting values always behaves as a copy.\n",
      "\n",
      "For example, when doing 'df[col].method(value, inplace=True)', try using 'df.method({col: value}, inplace=True)' or df[col] = df[col].method(value) instead, to perform the operation inplace on the original object.\n",
      "\n",
      "\n",
      "  df[col].fillna(val, inplace=True)\n"
     ]
    }
   ],
   "source": [
    "l = [col for col in df.columns if df[col].dtypes !='O' and df[col].isna().sum() != 0]\n",
    "val = 0.0\n",
    "df = missing_replace(l, val)"
   ]
  },
  {
   "cell_type": "code",
   "execution_count": 12,
   "id": "358137a7-cfdb-40dc-b0f1-8ad3c64f6bcc",
   "metadata": {},
   "outputs": [
    {
     "data": {
      "text/plain": [
       "lead_source                 0\n",
       "industry                    0\n",
       "number_of_courses_viewed    0\n",
       "annual_income               0\n",
       "employment_status           0\n",
       "location                    0\n",
       "interaction_count           0\n",
       "lead_score                  0\n",
       "converted                   0\n",
       "dtype: int64"
      ]
     },
     "execution_count": 12,
     "metadata": {},
     "output_type": "execute_result"
    }
   ],
   "source": [
    "df.isna().sum()"
   ]
  },
  {
   "cell_type": "markdown",
   "id": "a353be66-8c7f-4afc-a3b4-f1cf803b41ee",
   "metadata": {},
   "source": [
    "### Question 1\n",
    "What is the most frequent observation (mode) for the column industry?"
   ]
  },
  {
   "cell_type": "code",
   "execution_count": 13,
   "id": "80c6db1c-7b3a-4654-a357-f5ab365f147d",
   "metadata": {},
   "outputs": [
    {
     "data": {
      "text/plain": [
       "0    retail\n",
       "Name: industry, dtype: object"
      ]
     },
     "execution_count": 13,
     "metadata": {},
     "output_type": "execute_result"
    }
   ],
   "source": [
    "df['industry'].mode()"
   ]
  },
  {
   "cell_type": "markdown",
   "id": "2e880fc8-15d8-4940-9196-abd330012342",
   "metadata": {},
   "source": [
    "### Question 2\n",
    "Create the correlation matrix for the numerical features of your dataset. In a correlation matrix, you compute the correlation coefficient between every pair of features.\n",
    "\n",
    "**What are the two features that have the biggest correlation?**\n",
    "\n",
    "- interaction_count and lead_score\n",
    "- number_of_courses_viewed and lead_score\n",
    "- number_of_courses_viewed and interaction_count\n",
    "- annual_income and interaction_count\n",
    "\n",
    "Only consider the pairs above when answering this question"
   ]
  },
  {
   "cell_type": "code",
   "execution_count": 14,
   "id": "f82e15da-0c9b-4db2-a1ef-02c8f465ca68",
   "metadata": {},
   "outputs": [
    {
     "data": {
      "image/png": "[encoded data removed]",
      "text/plain": [
       "<Figure size 640x480 with 2 Axes>"
      ]
     },
     "metadata": {},
     "output_type": "display_data"
    }
   ],
   "source": [
    "# nueric columns\n",
    "num_cols = [col for col in df.columns if df[col].dtypes != 'O']\n",
    "\n",
    "sns.heatmap(df[num_cols].corr(), annot=True, cmap='coolwarm')\n",
    "plt.show()"
   ]
  },
  {
   "cell_type": "markdown",
   "id": "0629d4a6-bd1a-485e-acd1-4caddd8ffe3b",
   "metadata": {},
   "source": [
    "Result: annual_income and interaction_count"
   ]
  },
  {
   "cell_type": "markdown",
   "id": "6fa70338-14a0-4193-aa06-a4b62f8baae7",
   "metadata": {},
   "source": [
    "## Split Data"
   ]
  },
  {
   "cell_type": "code",
   "execution_count": 15,
   "id": "bc0401c5-8ff2-4cc8-bf7d-28b79fe1fb7e",
   "metadata": {},
   "outputs": [],
   "source": [
    "from sklearn.model_selection import train_test_split"
   ]
  },
  {
   "cell_type": "code",
   "execution_count": 16,
   "id": "f8ff28f0-befe-43a6-9a3e-670a2d59f9f8",
   "metadata": {},
   "outputs": [],
   "source": [
    "data_full_train, data_test = train_test_split(df, test_size=0.2, random_state=42)"
   ]
  },
  {
   "cell_type": "code",
   "execution_count": 17,
   "id": "23359812-6cc4-4853-bfa8-9cf5021a6e5c",
   "metadata": {},
   "outputs": [],
   "source": [
    "data_train, data_val = train_test_split(data_full_train, test_size=0.25, random_state=42)"
   ]
  },
  {
   "cell_type": "code",
   "execution_count": 18,
   "id": "e40b694e-6d71-483d-9a9f-5c2aebd568d6",
   "metadata": {},
   "outputs": [
    {
     "data": {
      "text/plain": [
       "0"
      ]
     },
     "execution_count": 18,
     "metadata": {},
     "output_type": "execute_result"
    }
   ],
   "source": [
    "len(data_train) + len(data_test) + len(data_val) -len(df)"
   ]
  },
  {
   "cell_type": "code",
   "execution_count": 19,
   "id": "68554694-6ff1-4e4f-ae9d-6e402a6bd8ea",
   "metadata": {},
   "outputs": [],
   "source": [
    "data_train = data_train.reset_index(drop=True)\n",
    "data_test = data_test.reset_index(drop=True)\n",
    "data_val = data_val.reset_index(drop=True)"
   ]
  },
  {
   "cell_type": "code",
   "execution_count": 20,
   "id": "01c27a3d-29b2-4258-b6da-50fdd4d67b30",
   "metadata": {},
   "outputs": [],
   "source": [
    "y_train = data_train.converted.values\n",
    "y_test = data_test.converted.values\n",
    "y_val = data_val.converted.values"
   ]
  },
  {
   "cell_type": "code",
   "execution_count": 21,
   "id": "62f66f41-efca-4ada-98fe-9db0a5d0b3aa",
   "metadata": {},
   "outputs": [],
   "source": [
    "del data_train['converted']\n",
    "del data_test['converted']\n",
    "del data_val['converted']"
   ]
  },
  {
   "cell_type": "markdown",
   "id": "d037f747-daa4-47ea-af2d-6339cce5c930",
   "metadata": {},
   "source": [
    "## EDA"
   ]
  },
  {
   "cell_type": "code",
   "execution_count": 22,
   "id": "9bc56f06-67e3-4fad-a092-b1daffc5399b",
   "metadata": {},
   "outputs": [],
   "source": [
    "data_full_train = data_full_train.reset_index(drop=True)"
   ]
  },
  {
   "cell_type": "code",
   "execution_count": 23,
   "id": "ad662592-44d2-4d44-bead-572826538ca4",
   "metadata": {},
   "outputs": [
    {
     "data": {
      "text/plain": [
       "lead_source                 0\n",
       "industry                    0\n",
       "number_of_courses_viewed    0\n",
       "annual_income               0\n",
       "employment_status           0\n",
       "location                    0\n",
       "interaction_count           0\n",
       "lead_score                  0\n",
       "converted                   0\n",
       "dtype: int64"
      ]
     },
     "execution_count": 23,
     "metadata": {},
     "output_type": "execute_result"
    }
   ],
   "source": [
    "data_full_train.isnull().sum()"
   ]
  },
  {
   "cell_type": "code",
   "execution_count": 24,
   "id": "4fb6bdd4-900d-43f8-820b-3eb269533606",
   "metadata": {},
   "outputs": [
    {
     "data": {
      "text/plain": [
       "array([0, 1])"
      ]
     },
     "execution_count": 24,
     "metadata": {},
     "output_type": "execute_result"
    }
   ],
   "source": [
    "data_full_train.converted.unique()"
   ]
  },
  {
   "cell_type": "markdown",
   "id": "0bd84c2f-6a99-4b72-8036-8dbac94578ec",
   "metadata": {},
   "source": [
    "### Question 3\n",
    "- Calculate the mutual information score between converted and other categorical variables in the dataset. Use the training set only.\n",
    "- Round the scores to 2 decimals using round(score, 2).\n",
    "- Which of these variables has the biggest mutual information score?\n",
    "\n",
    ">- industry\n",
    "> - location\n",
    "> - lead_source\n",
    "> - employment_status"
   ]
  },
  {
   "cell_type": "code",
   "execution_count": 25,
   "id": "80ad3c5c-77ec-452c-8d07-c15c7ff2ff18",
   "metadata": {},
   "outputs": [],
   "source": [
    "from sklearn.metrics import mutual_info_score"
   ]
  },
  {
   "cell_type": "code",
   "execution_count": 26,
   "id": "c927c186-809d-4bd6-868e-649ec679a2c5",
   "metadata": {},
   "outputs": [
    {
     "data": {
      "text/plain": [
       "['lead_source', 'industry', 'employment_status', 'location']"
      ]
     },
     "execution_count": 26,
     "metadata": {},
     "output_type": "execute_result"
    }
   ],
   "source": [
    "categorical_columns = list(col for col in df.columns if df[col].dtypes == 'O') \n",
    "categorical_columns "
   ]
  },
  {
   "cell_type": "code",
   "execution_count": 27,
   "id": "f0f9053c-b2da-4fc9-882e-6e3d62b00772",
   "metadata": {},
   "outputs": [],
   "source": [
    "def mutual_info_churn(series):\n",
    "    return mutual_info_score(series, data_full_train.converted)"
   ]
  },
  {
   "cell_type": "code",
   "execution_count": 28,
   "id": "997541a7-cdfd-4df8-88a1-649335dc7c9a",
   "metadata": {},
   "outputs": [
    {
     "data": {
      "text/plain": [
       "lead_source          0.025665\n",
       "employment_status    0.013258\n",
       "industry             0.011685\n",
       "location             0.002253\n",
       "dtype: float64"
      ]
     },
     "execution_count": 28,
     "metadata": {},
     "output_type": "execute_result"
    }
   ],
   "source": [
    "mi = data_full_train[categorical_columns].apply(mutual_info_churn)\n",
    "mi.sort_values(ascending=False)"
   ]
  },
  {
   "cell_type": "markdown",
   "id": "b606744d-bcff-4862-92e9-9f502f65528d",
   "metadata": {},
   "source": [
    "### Question 4\n",
    "- Now let's train a logistic regression.\n",
    "- Remember that we have several categorical variables in the dataset. Include them using one-hot encoding.\n",
    "- Fit the model on the training dataset.\n",
    "    - To make sure the results are reproducible across different versions of Scikit-Learn, fit the model with these parameters:\n",
    "- model = LogisticRegression(solver='liblinear', C=1.0, max_iter=1000, random_state=42)\n",
    "- Calculate the accuracy on the validation dataset and round it to 2 decimal digits."
   ]
  },
  {
   "cell_type": "code",
   "execution_count": 29,
   "id": "e21a870c-3a7f-48dd-9b27-e82a3ffa7972",
   "metadata": {},
   "outputs": [],
   "source": [
    "from sklearn.feature_extraction import DictVectorizer"
   ]
  },
  {
   "cell_type": "code",
   "execution_count": null,
   "id": "a9c39675-3a32-43a6-b7fb-6ca71f823eaa",
   "metadata": {},
   "outputs": [],
   "source": []
  },
  {
   "cell_type": "code",
   "execution_count": 30,
   "id": "4a992eeb-9fa4-4733-8e98-cd21a9aa4129",
   "metadata": {},
   "outputs": [],
   "source": [
    "num_columns = num_cols[:-1]"
   ]
  },
  {
   "cell_type": "code",
   "execution_count": 31,
   "id": "390422f7-39a8-42ae-a616-279af93f2262",
   "metadata": {},
   "outputs": [],
   "source": [
    "train_dicts = data_train[categorical_columns + num_columns].to_dict(orient='records')\n",
    "val_dicts = data_val[categorical_columns + num_columns].to_dict(orient='records')\n",
    "#test_dicts = data_test[categorical_columns + numerical_columns].to_dict(orient='records')"
   ]
  },
  {
   "cell_type": "code",
   "execution_count": 32,
   "id": "e4d7e02f-30b1-417a-8abf-538c6ffbab73",
   "metadata": {},
   "outputs": [],
   "source": [
    "dv = DictVectorizer(sparse=False)"
   ]
  },
  {
   "cell_type": "code",
   "execution_count": 33,
   "id": "1aa1d852-50e0-4206-8bdd-0b65a736becc",
   "metadata": {},
   "outputs": [],
   "source": [
    "X_train = dv.fit_transform(train_dicts)\n",
    "X_val = dv.fit_transform(val_dicts)"
   ]
  },
  {
   "cell_type": "code",
   "execution_count": 34,
   "id": "805006a7-44f6-4d9a-a1fc-783f6656112e",
   "metadata": {},
   "outputs": [
    {
     "data": {
      "text/plain": [
       "(876, 31)"
      ]
     },
     "execution_count": 34,
     "metadata": {},
     "output_type": "execute_result"
    }
   ],
   "source": [
    "X_train.shape"
   ]
  },
  {
   "cell_type": "code",
   "execution_count": 35,
   "id": "3651ae32-f23c-4aa2-9b94-c3a6f0f0ce8c",
   "metadata": {},
   "outputs": [
    {
     "data": {
      "text/plain": [
       "(876,)"
      ]
     },
     "execution_count": 35,
     "metadata": {},
     "output_type": "execute_result"
    }
   ],
   "source": [
    "y_train.shape"
   ]
  },
  {
   "cell_type": "code",
   "execution_count": 36,
   "id": "f8eb1507-68c4-4338-be41-33ebbd189c5c",
   "metadata": {},
   "outputs": [
    {
     "data": {
      "text/plain": [
       "(293, 31)"
      ]
     },
     "execution_count": 36,
     "metadata": {},
     "output_type": "execute_result"
    }
   ],
   "source": [
    "X_val.shape"
   ]
  },
  {
   "cell_type": "code",
   "execution_count": 37,
   "id": "2213bbc5-ab81-4f42-a425-4262574cd942",
   "metadata": {},
   "outputs": [],
   "source": [
    "from sklearn.linear_model import LogisticRegression"
   ]
  },
  {
   "cell_type": "code",
   "execution_count": 38,
   "id": "22ed0dcb-e448-42f6-bcd3-1a5ec97be961",
   "metadata": {},
   "outputs": [],
   "source": [
    "model = LogisticRegression(solver='liblinear', C=1.0, max_iter=1000, random_state=42)"
   ]
  },
  {
   "cell_type": "code",
   "execution_count": 39,
   "id": "9546c6dd-2502-46ab-89dc-9d2cc82609f2",
   "metadata": {},
   "outputs": [
    {
     "data": {
      "text/html": [
       "<style>#sk-container-id-1 {\n",
       "  /* Definition of color scheme common for light and dark mode */\n",
       "  --sklearn-color-text: #000;\n",
       "  --sklearn-color-text-muted: #666;\n",
       "  --sklearn-color-line: gray;\n",
       "  /* Definition of color scheme for unfitted estimators */\n",
       "  --sklearn-color-unfitted-level-0: #fff5e6;\n",
       "  --sklearn-color-unfitted-level-1: #f6e4d2;\n",
       "  --sklearn-color-unfitted-level-2: #ffe0b3;\n",
       "  --sklearn-color-unfitted-level-3: chocolate;\n",
       "  /* Definition of color scheme for fitted estimators */\n",
       "  --sklearn-color-fitted-level-0: #f0f8ff;\n",
       "  --sklearn-color-fitted-level-1: #d4ebff;\n",
       "  --sklearn-color-fitted-level-2: #b3dbfd;\n",
       "  --sklearn-color-fitted-level-3: cornflowerblue;\n",
       "\n",
       "  /* Specific color for light theme */\n",
       "  --sklearn-color-text-on-default-background: var(--sg-text-color, var(--theme-code-foreground, var(--jp-content-font-color1, black)));\n",
       "  --sklearn-color-background: var(--sg-background-color, var(--theme-background, var(--jp-layout-color0, white)));\n",
       "  --sklearn-color-border-box: var(--sg-text-color, var(--theme-code-foreground, var(--jp-content-font-color1, black)));\n",
       "  --sklearn-color-icon: #696969;\n",
       "\n",
       "  @media (prefers-color-scheme: dark) {\n",
       "    /* Redefinition of color scheme for dark theme */\n",
       "    --sklearn-color-text-on-default-background: var(--sg-text-color, var(--theme-code-foreground, var(--jp-content-font-color1, white)));\n",
       "    --sklearn-color-background: var(--sg-background-color, var(--theme-background, var(--jp-layout-color0, #111)));\n",
       "    --sklearn-color-border-box: var(--sg-text-color, var(--theme-code-foreground, var(--jp-content-font-color1, white)));\n",
       "    --sklearn-color-icon: #878787;\n",
       "  }\n",
       "}\n",
       "\n",
       "#sk-container-id-1 {\n",
       "  color: var(--sklearn-color-text);\n",
       "}\n",
       "\n",
       "#sk-container-id-1 pre {\n",
       "  padding: 0;\n",
       "}\n",
       "\n",
       "#sk-container-id-1 input.sk-hidden--visually {\n",
       "  border: 0;\n",
       "  clip: rect(1px 1px 1px 1px);\n",
       "  clip: rect(1px, 1px, 1px, 1px);\n",
       "  height: 1px;\n",
       "  margin: -1px;\n",
       "  overflow: hidden;\n",
       "  padding: 0;\n",
       "  position: absolute;\n",
       "  width: 1px;\n",
       "}\n",
       "\n",
       "#sk-container-id-1 div.sk-dashed-wrapped {\n",
       "  border: 1px dashed var(--sklearn-color-line);\n",
       "  margin: 0 0.4em 0.5em 0.4em;\n",
       "  box-sizing: border-box;\n",
       "  padding-bottom: 0.4em;\n",
       "  background-color: var(--sklearn-color-background);\n",
       "}\n",
       "\n",
       "#sk-container-id-1 div.sk-container {\n",
       "  /* jupyter's `normalize.less` sets `[hidden] { display: none; }`\n",
       "     but bootstrap.min.css set `[hidden] { display: none !important; }`\n",
       "     so we also need the `!important` here to be able to override the\n",
       "     default hidden behavior on the sphinx rendered scikit-learn.org.\n",
       "     See: https://github.com/scikit-learn/scikit-learn/issues/21755 */\n",
       "  display: inline-block !important;\n",
       "  position: relative;\n",
       "}\n",
       "\n",
       "#sk-container-id-1 div.sk-text-repr-fallback {\n",
       "  display: none;\n",
       "}\n",
       "\n",
       "div.sk-parallel-item,\n",
       "div.sk-serial,\n",
       "div.sk-item {\n",
       "  /* draw centered vertical line to link estimators */\n",
       "  background-image: linear-gradient(var(--sklearn-color-text-on-default-background), var(--sklearn-color-text-on-default-background));\n",
       "  background-size: 2px 100%;\n",
       "  background-repeat: no-repeat;\n",
       "  background-position: center center;\n",
       "}\n",
       "\n",
       "/* Parallel-specific style estimator block */\n",
       "\n",
       "#sk-container-id-1 div.sk-parallel-item::after {\n",
       "  content: \"\";\n",
       "  width: 100%;\n",
       "  border-bottom: 2px solid var(--sklearn-color-text-on-default-background);\n",
       "  flex-grow: 1;\n",
       "}\n",
       "\n",
       "#sk-container-id-1 div.sk-parallel {\n",
       "  display: flex;\n",
       "  align-items: stretch;\n",
       "  justify-content: center;\n",
       "  background-color: var(--sklearn-color-background);\n",
       "  position: relative;\n",
       "}\n",
       "\n",
       "#sk-container-id-1 div.sk-parallel-item {\n",
       "  display: flex;\n",
       "  flex-direction: column;\n",
       "}\n",
       "\n",
       "#sk-container-id-1 div.sk-parallel-item:first-child::after {\n",
       "  align-self: flex-end;\n",
       "  width: 50%;\n",
       "}\n",
       "\n",
       "#sk-container-id-1 div.sk-parallel-item:last-child::after {\n",
       "  align-self: flex-start;\n",
       "  width: 50%;\n",
       "}\n",
       "\n",
       "#sk-container-id-1 div.sk-parallel-item:only-child::after {\n",
       "  width: 0;\n",
       "}\n",
       "\n",
       "/* Serial-specific style estimator block */\n",
       "\n",
       "#sk-container-id-1 div.sk-serial {\n",
       "  display: flex;\n",
       "  flex-direction: column;\n",
       "  align-items: center;\n",
       "  background-color: var(--sklearn-color-background);\n",
       "  padding-right: 1em;\n",
       "  padding-left: 1em;\n",
       "}\n",
       "\n",
       "\n",
       "/* Toggleable style: style used for estimator/Pipeline/ColumnTransformer box that is\n",
       "clickable and can be expanded/collapsed.\n",
       "- Pipeline and ColumnTransformer use this feature and define the default style\n",
       "- Estimators will overwrite some part of the style using the `sk-estimator` class\n",
       "*/\n",
       "\n",
       "/* Pipeline and ColumnTransformer style (default) */\n",
       "\n",
       "#sk-container-id-1 div.sk-toggleable {\n",
       "  /* Default theme specific background. It is overwritten whether we have a\n",
       "  specific estimator or a Pipeline/ColumnTransformer */\n",
       "  background-color: var(--sklearn-color-background);\n",
       "}\n",
       "\n",
       "/* Toggleable label */\n",
       "#sk-container-id-1 label.sk-toggleable__label {\n",
       "  cursor: pointer;\n",
       "  display: flex;\n",
       "  width: 100%;\n",
       "  margin-bottom: 0;\n",
       "  padding: 0.5em;\n",
       "  box-sizing: border-box;\n",
       "  text-align: center;\n",
       "  align-items: start;\n",
       "  justify-content: space-between;\n",
       "  gap: 0.5em;\n",
       "}\n",
       "\n",
       "#sk-container-id-1 label.sk-toggleable__label .caption {\n",
       "  font-size: 0.6rem;\n",
       "  font-weight: lighter;\n",
       "  color: var(--sklearn-color-text-muted);\n",
       "}\n",
       "\n",
       "#sk-container-id-1 label.sk-toggleable__label-arrow:before {\n",
       "  /* Arrow on the left of the label */\n",
       "  content: \"▸\";\n",
       "  float: left;\n",
       "  margin-right: 0.25em;\n",
       "  color: var(--sklearn-color-icon);\n",
       "}\n",
       "\n",
       "#sk-container-id-1 label.sk-toggleable__label-arrow:hover:before {\n",
       "  color: var(--sklearn-color-text);\n",
       "}\n",
       "\n",
       "/* Toggleable content - dropdown */\n",
       "\n",
       "#sk-container-id-1 div.sk-toggleable__content {\n",
       "  display: none;\n",
       "  text-align: left;\n",
       "  /* unfitted */\n",
       "  background-color: var(--sklearn-color-unfitted-level-0);\n",
       "}\n",
       "\n",
       "#sk-container-id-1 div.sk-toggleable__content.fitted {\n",
       "  /* fitted */\n",
       "  background-color: var(--sklearn-color-fitted-level-0);\n",
       "}\n",
       "\n",
       "#sk-container-id-1 div.sk-toggleable__content pre {\n",
       "  margin: 0.2em;\n",
       "  border-radius: 0.25em;\n",
       "  color: var(--sklearn-color-text);\n",
       "  /* unfitted */\n",
       "  background-color: var(--sklearn-color-unfitted-level-0);\n",
       "}\n",
       "\n",
       "#sk-container-id-1 div.sk-toggleable__content.fitted pre {\n",
       "  /* unfitted */\n",
       "  background-color: var(--sklearn-color-fitted-level-0);\n",
       "}\n",
       "\n",
       "#sk-container-id-1 input.sk-toggleable__control:checked~div.sk-toggleable__content {\n",
       "  /* Expand drop-down */\n",
       "  display: block;\n",
       "  width: 100%;\n",
       "  overflow: visible;\n",
       "}\n",
       "\n",
       "#sk-container-id-1 input.sk-toggleable__control:checked~label.sk-toggleable__label-arrow:before {\n",
       "  content: \"▾\";\n",
       "}\n",
       "\n",
       "/* Pipeline/ColumnTransformer-specific style */\n",
       "\n",
       "#sk-container-id-1 div.sk-label input.sk-toggleable__control:checked~label.sk-toggleable__label {\n",
       "  color: var(--sklearn-color-text);\n",
       "  background-color: var(--sklearn-color-unfitted-level-2);\n",
       "}\n",
       "\n",
       "#sk-container-id-1 div.sk-label.fitted input.sk-toggleable__control:checked~label.sk-toggleable__label {\n",
       "  background-color: var(--sklearn-color-fitted-level-2);\n",
       "}\n",
       "\n",
       "/* Estimator-specific style */\n",
       "\n",
       "/* Colorize estimator box */\n",
       "#sk-container-id-1 div.sk-estimator input.sk-toggleable__control:checked~label.sk-toggleable__label {\n",
       "  /* unfitted */\n",
       "  background-color: var(--sklearn-color-unfitted-level-2);\n",
       "}\n",
       "\n",
       "#sk-container-id-1 div.sk-estimator.fitted input.sk-toggleable__control:checked~label.sk-toggleable__label {\n",
       "  /* fitted */\n",
       "  background-color: var(--sklearn-color-fitted-level-2);\n",
       "}\n",
       "\n",
       "#sk-container-id-1 div.sk-label label.sk-toggleable__label,\n",
       "#sk-container-id-1 div.sk-label label {\n",
       "  /* The background is the default theme color */\n",
       "  color: var(--sklearn-color-text-on-default-background);\n",
       "}\n",
       "\n",
       "/* On hover, darken the color of the background */\n",
       "#sk-container-id-1 div.sk-label:hover label.sk-toggleable__label {\n",
       "  color: var(--sklearn-color-text);\n",
       "  background-color: var(--sklearn-color-unfitted-level-2);\n",
       "}\n",
       "\n",
       "/* Label box, darken color on hover, fitted */\n",
       "#sk-container-id-1 div.sk-label.fitted:hover label.sk-toggleable__label.fitted {\n",
       "  color: var(--sklearn-color-text);\n",
       "  background-color: var(--sklearn-color-fitted-level-2);\n",
       "}\n",
       "\n",
       "/* Estimator label */\n",
       "\n",
       "#sk-container-id-1 div.sk-label label {\n",
       "  font-family: monospace;\n",
       "  font-weight: bold;\n",
       "  display: inline-block;\n",
       "  line-height: 1.2em;\n",
       "}\n",
       "\n",
       "#sk-container-id-1 div.sk-label-container {\n",
       "  text-align: center;\n",
       "}\n",
       "\n",
       "/* Estimator-specific */\n",
       "#sk-container-id-1 div.sk-estimator {\n",
       "  font-family: monospace;\n",
       "  border: 1px dotted var(--sklearn-color-border-box);\n",
       "  border-radius: 0.25em;\n",
       "  box-sizing: border-box;\n",
       "  margin-bottom: 0.5em;\n",
       "  /* unfitted */\n",
       "  background-color: var(--sklearn-color-unfitted-level-0);\n",
       "}\n",
       "\n",
       "#sk-container-id-1 div.sk-estimator.fitted {\n",
       "  /* fitted */\n",
       "  background-color: var(--sklearn-color-fitted-level-0);\n",
       "}\n",
       "\n",
       "/* on hover */\n",
       "#sk-container-id-1 div.sk-estimator:hover {\n",
       "  /* unfitted */\n",
       "  background-color: var(--sklearn-color-unfitted-level-2);\n",
       "}\n",
       "\n",
       "#sk-container-id-1 div.sk-estimator.fitted:hover {\n",
       "  /* fitted */\n",
       "  background-color: var(--sklearn-color-fitted-level-2);\n",
       "}\n",
       "\n",
       "/* Specification for estimator info (e.g. \"i\" and \"?\") */\n",
       "\n",
       "/* Common style for \"i\" and \"?\" */\n",
       "\n",
       ".sk-estimator-doc-link,\n",
       "a:link.sk-estimator-doc-link,\n",
       "a:visited.sk-estimator-doc-link {\n",
       "  float: right;\n",
       "  font-size: smaller;\n",
       "  line-height: 1em;\n",
       "  font-family: monospace;\n",
       "  background-color: var(--sklearn-color-background);\n",
       "  border-radius: 1em;\n",
       "  height: 1em;\n",
       "  width: 1em;\n",
       "  text-decoration: none !important;\n",
       "  margin-left: 0.5em;\n",
       "  text-align: center;\n",
       "  /* unfitted */\n",
       "  border: var(--sklearn-color-unfitted-level-1) 1pt solid;\n",
       "  color: var(--sklearn-color-unfitted-level-1);\n",
       "}\n",
       "\n",
       ".sk-estimator-doc-link.fitted,\n",
       "a:link.sk-estimator-doc-link.fitted,\n",
       "a:visited.sk-estimator-doc-link.fitted {\n",
       "  /* fitted */\n",
       "  border: var(--sklearn-color-fitted-level-1) 1pt solid;\n",
       "  color: var(--sklearn-color-fitted-level-1);\n",
       "}\n",
       "\n",
       "/* On hover */\n",
       "div.sk-estimator:hover .sk-estimator-doc-link:hover,\n",
       ".sk-estimator-doc-link:hover,\n",
       "div.sk-label-container:hover .sk-estimator-doc-link:hover,\n",
       ".sk-estimator-doc-link:hover {\n",
       "  /* unfitted */\n",
       "  background-color: var(--sklearn-color-unfitted-level-3);\n",
       "  color: var(--sklearn-color-background);\n",
       "  text-decoration: none;\n",
       "}\n",
       "\n",
       "div.sk-estimator.fitted:hover .sk-estimator-doc-link.fitted:hover,\n",
       ".sk-estimator-doc-link.fitted:hover,\n",
       "div.sk-label-container:hover .sk-estimator-doc-link.fitted:hover,\n",
       ".sk-estimator-doc-link.fitted:hover {\n",
       "  /* fitted */\n",
       "  background-color: var(--sklearn-color-fitted-level-3);\n",
       "  color: var(--sklearn-color-background);\n",
       "  text-decoration: none;\n",
       "}\n",
       "\n",
       "/* Span, style for the box shown on hovering the info icon */\n",
       ".sk-estimator-doc-link span {\n",
       "  display: none;\n",
       "  z-index: 9999;\n",
       "  position: relative;\n",
       "  font-weight: normal;\n",
       "  right: .2ex;\n",
       "  padding: .5ex;\n",
       "  margin: .5ex;\n",
       "  width: min-content;\n",
       "  min-width: 20ex;\n",
       "  max-width: 50ex;\n",
       "  color: var(--sklearn-color-text);\n",
       "  box-shadow: 2pt 2pt 4pt #999;\n",
       "  /* unfitted */\n",
       "  background: var(--sklearn-color-unfitted-level-0);\n",
       "  border: .5pt solid var(--sklearn-color-unfitted-level-3);\n",
       "}\n",
       "\n",
       ".sk-estimator-doc-link.fitted span {\n",
       "  /* fitted */\n",
       "  background: var(--sklearn-color-fitted-level-0);\n",
       "  border: var(--sklearn-color-fitted-level-3);\n",
       "}\n",
       "\n",
       ".sk-estimator-doc-link:hover span {\n",
       "  display: block;\n",
       "}\n",
       "\n",
       "/* \"?\"-specific style due to the `<a>` HTML tag */\n",
       "\n",
       "#sk-container-id-1 a.estimator_doc_link {\n",
       "  float: right;\n",
       "  font-size: 1rem;\n",
       "  line-height: 1em;\n",
       "  font-family: monospace;\n",
       "  background-color: var(--sklearn-color-background);\n",
       "  border-radius: 1rem;\n",
       "  height: 1rem;\n",
       "  width: 1rem;\n",
       "  text-decoration: none;\n",
       "  /* unfitted */\n",
       "  color: var(--sklearn-color-unfitted-level-1);\n",
       "  border: var(--sklearn-color-unfitted-level-1) 1pt solid;\n",
       "}\n",
       "\n",
       "#sk-container-id-1 a.estimator_doc_link.fitted {\n",
       "  /* fitted */\n",
       "  border: var(--sklearn-color-fitted-level-1) 1pt solid;\n",
       "  color: var(--sklearn-color-fitted-level-1);\n",
       "}\n",
       "\n",
       "/* On hover */\n",
       "#sk-container-id-1 a.estimator_doc_link:hover {\n",
       "  /* unfitted */\n",
       "  background-color: var(--sklearn-color-unfitted-level-3);\n",
       "  color: var(--sklearn-color-background);\n",
       "  text-decoration: none;\n",
       "}\n",
       "\n",
       "#sk-container-id-1 a.estimator_doc_link.fitted:hover {\n",
       "  /* fitted */\n",
       "  background-color: var(--sklearn-color-fitted-level-3);\n",
       "}\n",
       "\n",
       ".estimator-table summary {\n",
       "    padding: .5rem;\n",
       "    font-family: monospace;\n",
       "    cursor: pointer;\n",
       "}\n",
       "\n",
       ".estimator-table details[open] {\n",
       "    padding-left: 0.1rem;\n",
       "    padding-right: 0.1rem;\n",
       "    padding-bottom: 0.3rem;\n",
       "}\n",
       "\n",
       ".estimator-table .parameters-table {\n",
       "    margin-left: auto !important;\n",
       "    margin-right: auto !important;\n",
       "}\n",
       "\n",
       ".estimator-table .parameters-table tr:nth-child(odd) {\n",
       "    background-color: #fff;\n",
       "}\n",
       "\n",
       ".estimator-table .parameters-table tr:nth-child(even) {\n",
       "    background-color: #f6f6f6;\n",
       "}\n",
       "\n",
       ".estimator-table .parameters-table tr:hover {\n",
       "    background-color: #e0e0e0;\n",
       "}\n",
       "\n",
       ".estimator-table table td {\n",
       "    border: 1px solid rgba(106, 105, 104, 0.232);\n",
       "}\n",
       "\n",
       ".user-set td {\n",
       "    color:rgb(255, 94, 0);\n",
       "    text-align: left;\n",
       "}\n",
       "\n",
       ".user-set td.value pre {\n",
       "    color:rgb(255, 94, 0) !important;\n",
       "    background-color: transparent !important;\n",
       "}\n",
       "\n",
       ".default td {\n",
       "    color: black;\n",
       "    text-align: left;\n",
       "}\n",
       "\n",
       ".user-set td i,\n",
       ".default td i {\n",
       "    color: black;\n",
       "}\n",
       "\n",
       ".copy-paste-icon {\n",
       "    background-image: url(data:image/svg+xml;base64,PHN2ZyB4bWxucz0iaHR0cDovL3d3dy53My5vcmcvMjAwMC9zdmciIHZpZXdCb3g9IjAgMCA0NDggNTEyIj48IS0tIUZvbnQgQXdlc29tZSBGcmVlIDYuNy4yIGJ5IEBmb250YXdlc29tZSAtIGh0dHBzOi8vZm9udGF3ZXNvbWUuY29tIExpY2Vuc2UgLSBodHRwczovL2ZvbnRhd2Vzb21lLmNvbS9saWNlbnNlL2ZyZWUgQ29weXJpZ2h0IDIwMjUgRm9udGljb25zLCBJbmMuLS0+PHBhdGggZD0iTTIwOCAwTDMzMi4xIDBjMTIuNyAwIDI0LjkgNS4xIDMzLjkgMTQuMWw2Ny45IDY3LjljOSA5IDE0LjEgMjEuMiAxNC4xIDMzLjlMNDQ4IDMzNmMwIDI2LjUtMjEuNSA0OC00OCA0OGwtMTkyIDBjLTI2LjUgMC00OC0yMS41LTQ4LTQ4bDAtMjg4YzAtMjYuNSAyMS41LTQ4IDQ4LTQ4ek00OCAxMjhsODAgMCAwIDY0LTY0IDAgMCAyNTYgMTkyIDAgMC0zMiA2NCAwIDAgNDhjMCAyNi41LTIxLjUgNDgtNDggNDhMNDggNTEyYy0yNi41IDAtNDgtMjEuNS00OC00OEwwIDE3NmMwLTI2LjUgMjEuNS00OCA0OC00OHoiLz48L3N2Zz4=);\n",
       "    background-repeat: no-repeat;\n",
       "    background-size: 14px 14px;\n",
       "    background-position: 0;\n",
       "    display: inline-block;\n",
       "    width: 14px;\n",
       "    height: 14px;\n",
       "    cursor: pointer;\n",
       "}\n",
       "</style><body><div id=\"sk-container-id-1\" class=\"sk-top-container\"><div class=\"sk-text-repr-fallback\"><pre>LogisticRegression(max_iter=1000, random_state=42, solver=&#x27;liblinear&#x27;)</pre><b>In a Jupyter environment, please rerun this cell to show the HTML representation or trust the notebook. <br />On GitHub, the HTML representation is unable to render, please try loading this page with nbviewer.org.</b></div><div class=\"sk-container\" hidden><div class=\"sk-item\"><div class=\"sk-estimator fitted sk-toggleable\"><input class=\"sk-toggleable__control sk-hidden--visually\" id=\"sk-estimator-id-1\" type=\"checkbox\" checked><label for=\"sk-estimator-id-1\" class=\"sk-toggleable__label fitted sk-toggleable__label-arrow\"><div><div>LogisticRegression</div></div><div><a class=\"sk-estimator-doc-link fitted\" rel=\"noreferrer\" target=\"_blank\" href=\"https://scikit-learn.org/1.7/modules/generated/sklearn.linear_model.LogisticRegression.html\">?<span>Documentation for LogisticRegression</span></a><span class=\"sk-estimator-doc-link fitted\">i<span>Fitted</span></span></div></label><div class=\"sk-toggleable__content fitted\" data-param-prefix=\"\">\n",
       "        <div class=\"estimator-table\">\n",
       "            <details>\n",
       "                <summary>Parameters</summary>\n",
       "                <table class=\"parameters-table\">\n",
       "                  <tbody>\n",
       "                    \n",
       "        <tr class=\"default\">\n",
       "            <td><i class=\"copy-paste-icon\"\n",
       "                 onclick=\"copyToClipboard('penalty',\n",
       "                          this.parentElement.nextElementSibling)\"\n",
       "            ></i></td>\n",
       "            <td class=\"param\">penalty&nbsp;</td>\n",
       "            <td class=\"value\">&#x27;l2&#x27;</td>\n",
       "        </tr>\n",
       "    \n",
       "\n",
       "        <tr class=\"default\">\n",
       "            <td><i class=\"copy-paste-icon\"\n",
       "                 onclick=\"copyToClipboard('dual',\n",
       "                          this.parentElement.nextElementSibling)\"\n",
       "            ></i></td>\n",
       "            <td class=\"param\">dual&nbsp;</td>\n",
       "            <td class=\"value\">False</td>\n",
       "        </tr>\n",
       "    \n",
       "\n",
       "        <tr class=\"default\">\n",
       "            <td><i class=\"copy-paste-icon\"\n",
       "                 onclick=\"copyToClipboard('tol',\n",
       "                          this.parentElement.nextElementSibling)\"\n",
       "            ></i></td>\n",
       "            <td class=\"param\">tol&nbsp;</td>\n",
       "            <td class=\"value\">0.0001</td>\n",
       "        </tr>\n",
       "    \n",
       "\n",
       "        <tr class=\"default\">\n",
       "            <td><i class=\"copy-paste-icon\"\n",
       "                 onclick=\"copyToClipboard('C',\n",
       "                          this.parentElement.nextElementSibling)\"\n",
       "            ></i></td>\n",
       "            <td class=\"param\">C&nbsp;</td>\n",
       "            <td class=\"value\">1.0</td>\n",
       "        </tr>\n",
       "    \n",
       "\n",
       "        <tr class=\"default\">\n",
       "            <td><i class=\"copy-paste-icon\"\n",
       "                 onclick=\"copyToClipboard('fit_intercept',\n",
       "                          this.parentElement.nextElementSibling)\"\n",
       "            ></i></td>\n",
       "            <td class=\"param\">fit_intercept&nbsp;</td>\n",
       "            <td class=\"value\">True</td>\n",
       "        </tr>\n",
       "    \n",
       "\n",
       "        <tr class=\"default\">\n",
       "            <td><i class=\"copy-paste-icon\"\n",
       "                 onclick=\"copyToClipboard('intercept_scaling',\n",
       "                          this.parentElement.nextElementSibling)\"\n",
       "            ></i></td>\n",
       "            <td class=\"param\">intercept_scaling&nbsp;</td>\n",
       "            <td class=\"value\">1</td>\n",
       "        </tr>\n",
       "    \n",
       "\n",
       "        <tr class=\"default\">\n",
       "            <td><i class=\"copy-paste-icon\"\n",
       "                 onclick=\"copyToClipboard('class_weight',\n",
       "                          this.parentElement.nextElementSibling)\"\n",
       "            ></i></td>\n",
       "            <td class=\"param\">class_weight&nbsp;</td>\n",
       "            <td class=\"value\">None</td>\n",
       "        </tr>\n",
       "    \n",
       "\n",
       "        <tr class=\"user-set\">\n",
       "            <td><i class=\"copy-paste-icon\"\n",
       "                 onclick=\"copyToClipboard('random_state',\n",
       "                          this.parentElement.nextElementSibling)\"\n",
       "            ></i></td>\n",
       "            <td class=\"param\">random_state&nbsp;</td>\n",
       "            <td class=\"value\">42</td>\n",
       "        </tr>\n",
       "    \n",
       "\n",
       "        <tr class=\"user-set\">\n",
       "            <td><i class=\"copy-paste-icon\"\n",
       "                 onclick=\"copyToClipboard('solver',\n",
       "                          this.parentElement.nextElementSibling)\"\n",
       "            ></i></td>\n",
       "            <td class=\"param\">solver&nbsp;</td>\n",
       "            <td class=\"value\">&#x27;liblinear&#x27;</td>\n",
       "        </tr>\n",
       "    \n",
       "\n",
       "        <tr class=\"user-set\">\n",
       "            <td><i class=\"copy-paste-icon\"\n",
       "                 onclick=\"copyToClipboard('max_iter',\n",
       "                          this.parentElement.nextElementSibling)\"\n",
       "            ></i></td>\n",
       "            <td class=\"param\">max_iter&nbsp;</td>\n",
       "            <td class=\"value\">1000</td>\n",
       "        </tr>\n",
       "    \n",
       "\n",
       "        <tr class=\"default\">\n",
       "            <td><i class=\"copy-paste-icon\"\n",
       "                 onclick=\"copyToClipboard('multi_class',\n",
       "                          this.parentElement.nextElementSibling)\"\n",
       "            ></i></td>\n",
       "            <td class=\"param\">multi_class&nbsp;</td>\n",
       "            <td class=\"value\">&#x27;deprecated&#x27;</td>\n",
       "        </tr>\n",
       "    \n",
       "\n",
       "        <tr class=\"default\">\n",
       "            <td><i class=\"copy-paste-icon\"\n",
       "                 onclick=\"copyToClipboard('verbose',\n",
       "                          this.parentElement.nextElementSibling)\"\n",
       "            ></i></td>\n",
       "            <td class=\"param\">verbose&nbsp;</td>\n",
       "            <td class=\"value\">0</td>\n",
       "        </tr>\n",
       "    \n",
       "\n",
       "        <tr class=\"default\">\n",
       "            <td><i class=\"copy-paste-icon\"\n",
       "                 onclick=\"copyToClipboard('warm_start',\n",
       "                          this.parentElement.nextElementSibling)\"\n",
       "            ></i></td>\n",
       "            <td class=\"param\">warm_start&nbsp;</td>\n",
       "            <td class=\"value\">False</td>\n",
       "        </tr>\n",
       "    \n",
       "\n",
       "        <tr class=\"default\">\n",
       "            <td><i class=\"copy-paste-icon\"\n",
       "                 onclick=\"copyToClipboard('n_jobs',\n",
       "                          this.parentElement.nextElementSibling)\"\n",
       "            ></i></td>\n",
       "            <td class=\"param\">n_jobs&nbsp;</td>\n",
       "            <td class=\"value\">None</td>\n",
       "        </tr>\n",
       "    \n",
       "\n",
       "        <tr class=\"default\">\n",
       "            <td><i class=\"copy-paste-icon\"\n",
       "                 onclick=\"copyToClipboard('l1_ratio',\n",
       "                          this.parentElement.nextElementSibling)\"\n",
       "            ></i></td>\n",
       "            <td class=\"param\">l1_ratio&nbsp;</td>\n",
       "            <td class=\"value\">None</td>\n",
       "        </tr>\n",
       "    \n",
       "                  </tbody>\n",
       "                </table>\n",
       "            </details>\n",
       "        </div>\n",
       "    </div></div></div></div></div><script>function copyToClipboard(text, element) {\n",
       "    // Get the parameter prefix from the closest toggleable content\n",
       "    const toggleableContent = element.closest('.sk-toggleable__content');\n",
       "    const paramPrefix = toggleableContent ? toggleableContent.dataset.paramPrefix : '';\n",
       "    const fullParamName = paramPrefix ? `${paramPrefix}${text}` : text;\n",
       "\n",
       "    const originalStyle = element.style;\n",
       "    const computedStyle = window.getComputedStyle(element);\n",
       "    const originalWidth = computedStyle.width;\n",
       "    const originalHTML = element.innerHTML.replace('Copied!', '');\n",
       "\n",
       "    navigator.clipboard.writeText(fullParamName)\n",
       "        .then(() => {\n",
       "            element.style.width = originalWidth;\n",
       "            element.style.color = 'green';\n",
       "            element.innerHTML = \"Copied!\";\n",
       "\n",
       "            setTimeout(() => {\n",
       "                element.innerHTML = originalHTML;\n",
       "                element.style = originalStyle;\n",
       "            }, 2000);\n",
       "        })\n",
       "        .catch(err => {\n",
       "            console.error('Failed to copy:', err);\n",
       "            element.style.color = 'red';\n",
       "            element.innerHTML = \"Failed!\";\n",
       "            setTimeout(() => {\n",
       "                element.innerHTML = originalHTML;\n",
       "                element.style = originalStyle;\n",
       "            }, 2000);\n",
       "        });\n",
       "    return false;\n",
       "}\n",
       "\n",
       "document.querySelectorAll('.fa-regular.fa-copy').forEach(function(element) {\n",
       "    const toggleableContent = element.closest('.sk-toggleable__content');\n",
       "    const paramPrefix = toggleableContent ? toggleableContent.dataset.paramPrefix : '';\n",
       "    const paramName = element.parentElement.nextElementSibling.textContent.trim();\n",
       "    const fullParamName = paramPrefix ? `${paramPrefix}${paramName}` : paramName;\n",
       "\n",
       "    element.setAttribute('title', fullParamName);\n",
       "});\n",
       "</script></body>"
      ],
      "text/plain": [
       "LogisticRegression(max_iter=1000, random_state=42, solver='liblinear')"
      ]
     },
     "execution_count": 39,
     "metadata": {},
     "output_type": "execute_result"
    }
   ],
   "source": [
    "model.fit(X_train, y_train)"
   ]
  },
  {
   "cell_type": "code",
   "execution_count": 40,
   "id": "4c98616a-daf6-418d-8241-abe6e9a2f638",
   "metadata": {},
   "outputs": [],
   "source": [
    "from sklearn.metrics import accuracy_score"
   ]
  },
  {
   "cell_type": "code",
   "execution_count": 41,
   "id": "2d227882-4319-4ffa-a182-eae053eb12b3",
   "metadata": {},
   "outputs": [],
   "source": [
    "y_pred = model.predict(X_val)"
   ]
  },
  {
   "cell_type": "code",
   "execution_count": 42,
   "id": "b18a65e8-56ab-45d0-a5d4-0b0a468c7d20",
   "metadata": {
    "scrolled": true
   },
   "outputs": [
    {
     "name": "stdout",
     "output_type": "stream",
     "text": [
      "Accuracy: 0.70\n"
     ]
    }
   ],
   "source": [
    "accuracy = accuracy_score(y_val, y_pred)\n",
    "print(f\"Accuracy: {accuracy:.2f}\")"
   ]
  },
  {
   "cell_type": "markdown",
   "id": "3908ad52-4eca-4dfd-96fd-9e88165b92cd",
   "metadata": {},
   "source": [
    "### Question 5\n",
    "- Let's find the least useful feature using the feature elimination technique.\n",
    "- Train a model using the same features and parameters as in Q4 (without rounding).\n",
    "- Now exclude each feature from this set and train a model without it. Record the accuracy for each model.\n",
    "- For each feature, calculate the difference between the original accuracy and the accuracy without the feature.\n",
    "- Which of following feature has the smallest difference?\n",
    "\n",
    "> - 'industry'\n",
    "> - 'employment_status'\n",
    "> - 'lead_score'"
   ]
  },
  {
   "cell_type": "markdown",
   "id": "00458d0b-b087-4291-8346-add4ed52579b",
   "metadata": {},
   "source": [
    "-# Features elimination one by one\n",
    "feature_impacts = {}\n",
    "\n",
    "for feature in data_full_train.columns:\n",
    "    data_full_train_temp = data_full_train.drop(columns=[feature])\n",
    "    data_train_sel, data_val_sel = train_test_split(data_full_train_temp, test_size=0.25, random_state=42)\n",
    "    data_train = data_train.reset_index(drop=True)\n",
    "    data_val = data_val.reset_index(drop=True)\n",
    "    y_train = data_train.converted.values\n",
    "    y_val = data_val.converted.values\n",
    "    \n",
    "    X_train = dv.fit_transform(train_dicts)\n",
    "    X_val = dv.fit_transform(val_dicts)\n",
    "    \n",
    "    model = LogisticRegression(solver='liblinear', C=1.0, max_iter=1000, random_state=42)\n",
    "    model.fit(X_train, y_train)\n",
    "    y_pred = model.predict(X_val)\n",
    "    acc = accuracy_score(y_val, y_pred)\n",
    "    \n",
    "    feature_impacts[feature] = acc\n",
    "\n",
    "-# Results\n",
    "results = pd.DataFrame.from_dict(feature_impacts, orient='index', columns=['Accuracy'])\n",
    "results['Diff'] = results['Accuracy'] - base_accuracy\n",
    "results.sort_values(by='Accuracy', ascending=True, inplace=True)\n",
    "\n",
    "print(\"Impact de la suppression de chaque feature :\\n\")\n",
    "print(results)\n"
   ]
  },
  {
   "cell_type": "markdown",
   "id": "67287617-4b01-40b9-a39a-d106a9b8f043",
   "metadata": {},
   "source": [
    " Dropping var\n",
    "from sklearn.linear_model import LogisticRegression\n",
    "from sklearn.metrics import accuracy_score\n",
    "import pandas as pd\n",
    "\n",
    "feature_impacts = {}\n",
    "\n",
    " Liste des features (tes 9 variables explicatives)\n",
    "features = categorical_columns + num_columns\n",
    "\n",
    "for feature in features:\n",
    "    # Supprimer la feature courante\n",
    "    temp_features = [f for f in features if f != feature]\n",
    "\n",
    "    # Recréer les dicts pour DictVectorizer\n",
    "    train_dicts_temp = data_train[temp_features].to_dict(orient='records')\n",
    "    val_dicts_temp = data_val[temp_features].to_dict(orient='records')\n",
    "\n",
    "    X_train_temp = dv.fit_transform(train_dicts_temp)\n",
    "    X_val_temp = dv.transform(val_dicts_temp)\n",
    "\n",
    "    # Réentraîner le modèle\n",
    "    model_temp = LogisticRegression(solver='liblinear', C=1.0, max_iter=1000, random_state=42)\n",
    "    model_temp.fit(X_train_temp, y_train)\n",
    "\n",
    "    # Prédiction et évaluation\n",
    "    y_pred_temp = model_temp.predict(X_val_temp)\n",
    "    acc = accuracy_score(y_val, y_pred_temp)\n",
    "\n",
    "    feature_impacts[feature] = acc\n",
    "\n",
    "Résultat sous forme de DataFrame\n",
    "results = pd.DataFrame.from_dict(feature_impacts, orient='index', columns=['Accuracy'])\n",
    "results['Diff'] = results['Accuracy'] - accuracy  # différence avec le modèle de base\n",
    "results.sort_values(by='Accuracy', ascending=False, inplace=True)\n",
    "\n",
    "print(\"Impact de la suppression de chaque variable :\")\n",
    "print(results)\n"
   ]
  },
  {
   "cell_type": "code",
   "execution_count": 43,
   "id": "22680512-9672-4c01-bfbf-2067bdf561df",
   "metadata": {},
   "outputs": [
    {
     "name": "stdout",
     "output_type": "stream",
     "text": [
      "Impact of removing each feature:\n",
      "                          Accuracy      Diff\n",
      "annual_income             0.853242  0.153584\n",
      "location                  0.709898  0.010239\n",
      "lead_score                0.706485  0.006826\n",
      "lead_source               0.703072  0.003413\n",
      "industry                  0.699659  0.000000\n",
      "employment_status         0.696246 -0.003413\n",
      "number_of_courses_viewed  0.556314 -0.143345\n",
      "interaction_count         0.556314 -0.143345\n"
     ]
    }
   ],
   "source": [
    "# Dictionary to store the impact of removing each feature\n",
    "feature_impacts = {}\n",
    "\n",
    "# List of features (your 9 explanatory variables)\n",
    "features = categorical_columns + num_columns\n",
    "\n",
    "# Loop through each feature to evaluate its impact\n",
    "for feature in features:\n",
    "    # Create a list of features excluding the current one\n",
    "    temp_features = [f for f in features if f != feature]\n",
    "\n",
    "    # Convert the selected features to dictionaries for DictVectorizer\n",
    "    train_dicts_temp = data_train[temp_features].to_dict(orient='records')\n",
    "    val_dicts_temp = data_val[temp_features].to_dict(orient='records')\n",
    "\n",
    "    # Transform the dictionaries into feature matrices\n",
    "    X_train_temp = dv.fit_transform(train_dicts_temp)  \n",
    "    X_val_temp = dv.transform(val_dicts_temp)          \n",
    "\n",
    "    # Train a logistic regression model with the reduced feature set\n",
    "    model_temp = LogisticRegression(solver='liblinear', C=1.0, max_iter=1000, random_state=42)\n",
    "    model_temp.fit(X_train_temp, y_train)\n",
    "\n",
    "    # Make predictions and calculate accuracy\n",
    "    y_pred_temp = model_temp.predict(X_val_temp)\n",
    "    acc = accuracy_score(y_val, y_pred_temp)\n",
    "\n",
    "    # Store the accuracy after removing this feature\n",
    "    feature_impacts[feature] = acc\n",
    "\n",
    "# Convert the results into a DataFrame for easy analysis\n",
    "results = pd.DataFrame.from_dict(feature_impacts, orient='index', columns=['Accuracy'])\n",
    "\n",
    "# Calculate the difference from the base model accuracy\n",
    "results['Diff'] = results['Accuracy'] - accuracy  # 'accuracy' is the base model accuracy\n",
    "\n",
    "# Sort features by their impact on accuracy (highest accuracy first)\n",
    "results.sort_values(by='Accuracy', ascending=False, inplace=True)\n",
    "\n",
    "# Display the results\n",
    "print(\"Impact of removing each feature:\")\n",
    "print(results)\n"
   ]
  },
  {
   "cell_type": "markdown",
   "id": "5014e67a-d3af-49c2-b243-d832a64cc77f",
   "metadata": {},
   "source": [
    "### Question 6\n",
    "- Now let's train a regularized logistic regression.\n",
    "- Let's try the following values of the parameter C: [0.01, 0.1, 1, 10, 100].\n",
    "- Train models using all the features as in Q4.\n",
    "- Calculate the accuracy on the validation dataset and round it to 3 decimal digits.\n",
    "- Which of these C leads to the best accuracy on the validation set?"
   ]
  },
  {
   "cell_type": "code",
   "execution_count": 44,
   "id": "ca65cb9c-c4d4-4f31-8094-01bc8ad3b467",
   "metadata": {},
   "outputs": [
    {
     "name": "stdout",
     "output_type": "stream",
     "text": [
      "Accuracy for  C values :\n",
      "C =   0.01 → Accuracy = 0.700\n",
      "C =    0.1 → Accuracy = 0.700\n",
      "C =      1 → Accuracy = 0.700\n",
      "C =     10 → Accuracy = 0.700\n",
      "C =    100 → Accuracy = 0.700\n"
     ]
    }
   ],
   "source": [
    "# List of c values\n",
    "C_values = [0.01, 0.1, 1, 10, 100]\n",
    "\n",
    "results_C = []\n",
    "\n",
    "for C in C_values:\n",
    "    # Creating model\n",
    "    model_ = LogisticRegression(solver='liblinear', C=C, max_iter=1000, random_state=42)\n",
    "    \n",
    "    # Train\n",
    "    model_.fit(X_train, y_train)\n",
    "    \n",
    "    # Prediction\n",
    "    y_pred = model_.predict(X_val)\n",
    "    \n",
    "    # Accuracy\n",
    "    acc = accuracy_score(y_val, y_pred)\n",
    "    \n",
    "    results_C.append((C, acc))\n",
    "\n",
    "# Display results\n",
    "print(\"Accuracy for  C values :\")\n",
    "for C, acc in results_C:\n",
    "    print(f\"C = {C:>6} → Accuracy = {acc:.3f}\")\n"
   ]
  },
  {
   "cell_type": "markdown",
   "id": "51d3839c-c996-4de3-b52d-37ee812623e2",
   "metadata": {},
   "source": [
    "# Module 4: Evaluation"
   ]
  },
  {
   "cell_type": "markdown",
   "id": "cb6d62fe-adbd-48ed-b627-53621d2cf855",
   "metadata": {},
   "source": [
    "## 1. Accuracy"
   ]
  },
  {
   "cell_type": "code",
   "execution_count": 45,
   "id": "bd90613d-d939-49e3-9a73-cd792d5d9b0a",
   "metadata": {},
   "outputs": [],
   "source": [
    "model4 = LogisticRegression(solver='liblinear', C=1.0, max_iter=1000, random_state=42)"
   ]
  },
  {
   "cell_type": "code",
   "execution_count": 46,
   "id": "6e9c3f61-9224-4b2d-a5e6-d476970ec65e",
   "metadata": {},
   "outputs": [
    {
     "data": {
      "text/html": [
       "<style>#sk-container-id-2 {\n",
       "  /* Definition of color scheme common for light and dark mode */\n",
       "  --sklearn-color-text: #000;\n",
       "  --sklearn-color-text-muted: #666;\n",
       "  --sklearn-color-line: gray;\n",
       "  /* Definition of color scheme for unfitted estimators */\n",
       "  --sklearn-color-unfitted-level-0: #fff5e6;\n",
       "  --sklearn-color-unfitted-level-1: #f6e4d2;\n",
       "  --sklearn-color-unfitted-level-2: #ffe0b3;\n",
       "  --sklearn-color-unfitted-level-3: chocolate;\n",
       "  /* Definition of color scheme for fitted estimators */\n",
       "  --sklearn-color-fitted-level-0: #f0f8ff;\n",
       "  --sklearn-color-fitted-level-1: #d4ebff;\n",
       "  --sklearn-color-fitted-level-2: #b3dbfd;\n",
       "  --sklearn-color-fitted-level-3: cornflowerblue;\n",
       "\n",
       "  /* Specific color for light theme */\n",
       "  --sklearn-color-text-on-default-background: var(--sg-text-color, var(--theme-code-foreground, var(--jp-content-font-color1, black)));\n",
       "  --sklearn-color-background: var(--sg-background-color, var(--theme-background, var(--jp-layout-color0, white)));\n",
       "  --sklearn-color-border-box: var(--sg-text-color, var(--theme-code-foreground, var(--jp-content-font-color1, black)));\n",
       "  --sklearn-color-icon: #696969;\n",
       "\n",
       "  @media (prefers-color-scheme: dark) {\n",
       "    /* Redefinition of color scheme for dark theme */\n",
       "    --sklearn-color-text-on-default-background: var(--sg-text-color, var(--theme-code-foreground, var(--jp-content-font-color1, white)));\n",
       "    --sklearn-color-background: var(--sg-background-color, var(--theme-background, var(--jp-layout-color0, #111)));\n",
       "    --sklearn-color-border-box: var(--sg-text-color, var(--theme-code-foreground, var(--jp-content-font-color1, white)));\n",
       "    --sklearn-color-icon: #878787;\n",
       "  }\n",
       "}\n",
       "\n",
       "#sk-container-id-2 {\n",
       "  color: var(--sklearn-color-text);\n",
       "}\n",
       "\n",
       "#sk-container-id-2 pre {\n",
       "  padding: 0;\n",
       "}\n",
       "\n",
       "#sk-container-id-2 input.sk-hidden--visually {\n",
       "  border: 0;\n",
       "  clip: rect(1px 1px 1px 1px);\n",
       "  clip: rect(1px, 1px, 1px, 1px);\n",
       "  height: 1px;\n",
       "  margin: -1px;\n",
       "  overflow: hidden;\n",
       "  padding: 0;\n",
       "  position: absolute;\n",
       "  width: 1px;\n",
       "}\n",
       "\n",
       "#sk-container-id-2 div.sk-dashed-wrapped {\n",
       "  border: 1px dashed var(--sklearn-color-line);\n",
       "  margin: 0 0.4em 0.5em 0.4em;\n",
       "  box-sizing: border-box;\n",
       "  padding-bottom: 0.4em;\n",
       "  background-color: var(--sklearn-color-background);\n",
       "}\n",
       "\n",
       "#sk-container-id-2 div.sk-container {\n",
       "  /* jupyter's `normalize.less` sets `[hidden] { display: none; }`\n",
       "     but bootstrap.min.css set `[hidden] { display: none !important; }`\n",
       "     so we also need the `!important` here to be able to override the\n",
       "     default hidden behavior on the sphinx rendered scikit-learn.org.\n",
       "     See: https://github.com/scikit-learn/scikit-learn/issues/21755 */\n",
       "  display: inline-block !important;\n",
       "  position: relative;\n",
       "}\n",
       "\n",
       "#sk-container-id-2 div.sk-text-repr-fallback {\n",
       "  display: none;\n",
       "}\n",
       "\n",
       "div.sk-parallel-item,\n",
       "div.sk-serial,\n",
       "div.sk-item {\n",
       "  /* draw centered vertical line to link estimators */\n",
       "  background-image: linear-gradient(var(--sklearn-color-text-on-default-background), var(--sklearn-color-text-on-default-background));\n",
       "  background-size: 2px 100%;\n",
       "  background-repeat: no-repeat;\n",
       "  background-position: center center;\n",
       "}\n",
       "\n",
       "/* Parallel-specific style estimator block */\n",
       "\n",
       "#sk-container-id-2 div.sk-parallel-item::after {\n",
       "  content: \"\";\n",
       "  width: 100%;\n",
       "  border-bottom: 2px solid var(--sklearn-color-text-on-default-background);\n",
       "  flex-grow: 1;\n",
       "}\n",
       "\n",
       "#sk-container-id-2 div.sk-parallel {\n",
       "  display: flex;\n",
       "  align-items: stretch;\n",
       "  justify-content: center;\n",
       "  background-color: var(--sklearn-color-background);\n",
       "  position: relative;\n",
       "}\n",
       "\n",
       "#sk-container-id-2 div.sk-parallel-item {\n",
       "  display: flex;\n",
       "  flex-direction: column;\n",
       "}\n",
       "\n",
       "#sk-container-id-2 div.sk-parallel-item:first-child::after {\n",
       "  align-self: flex-end;\n",
       "  width: 50%;\n",
       "}\n",
       "\n",
       "#sk-container-id-2 div.sk-parallel-item:last-child::after {\n",
       "  align-self: flex-start;\n",
       "  width: 50%;\n",
       "}\n",
       "\n",
       "#sk-container-id-2 div.sk-parallel-item:only-child::after {\n",
       "  width: 0;\n",
       "}\n",
       "\n",
       "/* Serial-specific style estimator block */\n",
       "\n",
       "#sk-container-id-2 div.sk-serial {\n",
       "  display: flex;\n",
       "  flex-direction: column;\n",
       "  align-items: center;\n",
       "  background-color: var(--sklearn-color-background);\n",
       "  padding-right: 1em;\n",
       "  padding-left: 1em;\n",
       "}\n",
       "\n",
       "\n",
       "/* Toggleable style: style used for estimator/Pipeline/ColumnTransformer box that is\n",
       "clickable and can be expanded/collapsed.\n",
       "- Pipeline and ColumnTransformer use this feature and define the default style\n",
       "- Estimators will overwrite some part of the style using the `sk-estimator` class\n",
       "*/\n",
       "\n",
       "/* Pipeline and ColumnTransformer style (default) */\n",
       "\n",
       "#sk-container-id-2 div.sk-toggleable {\n",
       "  /* Default theme specific background. It is overwritten whether we have a\n",
       "  specific estimator or a Pipeline/ColumnTransformer */\n",
       "  background-color: var(--sklearn-color-background);\n",
       "}\n",
       "\n",
       "/* Toggleable label */\n",
       "#sk-container-id-2 label.sk-toggleable__label {\n",
       "  cursor: pointer;\n",
       "  display: flex;\n",
       "  width: 100%;\n",
       "  margin-bottom: 0;\n",
       "  padding: 0.5em;\n",
       "  box-sizing: border-box;\n",
       "  text-align: center;\n",
       "  align-items: start;\n",
       "  justify-content: space-between;\n",
       "  gap: 0.5em;\n",
       "}\n",
       "\n",
       "#sk-container-id-2 label.sk-toggleable__label .caption {\n",
       "  font-size: 0.6rem;\n",
       "  font-weight: lighter;\n",
       "  color: var(--sklearn-color-text-muted);\n",
       "}\n",
       "\n",
       "#sk-container-id-2 label.sk-toggleable__label-arrow:before {\n",
       "  /* Arrow on the left of the label */\n",
       "  content: \"▸\";\n",
       "  float: left;\n",
       "  margin-right: 0.25em;\n",
       "  color: var(--sklearn-color-icon);\n",
       "}\n",
       "\n",
       "#sk-container-id-2 label.sk-toggleable__label-arrow:hover:before {\n",
       "  color: var(--sklearn-color-text);\n",
       "}\n",
       "\n",
       "/* Toggleable content - dropdown */\n",
       "\n",
       "#sk-container-id-2 div.sk-toggleable__content {\n",
       "  display: none;\n",
       "  text-align: left;\n",
       "  /* unfitted */\n",
       "  background-color: var(--sklearn-color-unfitted-level-0);\n",
       "}\n",
       "\n",
       "#sk-container-id-2 div.sk-toggleable__content.fitted {\n",
       "  /* fitted */\n",
       "  background-color: var(--sklearn-color-fitted-level-0);\n",
       "}\n",
       "\n",
       "#sk-container-id-2 div.sk-toggleable__content pre {\n",
       "  margin: 0.2em;\n",
       "  border-radius: 0.25em;\n",
       "  color: var(--sklearn-color-text);\n",
       "  /* unfitted */\n",
       "  background-color: var(--sklearn-color-unfitted-level-0);\n",
       "}\n",
       "\n",
       "#sk-container-id-2 div.sk-toggleable__content.fitted pre {\n",
       "  /* unfitted */\n",
       "  background-color: var(--sklearn-color-fitted-level-0);\n",
       "}\n",
       "\n",
       "#sk-container-id-2 input.sk-toggleable__control:checked~div.sk-toggleable__content {\n",
       "  /* Expand drop-down */\n",
       "  display: block;\n",
       "  width: 100%;\n",
       "  overflow: visible;\n",
       "}\n",
       "\n",
       "#sk-container-id-2 input.sk-toggleable__control:checked~label.sk-toggleable__label-arrow:before {\n",
       "  content: \"▾\";\n",
       "}\n",
       "\n",
       "/* Pipeline/ColumnTransformer-specific style */\n",
       "\n",
       "#sk-container-id-2 div.sk-label input.sk-toggleable__control:checked~label.sk-toggleable__label {\n",
       "  color: var(--sklearn-color-text);\n",
       "  background-color: var(--sklearn-color-unfitted-level-2);\n",
       "}\n",
       "\n",
       "#sk-container-id-2 div.sk-label.fitted input.sk-toggleable__control:checked~label.sk-toggleable__label {\n",
       "  background-color: var(--sklearn-color-fitted-level-2);\n",
       "}\n",
       "\n",
       "/* Estimator-specific style */\n",
       "\n",
       "/* Colorize estimator box */\n",
       "#sk-container-id-2 div.sk-estimator input.sk-toggleable__control:checked~label.sk-toggleable__label {\n",
       "  /* unfitted */\n",
       "  background-color: var(--sklearn-color-unfitted-level-2);\n",
       "}\n",
       "\n",
       "#sk-container-id-2 div.sk-estimator.fitted input.sk-toggleable__control:checked~label.sk-toggleable__label {\n",
       "  /* fitted */\n",
       "  background-color: var(--sklearn-color-fitted-level-2);\n",
       "}\n",
       "\n",
       "#sk-container-id-2 div.sk-label label.sk-toggleable__label,\n",
       "#sk-container-id-2 div.sk-label label {\n",
       "  /* The background is the default theme color */\n",
       "  color: var(--sklearn-color-text-on-default-background);\n",
       "}\n",
       "\n",
       "/* On hover, darken the color of the background */\n",
       "#sk-container-id-2 div.sk-label:hover label.sk-toggleable__label {\n",
       "  color: var(--sklearn-color-text);\n",
       "  background-color: var(--sklearn-color-unfitted-level-2);\n",
       "}\n",
       "\n",
       "/* Label box, darken color on hover, fitted */\n",
       "#sk-container-id-2 div.sk-label.fitted:hover label.sk-toggleable__label.fitted {\n",
       "  color: var(--sklearn-color-text);\n",
       "  background-color: var(--sklearn-color-fitted-level-2);\n",
       "}\n",
       "\n",
       "/* Estimator label */\n",
       "\n",
       "#sk-container-id-2 div.sk-label label {\n",
       "  font-family: monospace;\n",
       "  font-weight: bold;\n",
       "  display: inline-block;\n",
       "  line-height: 1.2em;\n",
       "}\n",
       "\n",
       "#sk-container-id-2 div.sk-label-container {\n",
       "  text-align: center;\n",
       "}\n",
       "\n",
       "/* Estimator-specific */\n",
       "#sk-container-id-2 div.sk-estimator {\n",
       "  font-family: monospace;\n",
       "  border: 1px dotted var(--sklearn-color-border-box);\n",
       "  border-radius: 0.25em;\n",
       "  box-sizing: border-box;\n",
       "  margin-bottom: 0.5em;\n",
       "  /* unfitted */\n",
       "  background-color: var(--sklearn-color-unfitted-level-0);\n",
       "}\n",
       "\n",
       "#sk-container-id-2 div.sk-estimator.fitted {\n",
       "  /* fitted */\n",
       "  background-color: var(--sklearn-color-fitted-level-0);\n",
       "}\n",
       "\n",
       "/* on hover */\n",
       "#sk-container-id-2 div.sk-estimator:hover {\n",
       "  /* unfitted */\n",
       "  background-color: var(--sklearn-color-unfitted-level-2);\n",
       "}\n",
       "\n",
       "#sk-container-id-2 div.sk-estimator.fitted:hover {\n",
       "  /* fitted */\n",
       "  background-color: var(--sklearn-color-fitted-level-2);\n",
       "}\n",
       "\n",
       "/* Specification for estimator info (e.g. \"i\" and \"?\") */\n",
       "\n",
       "/* Common style for \"i\" and \"?\" */\n",
       "\n",
       ".sk-estimator-doc-link,\n",
       "a:link.sk-estimator-doc-link,\n",
       "a:visited.sk-estimator-doc-link {\n",
       "  float: right;\n",
       "  font-size: smaller;\n",
       "  line-height: 1em;\n",
       "  font-family: monospace;\n",
       "  background-color: var(--sklearn-color-background);\n",
       "  border-radius: 1em;\n",
       "  height: 1em;\n",
       "  width: 1em;\n",
       "  text-decoration: none !important;\n",
       "  margin-left: 0.5em;\n",
       "  text-align: center;\n",
       "  /* unfitted */\n",
       "  border: var(--sklearn-color-unfitted-level-1) 1pt solid;\n",
       "  color: var(--sklearn-color-unfitted-level-1);\n",
       "}\n",
       "\n",
       ".sk-estimator-doc-link.fitted,\n",
       "a:link.sk-estimator-doc-link.fitted,\n",
       "a:visited.sk-estimator-doc-link.fitted {\n",
       "  /* fitted */\n",
       "  border: var(--sklearn-color-fitted-level-1) 1pt solid;\n",
       "  color: var(--sklearn-color-fitted-level-1);\n",
       "}\n",
       "\n",
       "/* On hover */\n",
       "div.sk-estimator:hover .sk-estimator-doc-link:hover,\n",
       ".sk-estimator-doc-link:hover,\n",
       "div.sk-label-container:hover .sk-estimator-doc-link:hover,\n",
       ".sk-estimator-doc-link:hover {\n",
       "  /* unfitted */\n",
       "  background-color: var(--sklearn-color-unfitted-level-3);\n",
       "  color: var(--sklearn-color-background);\n",
       "  text-decoration: none;\n",
       "}\n",
       "\n",
       "div.sk-estimator.fitted:hover .sk-estimator-doc-link.fitted:hover,\n",
       ".sk-estimator-doc-link.fitted:hover,\n",
       "div.sk-label-container:hover .sk-estimator-doc-link.fitted:hover,\n",
       ".sk-estimator-doc-link.fitted:hover {\n",
       "  /* fitted */\n",
       "  background-color: var(--sklearn-color-fitted-level-3);\n",
       "  color: var(--sklearn-color-background);\n",
       "  text-decoration: none;\n",
       "}\n",
       "\n",
       "/* Span, style for the box shown on hovering the info icon */\n",
       ".sk-estimator-doc-link span {\n",
       "  display: none;\n",
       "  z-index: 9999;\n",
       "  position: relative;\n",
       "  font-weight: normal;\n",
       "  right: .2ex;\n",
       "  padding: .5ex;\n",
       "  margin: .5ex;\n",
       "  width: min-content;\n",
       "  min-width: 20ex;\n",
       "  max-width: 50ex;\n",
       "  color: var(--sklearn-color-text);\n",
       "  box-shadow: 2pt 2pt 4pt #999;\n",
       "  /* unfitted */\n",
       "  background: var(--sklearn-color-unfitted-level-0);\n",
       "  border: .5pt solid var(--sklearn-color-unfitted-level-3);\n",
       "}\n",
       "\n",
       ".sk-estimator-doc-link.fitted span {\n",
       "  /* fitted */\n",
       "  background: var(--sklearn-color-fitted-level-0);\n",
       "  border: var(--sklearn-color-fitted-level-3);\n",
       "}\n",
       "\n",
       ".sk-estimator-doc-link:hover span {\n",
       "  display: block;\n",
       "}\n",
       "\n",
       "/* \"?\"-specific style due to the `<a>` HTML tag */\n",
       "\n",
       "#sk-container-id-2 a.estimator_doc_link {\n",
       "  float: right;\n",
       "  font-size: 1rem;\n",
       "  line-height: 1em;\n",
       "  font-family: monospace;\n",
       "  background-color: var(--sklearn-color-background);\n",
       "  border-radius: 1rem;\n",
       "  height: 1rem;\n",
       "  width: 1rem;\n",
       "  text-decoration: none;\n",
       "  /* unfitted */\n",
       "  color: var(--sklearn-color-unfitted-level-1);\n",
       "  border: var(--sklearn-color-unfitted-level-1) 1pt solid;\n",
       "}\n",
       "\n",
       "#sk-container-id-2 a.estimator_doc_link.fitted {\n",
       "  /* fitted */\n",
       "  border: var(--sklearn-color-fitted-level-1) 1pt solid;\n",
       "  color: var(--sklearn-color-fitted-level-1);\n",
       "}\n",
       "\n",
       "/* On hover */\n",
       "#sk-container-id-2 a.estimator_doc_link:hover {\n",
       "  /* unfitted */\n",
       "  background-color: var(--sklearn-color-unfitted-level-3);\n",
       "  color: var(--sklearn-color-background);\n",
       "  text-decoration: none;\n",
       "}\n",
       "\n",
       "#sk-container-id-2 a.estimator_doc_link.fitted:hover {\n",
       "  /* fitted */\n",
       "  background-color: var(--sklearn-color-fitted-level-3);\n",
       "}\n",
       "\n",
       ".estimator-table summary {\n",
       "    padding: .5rem;\n",
       "    font-family: monospace;\n",
       "    cursor: pointer;\n",
       "}\n",
       "\n",
       ".estimator-table details[open] {\n",
       "    padding-left: 0.1rem;\n",
       "    padding-right: 0.1rem;\n",
       "    padding-bottom: 0.3rem;\n",
       "}\n",
       "\n",
       ".estimator-table .parameters-table {\n",
       "    margin-left: auto !important;\n",
       "    margin-right: auto !important;\n",
       "}\n",
       "\n",
       ".estimator-table .parameters-table tr:nth-child(odd) {\n",
       "    background-color: #fff;\n",
       "}\n",
       "\n",
       ".estimator-table .parameters-table tr:nth-child(even) {\n",
       "    background-color: #f6f6f6;\n",
       "}\n",
       "\n",
       ".estimator-table .parameters-table tr:hover {\n",
       "    background-color: #e0e0e0;\n",
       "}\n",
       "\n",
       ".estimator-table table td {\n",
       "    border: 1px solid rgba(106, 105, 104, 0.232);\n",
       "}\n",
       "\n",
       ".user-set td {\n",
       "    color:rgb(255, 94, 0);\n",
       "    text-align: left;\n",
       "}\n",
       "\n",
       ".user-set td.value pre {\n",
       "    color:rgb(255, 94, 0) !important;\n",
       "    background-color: transparent !important;\n",
       "}\n",
       "\n",
       ".default td {\n",
       "    color: black;\n",
       "    text-align: left;\n",
       "}\n",
       "\n",
       ".user-set td i,\n",
       ".default td i {\n",
       "    color: black;\n",
       "}\n",
       "\n",
       ".copy-paste-icon {\n",
       "    background-image: url(data:image/svg+xml;base64,PHN2ZyB4bWxucz0iaHR0cDovL3d3dy53My5vcmcvMjAwMC9zdmciIHZpZXdCb3g9IjAgMCA0NDggNTEyIj48IS0tIUZvbnQgQXdlc29tZSBGcmVlIDYuNy4yIGJ5IEBmb250YXdlc29tZSAtIGh0dHBzOi8vZm9udGF3ZXNvbWUuY29tIExpY2Vuc2UgLSBodHRwczovL2ZvbnRhd2Vzb21lLmNvbS9saWNlbnNlL2ZyZWUgQ29weXJpZ2h0IDIwMjUgRm9udGljb25zLCBJbmMuLS0+PHBhdGggZD0iTTIwOCAwTDMzMi4xIDBjMTIuNyAwIDI0LjkgNS4xIDMzLjkgMTQuMWw2Ny45IDY3LjljOSA5IDE0LjEgMjEuMiAxNC4xIDMzLjlMNDQ4IDMzNmMwIDI2LjUtMjEuNSA0OC00OCA0OGwtMTkyIDBjLTI2LjUgMC00OC0yMS41LTQ4LTQ4bDAtMjg4YzAtMjYuNSAyMS41LTQ4IDQ4LTQ4ek00OCAxMjhsODAgMCAwIDY0LTY0IDAgMCAyNTYgMTkyIDAgMC0zMiA2NCAwIDAgNDhjMCAyNi41LTIxLjUgNDgtNDggNDhMNDggNTEyYy0yNi41IDAtNDgtMjEuNS00OC00OEwwIDE3NmMwLTI2LjUgMjEuNS00OCA0OC00OHoiLz48L3N2Zz4=);\n",
       "    background-repeat: no-repeat;\n",
       "    background-size: 14px 14px;\n",
       "    background-position: 0;\n",
       "    display: inline-block;\n",
       "    width: 14px;\n",
       "    height: 14px;\n",
       "    cursor: pointer;\n",
       "}\n",
       "</style><body><div id=\"sk-container-id-2\" class=\"sk-top-container\"><div class=\"sk-text-repr-fallback\"><pre>LogisticRegression(max_iter=1000, random_state=42, solver=&#x27;liblinear&#x27;)</pre><b>In a Jupyter environment, please rerun this cell to show the HTML representation or trust the notebook. <br />On GitHub, the HTML representation is unable to render, please try loading this page with nbviewer.org.</b></div><div class=\"sk-container\" hidden><div class=\"sk-item\"><div class=\"sk-estimator fitted sk-toggleable\"><input class=\"sk-toggleable__control sk-hidden--visually\" id=\"sk-estimator-id-2\" type=\"checkbox\" checked><label for=\"sk-estimator-id-2\" class=\"sk-toggleable__label fitted sk-toggleable__label-arrow\"><div><div>LogisticRegression</div></div><div><a class=\"sk-estimator-doc-link fitted\" rel=\"noreferrer\" target=\"_blank\" href=\"https://scikit-learn.org/1.7/modules/generated/sklearn.linear_model.LogisticRegression.html\">?<span>Documentation for LogisticRegression</span></a><span class=\"sk-estimator-doc-link fitted\">i<span>Fitted</span></span></div></label><div class=\"sk-toggleable__content fitted\" data-param-prefix=\"\">\n",
       "        <div class=\"estimator-table\">\n",
       "            <details>\n",
       "                <summary>Parameters</summary>\n",
       "                <table class=\"parameters-table\">\n",
       "                  <tbody>\n",
       "                    \n",
       "        <tr class=\"default\">\n",
       "            <td><i class=\"copy-paste-icon\"\n",
       "                 onclick=\"copyToClipboard('penalty',\n",
       "                          this.parentElement.nextElementSibling)\"\n",
       "            ></i></td>\n",
       "            <td class=\"param\">penalty&nbsp;</td>\n",
       "            <td class=\"value\">&#x27;l2&#x27;</td>\n",
       "        </tr>\n",
       "    \n",
       "\n",
       "        <tr class=\"default\">\n",
       "            <td><i class=\"copy-paste-icon\"\n",
       "                 onclick=\"copyToClipboard('dual',\n",
       "                          this.parentElement.nextElementSibling)\"\n",
       "            ></i></td>\n",
       "            <td class=\"param\">dual&nbsp;</td>\n",
       "            <td class=\"value\">False</td>\n",
       "        </tr>\n",
       "    \n",
       "\n",
       "        <tr class=\"default\">\n",
       "            <td><i class=\"copy-paste-icon\"\n",
       "                 onclick=\"copyToClipboard('tol',\n",
       "                          this.parentElement.nextElementSibling)\"\n",
       "            ></i></td>\n",
       "            <td class=\"param\">tol&nbsp;</td>\n",
       "            <td class=\"value\">0.0001</td>\n",
       "        </tr>\n",
       "    \n",
       "\n",
       "        <tr class=\"default\">\n",
       "            <td><i class=\"copy-paste-icon\"\n",
       "                 onclick=\"copyToClipboard('C',\n",
       "                          this.parentElement.nextElementSibling)\"\n",
       "            ></i></td>\n",
       "            <td class=\"param\">C&nbsp;</td>\n",
       "            <td class=\"value\">1.0</td>\n",
       "        </tr>\n",
       "    \n",
       "\n",
       "        <tr class=\"default\">\n",
       "            <td><i class=\"copy-paste-icon\"\n",
       "                 onclick=\"copyToClipboard('fit_intercept',\n",
       "                          this.parentElement.nextElementSibling)\"\n",
       "            ></i></td>\n",
       "            <td class=\"param\">fit_intercept&nbsp;</td>\n",
       "            <td class=\"value\">True</td>\n",
       "        </tr>\n",
       "    \n",
       "\n",
       "        <tr class=\"default\">\n",
       "            <td><i class=\"copy-paste-icon\"\n",
       "                 onclick=\"copyToClipboard('intercept_scaling',\n",
       "                          this.parentElement.nextElementSibling)\"\n",
       "            ></i></td>\n",
       "            <td class=\"param\">intercept_scaling&nbsp;</td>\n",
       "            <td class=\"value\">1</td>\n",
       "        </tr>\n",
       "    \n",
       "\n",
       "        <tr class=\"default\">\n",
       "            <td><i class=\"copy-paste-icon\"\n",
       "                 onclick=\"copyToClipboard('class_weight',\n",
       "                          this.parentElement.nextElementSibling)\"\n",
       "            ></i></td>\n",
       "            <td class=\"param\">class_weight&nbsp;</td>\n",
       "            <td class=\"value\">None</td>\n",
       "        </tr>\n",
       "    \n",
       "\n",
       "        <tr class=\"user-set\">\n",
       "            <td><i class=\"copy-paste-icon\"\n",
       "                 onclick=\"copyToClipboard('random_state',\n",
       "                          this.parentElement.nextElementSibling)\"\n",
       "            ></i></td>\n",
       "            <td class=\"param\">random_state&nbsp;</td>\n",
       "            <td class=\"value\">42</td>\n",
       "        </tr>\n",
       "    \n",
       "\n",
       "        <tr class=\"user-set\">\n",
       "            <td><i class=\"copy-paste-icon\"\n",
       "                 onclick=\"copyToClipboard('solver',\n",
       "                          this.parentElement.nextElementSibling)\"\n",
       "            ></i></td>\n",
       "            <td class=\"param\">solver&nbsp;</td>\n",
       "            <td class=\"value\">&#x27;liblinear&#x27;</td>\n",
       "        </tr>\n",
       "    \n",
       "\n",
       "        <tr class=\"user-set\">\n",
       "            <td><i class=\"copy-paste-icon\"\n",
       "                 onclick=\"copyToClipboard('max_iter',\n",
       "                          this.parentElement.nextElementSibling)\"\n",
       "            ></i></td>\n",
       "            <td class=\"param\">max_iter&nbsp;</td>\n",
       "            <td class=\"value\">1000</td>\n",
       "        </tr>\n",
       "    \n",
       "\n",
       "        <tr class=\"default\">\n",
       "            <td><i class=\"copy-paste-icon\"\n",
       "                 onclick=\"copyToClipboard('multi_class',\n",
       "                          this.parentElement.nextElementSibling)\"\n",
       "            ></i></td>\n",
       "            <td class=\"param\">multi_class&nbsp;</td>\n",
       "            <td class=\"value\">&#x27;deprecated&#x27;</td>\n",
       "        </tr>\n",
       "    \n",
       "\n",
       "        <tr class=\"default\">\n",
       "            <td><i class=\"copy-paste-icon\"\n",
       "                 onclick=\"copyToClipboard('verbose',\n",
       "                          this.parentElement.nextElementSibling)\"\n",
       "            ></i></td>\n",
       "            <td class=\"param\">verbose&nbsp;</td>\n",
       "            <td class=\"value\">0</td>\n",
       "        </tr>\n",
       "    \n",
       "\n",
       "        <tr class=\"default\">\n",
       "            <td><i class=\"copy-paste-icon\"\n",
       "                 onclick=\"copyToClipboard('warm_start',\n",
       "                          this.parentElement.nextElementSibling)\"\n",
       "            ></i></td>\n",
       "            <td class=\"param\">warm_start&nbsp;</td>\n",
       "            <td class=\"value\">False</td>\n",
       "        </tr>\n",
       "    \n",
       "\n",
       "        <tr class=\"default\">\n",
       "            <td><i class=\"copy-paste-icon\"\n",
       "                 onclick=\"copyToClipboard('n_jobs',\n",
       "                          this.parentElement.nextElementSibling)\"\n",
       "            ></i></td>\n",
       "            <td class=\"param\">n_jobs&nbsp;</td>\n",
       "            <td class=\"value\">None</td>\n",
       "        </tr>\n",
       "    \n",
       "\n",
       "        <tr class=\"default\">\n",
       "            <td><i class=\"copy-paste-icon\"\n",
       "                 onclick=\"copyToClipboard('l1_ratio',\n",
       "                          this.parentElement.nextElementSibling)\"\n",
       "            ></i></td>\n",
       "            <td class=\"param\">l1_ratio&nbsp;</td>\n",
       "            <td class=\"value\">None</td>\n",
       "        </tr>\n",
       "    \n",
       "                  </tbody>\n",
       "                </table>\n",
       "            </details>\n",
       "        </div>\n",
       "    </div></div></div></div></div><script>function copyToClipboard(text, element) {\n",
       "    // Get the parameter prefix from the closest toggleable content\n",
       "    const toggleableContent = element.closest('.sk-toggleable__content');\n",
       "    const paramPrefix = toggleableContent ? toggleableContent.dataset.paramPrefix : '';\n",
       "    const fullParamName = paramPrefix ? `${paramPrefix}${text}` : text;\n",
       "\n",
       "    const originalStyle = element.style;\n",
       "    const computedStyle = window.getComputedStyle(element);\n",
       "    const originalWidth = computedStyle.width;\n",
       "    const originalHTML = element.innerHTML.replace('Copied!', '');\n",
       "\n",
       "    navigator.clipboard.writeText(fullParamName)\n",
       "        .then(() => {\n",
       "            element.style.width = originalWidth;\n",
       "            element.style.color = 'green';\n",
       "            element.innerHTML = \"Copied!\";\n",
       "\n",
       "            setTimeout(() => {\n",
       "                element.innerHTML = originalHTML;\n",
       "                element.style = originalStyle;\n",
       "            }, 2000);\n",
       "        })\n",
       "        .catch(err => {\n",
       "            console.error('Failed to copy:', err);\n",
       "            element.style.color = 'red';\n",
       "            element.innerHTML = \"Failed!\";\n",
       "            setTimeout(() => {\n",
       "                element.innerHTML = originalHTML;\n",
       "                element.style = originalStyle;\n",
       "            }, 2000);\n",
       "        });\n",
       "    return false;\n",
       "}\n",
       "\n",
       "document.querySelectorAll('.fa-regular.fa-copy').forEach(function(element) {\n",
       "    const toggleableContent = element.closest('.sk-toggleable__content');\n",
       "    const paramPrefix = toggleableContent ? toggleableContent.dataset.paramPrefix : '';\n",
       "    const paramName = element.parentElement.nextElementSibling.textContent.trim();\n",
       "    const fullParamName = paramPrefix ? `${paramPrefix}${paramName}` : paramName;\n",
       "\n",
       "    element.setAttribute('title', fullParamName);\n",
       "});\n",
       "</script></body>"
      ],
      "text/plain": [
       "LogisticRegression(max_iter=1000, random_state=42, solver='liblinear')"
      ]
     },
     "execution_count": 46,
     "metadata": {},
     "output_type": "execute_result"
    }
   ],
   "source": [
    "model4.fit(X_train, y_train)"
   ]
  },
  {
   "cell_type": "code",
   "execution_count": 47,
   "id": "0d6b23a9-7a55-409a-94d1-5e6746068081",
   "metadata": {},
   "outputs": [],
   "source": [
    "y_pred = model4.predict_proba(X_val)[:, 1]"
   ]
  },
  {
   "cell_type": "code",
   "execution_count": 48,
   "id": "f2d64126-0135-4b86-9ddb-5b95a7095d01",
   "metadata": {},
   "outputs": [
    {
     "data": {
      "text/plain": [
       "array([0.61192162, 0.79982616, 0.53021342, 0.47131479, 0.5706613 ,\n",
       "       0.44227166, 0.87127669, 0.84883114, 0.83290037, 0.614978  ,\n",
       "       0.54968025, 0.78153087, 0.69039784, 0.77017121, 0.52659438,\n",
       "       0.91706424, 0.53170633, 0.42123047, 0.30146454, 0.84881582,\n",
       "       0.79488652, 0.73670373, 0.44527209, 0.64838383, 0.41768818,\n",
       "       0.75393417, 0.90166115, 0.33903047, 0.43181429, 0.9680681 ,\n",
       "       0.92018714, 0.37487987, 0.65230099, 0.90650057, 0.75164115,\n",
       "       0.6420212 , 0.82250074, 0.83375553, 0.65911599, 0.30978853,\n",
       "       0.78942264, 0.35546364, 0.96517758, 0.63389304, 0.51274194,\n",
       "       0.53230532, 0.82287784, 0.744074  , 0.73452312, 0.68955216,\n",
       "       0.46964441, 0.84539251, 0.55635242, 0.92637871, 0.65258021,\n",
       "       0.61526271, 0.63816994, 0.28304016, 0.48049823, 0.57890616,\n",
       "       0.35497341, 0.62175049, 0.38960775, 0.61156055, 0.85304277,\n",
       "       0.75430135, 0.89185953, 0.71946457, 0.95387623, 0.89209517,\n",
       "       0.75277086, 0.33850137, 0.61376593, 0.51622273, 0.64088936,\n",
       "       0.7597833 , 0.89312075, 0.78234591, 0.574778  , 0.52308938,\n",
       "       0.75162463, 0.45636644, 0.81579584, 0.79382272, 0.62186   ,\n",
       "       0.38948446, 0.92007346, 0.79436151, 0.61193786, 0.92647559,\n",
       "       0.75325279, 0.57044192, 0.60565302, 0.76845365, 0.38660132,\n",
       "       0.93682835, 0.61558547, 0.70753939, 0.71522009, 0.71516419,\n",
       "       0.443743  , 0.48499554, 0.67041976, 0.70904814, 0.82122295,\n",
       "       0.79831791, 0.67657161, 0.59618166, 0.89175505, 0.6062529 ,\n",
       "       0.89674478, 0.69110011, 0.51519177, 0.45340508, 0.63343363,\n",
       "       0.44558104, 0.66397065, 0.43666538, 0.6997363 , 0.86966748,\n",
       "       0.40270564, 0.5101711 , 0.62044176, 0.49161762, 0.69763125,\n",
       "       0.84622132, 0.40511012, 0.8434733 , 0.5880471 , 0.85510615,\n",
       "       0.78815289, 0.80972923, 0.46004385, 0.55454588, 0.71023098,\n",
       "       0.61490919, 0.8620587 , 0.80475326, 0.60929424, 0.64441175,\n",
       "       0.55193311, 0.56760374, 0.51893348, 0.72588228, 0.43004302,\n",
       "       0.23357969, 0.70913054, 0.65040709, 0.94584621, 0.80652896,\n",
       "       0.69385394, 0.84217287, 0.89857223, 0.81893744, 0.52454434,\n",
       "       0.2019545 , 0.56625199, 0.68160025, 0.34030189, 0.80604683,\n",
       "       0.63864616, 0.85564637, 0.68426834, 0.37189507, 0.80873426,\n",
       "       0.83353728, 0.57467063, 0.81205324, 0.89732588, 0.73063986,\n",
       "       0.84500548, 0.68754095, 0.71582286, 0.49433919, 0.97093498,\n",
       "       0.42301874, 0.65465867, 0.5033735 , 0.74494469, 0.70435295,\n",
       "       0.42884457, 0.5406772 , 0.91709969, 0.77365807, 0.64111687,\n",
       "       0.79011372, 0.54247836, 0.70202188, 0.72011973, 0.38598601,\n",
       "       0.69592149, 0.76405476, 0.65126881, 0.63900212, 0.60765872,\n",
       "       0.42556844, 0.61605735, 0.63253074, 0.72132218, 0.8476384 ,\n",
       "       0.95845895, 0.72579396, 0.66273039, 0.63394996, 0.69328102,\n",
       "       0.60818048, 0.88179594, 0.50955309, 0.88148587, 0.78572171,\n",
       "       0.69259702, 0.68330628, 0.71612895, 0.89014221, 0.61044277,\n",
       "       0.68285387, 0.79608344, 0.47246863, 0.47659121, 0.76818505,\n",
       "       0.43447285, 0.70724522, 0.36109336, 0.57938899, 0.73605297,\n",
       "       0.7664905 , 0.751115  , 0.6285719 , 0.22737561, 0.47678568,\n",
       "       0.53883899, 0.86006692, 0.37612695, 0.63947939, 0.75219558,\n",
       "       0.80887334, 0.31111034, 0.61636049, 0.9079403 , 0.72784108,\n",
       "       0.78162751, 0.56678097, 0.74946253, 0.7027016 , 0.86992245,\n",
       "       0.67511882, 0.47335165, 0.69184931, 0.89716905, 0.66349784,\n",
       "       0.46590692, 0.94124351, 0.85630564, 0.56838372, 0.81947658,\n",
       "       0.6680171 , 0.36038826, 0.75894395, 0.77662922, 0.61460367,\n",
       "       0.97723436, 0.61226914, 0.50364537, 0.90815884, 0.69327872,\n",
       "       0.86960168, 0.5980418 , 0.41516437, 0.79021628, 0.56825881,\n",
       "       0.33279423, 0.89712235, 0.35000604, 0.61107134, 0.72826373,\n",
       "       0.54979739, 0.33677254, 0.52340088, 0.6758691 , 0.74368437,\n",
       "       0.74362152, 0.43833657, 0.50241569, 0.58146962, 0.71617207,\n",
       "       0.78841886, 0.73323106, 0.85389892, 0.41934247, 0.71053898,\n",
       "       0.418185  , 0.74483515, 0.43291315])"
      ]
     },
     "execution_count": 48,
     "metadata": {},
     "output_type": "execute_result"
    }
   ],
   "source": [
    "y_pred"
   ]
  },
  {
   "cell_type": "code",
   "execution_count": 49,
   "id": "ee08f4c4-68bd-49f8-b3ca-9672c722387f",
   "metadata": {},
   "outputs": [],
   "source": [
    "converted_pred = (y_pred >= .5)"
   ]
  },
  {
   "cell_type": "code",
   "execution_count": 50,
   "id": "d147cda5-faee-4db3-a741-929b2e6c6c2f",
   "metadata": {},
   "outputs": [
    {
     "data": {
      "text/plain": [
       "array([ True,  True,  True, False,  True, False,  True,  True,  True,\n",
       "        True,  True,  True,  True,  True,  True,  True,  True, False,\n",
       "       False,  True,  True,  True, False,  True, False,  True,  True,\n",
       "       False, False,  True,  True, False,  True,  True,  True,  True,\n",
       "        True,  True,  True, False,  True, False,  True,  True,  True,\n",
       "        True,  True,  True,  True,  True, False,  True,  True,  True,\n",
       "        True,  True,  True, False, False,  True, False,  True, False,\n",
       "        True,  True,  True,  True,  True,  True,  True,  True, False,\n",
       "        True,  True,  True,  True,  True,  True,  True,  True,  True,\n",
       "       False,  True,  True,  True, False,  True,  True,  True,  True,\n",
       "        True,  True,  True,  True, False,  True,  True,  True,  True,\n",
       "        True, False, False,  True,  True,  True,  True,  True,  True,\n",
       "        True,  True,  True,  True,  True, False,  True, False,  True,\n",
       "       False,  True,  True, False,  True,  True, False,  True,  True,\n",
       "       False,  True,  True,  True,  True,  True, False,  True,  True,\n",
       "        True,  True,  True,  True,  True,  True,  True,  True,  True,\n",
       "       False, False,  True,  True,  True,  True,  True,  True,  True,\n",
       "        True,  True, False,  True,  True, False,  True,  True,  True,\n",
       "        True, False,  True,  True,  True,  True,  True,  True,  True,\n",
       "        True,  True, False,  True, False,  True,  True,  True,  True,\n",
       "       False,  True,  True,  True,  True,  True,  True,  True,  True,\n",
       "       False,  True,  True,  True,  True,  True, False,  True,  True,\n",
       "        True,  True,  True,  True,  True,  True,  True,  True,  True,\n",
       "        True,  True,  True,  True,  True,  True,  True,  True,  True,\n",
       "        True, False, False,  True, False,  True, False,  True,  True,\n",
       "        True,  True,  True, False, False,  True,  True, False,  True,\n",
       "        True,  True, False,  True,  True,  True,  True,  True,  True,\n",
       "        True,  True,  True, False,  True,  True,  True, False,  True,\n",
       "        True,  True,  True,  True, False,  True,  True,  True,  True,\n",
       "        True,  True,  True,  True,  True,  True, False,  True,  True,\n",
       "       False,  True, False,  True,  True,  True, False,  True,  True,\n",
       "        True,  True, False,  True,  True,  True,  True,  True,  True,\n",
       "       False,  True, False,  True, False])"
      ]
     },
     "execution_count": 50,
     "metadata": {},
     "output_type": "execute_result"
    }
   ],
   "source": [
    "converted_pred"
   ]
  },
  {
   "cell_type": "code",
   "execution_count": 51,
   "id": "e09c0b61-c08d-45c6-8227-a2f4e2f3c322",
   "metadata": {},
   "outputs": [
    {
     "data": {
      "text/plain": [
       "np.float64(0.6996587030716723)"
      ]
     },
     "execution_count": 51,
     "metadata": {},
     "output_type": "execute_result"
    }
   ],
   "source": [
    "(converted_pred  == y_val).mean()"
   ]
  },
  {
   "cell_type": "code",
   "execution_count": 52,
   "id": "e5231d6e-2c07-4b8b-a5d3-b2ee6d9d8605",
   "metadata": {},
   "outputs": [
    {
     "data": {
      "text/plain": [
       "np.int64(205)"
      ]
     },
     "execution_count": 52,
     "metadata": {},
     "output_type": "execute_result"
    }
   ],
   "source": [
    "good_pred = np.sum(converted_pred == y_val)\n",
    "good_pred"
   ]
  },
  {
   "cell_type": "code",
   "execution_count": 53,
   "id": "f0eb51a2-b77a-489b-866b-87321cf77f93",
   "metadata": {},
   "outputs": [
    {
     "data": {
      "text/plain": [
       "np.float64(0.6996587030716723)"
      ]
     },
     "execution_count": 53,
     "metadata": {},
     "output_type": "execute_result"
    }
   ],
   "source": [
    "acc =  good_pred / len(X_val)\n",
    "\n",
    "acc"
   ]
  },
  {
   "cell_type": "code",
   "execution_count": 54,
   "id": "bf8e7b73-99ae-4a18-bedd-053ee4d60fc7",
   "metadata": {},
   "outputs": [
    {
     "name": "stdout",
     "output_type": "stream",
     "text": [
      "0.00 0.556\n",
      "0.05 0.556\n",
      "0.10 0.556\n",
      "0.15 0.556\n",
      "0.20 0.556\n",
      "0.25 0.567\n",
      "0.30 0.570\n",
      "0.35 0.597\n",
      "0.40 0.618\n",
      "0.45 0.666\n",
      "0.50 0.700\n",
      "0.55 0.758\n",
      "0.60 0.778\n",
      "0.65 0.771\n",
      "0.70 0.737\n",
      "0.75 0.703\n",
      "0.80 0.642\n",
      "0.85 0.573\n",
      "0.90 0.509\n",
      "0.95 0.464\n",
      "1.00 0.444\n"
     ]
    }
   ],
   "source": [
    "thresholds = np.linspace(0, 1, 21)\n",
    "\n",
    "scores = []\n",
    "\n",
    "for t in thresholds:\n",
    "    converted_deci = (y_pred >= t)\n",
    "    score = (converted_deci == y_val).mean()\n",
    "    print('%.2f %.3f' % (t, score))\n",
    "    scores.append(score)"
   ]
  },
  {
   "cell_type": "code",
   "execution_count": 55,
   "id": "874a3162-5387-4752-aecf-5072a44f1b72",
   "metadata": {},
   "outputs": [
    {
     "data": {
      "text/plain": [
       "[np.float64(0.5563139931740614),\n",
       " np.float64(0.5563139931740614),\n",
       " np.float64(0.5563139931740614),\n",
       " np.float64(0.5563139931740614),\n",
       " np.float64(0.5563139931740614),\n",
       " np.float64(0.5665529010238908),\n",
       " np.float64(0.5699658703071673),\n",
       " np.float64(0.5972696245733788),\n",
       " np.float64(0.6177474402730375),\n",
       " np.float64(0.6655290102389079),\n",
       " np.float64(0.6996587030716723),\n",
       " np.float64(0.757679180887372),\n",
       " np.float64(0.7781569965870307),\n",
       " np.float64(0.7713310580204779),\n",
       " np.float64(0.7372013651877133),\n",
       " np.float64(0.7030716723549488),\n",
       " np.float64(0.6416382252559727),\n",
       " np.float64(0.5733788395904437),\n",
       " np.float64(0.5085324232081911),\n",
       " np.float64(0.4641638225255973),\n",
       " np.float64(0.44368600682593856)]"
      ]
     },
     "execution_count": 55,
     "metadata": {},
     "output_type": "execute_result"
    }
   ],
   "source": [
    "scores"
   ]
  },
  {
   "cell_type": "code",
   "execution_count": 56,
   "id": "89be9406-a272-432e-b503-117b603f3181",
   "metadata": {},
   "outputs": [
    {
     "data": {
      "text/plain": [
       "[<matplotlib.lines.Line2D at 0x7fd05d913ee0>]"
      ]
     },
     "execution_count": 56,
     "metadata": {},
     "output_type": "execute_result"
    },
    {
     "data": {
      "image/png": "[encoded data removed]",
      "text/plain": [
       "<Figure size 640x480 with 1 Axes>"
      ]
     },
     "metadata": {},
     "output_type": "display_data"
    }
   ],
   "source": [
    "plt.plot(thresholds, scores)"
   ]
  },
  {
   "cell_type": "code",
   "execution_count": 57,
   "id": "02f225a0-83fa-4c68-9981-e6b36ad357ff",
   "metadata": {},
   "outputs": [
    {
     "data": {
      "text/plain": [
       "Counter({np.False_: 290, np.True_: 3})"
      ]
     },
     "execution_count": 57,
     "metadata": {},
     "output_type": "execute_result"
    }
   ],
   "source": [
    "from collections import Counter\n",
    "Counter(y_pred <= .25)\n",
    "# Counter({True: 4, False: 1})\n"
   ]
  },
  {
   "cell_type": "code",
   "execution_count": 58,
   "id": "572da233-3496-4f56-8d12-718a3274083b",
   "metadata": {},
   "outputs": [
    {
     "name": "stdout",
     "output_type": "stream",
     "text": [
      "0.5563139931740614\n"
     ]
    }
   ],
   "source": [
    "from sklearn.dummy import DummyClassifier\n",
    "\n",
    "# Dummy model qui prédit toujours la classe majoritaire\n",
    "dummy = DummyClassifier(strategy=\"most_frequent\")\n",
    "dummy.fit(X_train, y_train)\n",
    "dummy_pred = (dummy.predict_proba(X_val)[:, 1] >= .5)\n",
    "acc_dummy = accuracy_score(y_val, dummy_pred)\n",
    "print(acc_dummy)"
   ]
  },
  {
   "cell_type": "markdown",
   "id": "84d3eb7e-d7a4-469f-ae65-a82d3d506e4a",
   "metadata": {},
   "source": [
    "## 2. Matrix of Confusion\n",
    "- Diiferent types of errors and correct decisions\n",
    "- Arranging them in a table"
   ]
  },
  {
   "cell_type": "code",
   "execution_count": 59,
   "id": "8a89643d-fe70-4e03-994a-984d4dde6ea5",
   "metadata": {},
   "outputs": [],
   "source": [
    "actual_positive = (y_val == 1)\n",
    "actual_negative = (y_val == 0)"
   ]
  },
  {
   "cell_type": "code",
   "execution_count": 60,
   "id": "3ac652ad-e55e-4c38-9f1a-98355cb1380e",
   "metadata": {},
   "outputs": [],
   "source": [
    "t = .5\n",
    "predict_positive = (y_pred >= t)\n",
    "predict_negative = (y_pred < t)\n"
   ]
  },
  {
   "cell_type": "code",
   "execution_count": 61,
   "id": "fdb71d78-4615-4f27-96aa-bf72d5875ffd",
   "metadata": {},
   "outputs": [],
   "source": [
    "tp = np.sum(predict_positive & actual_positive)\n",
    "\n",
    "fp = np.sum(predict_positive & actual_negative)\n",
    "\n",
    "fn = np.sum(predict_negative & actual_positive)\n",
    "\n",
    "tn = np.sum(predict_negative & actual_negative)"
   ]
  },
  {
   "cell_type": "code",
   "execution_count": 62,
   "id": "2e0a7dfa-6ce5-4f67-a30f-6b2b52d36407",
   "metadata": {},
   "outputs": [
    {
     "data": {
      "text/plain": [
       "array([[ 50,  80],\n",
       "       [  8, 155]])"
      ]
     },
     "execution_count": 62,
     "metadata": {},
     "output_type": "execute_result"
    }
   ],
   "source": [
    "matrix_conf = np.array([\n",
    "    [tn, fp],\n",
    "    [fn, tp]\n",
    "])\n",
    "matrix_conf"
   ]
  },
  {
   "cell_type": "code",
   "execution_count": 63,
   "id": "1dfb9cf2-5394-4462-b30b-12f0e73623b2",
   "metadata": {},
   "outputs": [
    {
     "data": {
      "text/plain": [
       "array([[0.17, 0.27],\n",
       "       [0.03, 0.53]])"
      ]
     },
     "execution_count": 63,
     "metadata": {},
     "output_type": "execute_result"
    }
   ],
   "source": [
    "(matrix_conf / matrix_conf.sum()).round(2)"
   ]
  },
  {
   "cell_type": "markdown",
   "id": "38ea01c3-41eb-489f-8c7a-6973fc7dc54a",
   "metadata": {},
   "source": [
    "## 3. Precision and Recall"
   ]
  },
  {
   "cell_type": "code",
   "execution_count": 64,
   "id": "201e455d-ca33-4f2f-bde1-8110cb24cc33",
   "metadata": {},
   "outputs": [
    {
     "data": {
      "text/plain": [
       "np.float64(0.6996587030716723)"
      ]
     },
     "execution_count": 64,
     "metadata": {},
     "output_type": "execute_result"
    }
   ],
   "source": [
    "(tp + tn) / (tp + tn + fp + fn) # Accuracy"
   ]
  },
  {
   "cell_type": "code",
   "execution_count": 65,
   "id": "bdd7264a-436c-4adb-89ae-2234fdb3bf17",
   "metadata": {},
   "outputs": [
    {
     "name": "stdout",
     "output_type": "stream",
     "text": [
      "65.96\n"
     ]
    }
   ],
   "source": [
    "precision = 100 * tp / (tp + fp)\n",
    "print('%.2f' % precision)"
   ]
  },
  {
   "cell_type": "code",
   "execution_count": 66,
   "id": "d96b5028-f439-492c-b438-d8b2fb890983",
   "metadata": {},
   "outputs": [
    {
     "name": "stdout",
     "output_type": "stream",
     "text": [
      "95.09\n"
     ]
    }
   ],
   "source": [
    "recall = 100 * tp / (tp + fn)\n",
    "print('%.2f' % recall)"
   ]
  },
  {
   "cell_type": "markdown",
   "id": "7c2560c7-2aa9-47c5-b654-e0d477d83b33",
   "metadata": {},
   "source": [
    "## 4. ROC Curves"
   ]
  },
  {
   "cell_type": "markdown",
   "id": "c107db57-3641-4095-845e-6b90efb81899",
   "metadata": {},
   "source": [
    "### TPR and FRP"
   ]
  },
  {
   "cell_type": "code",
   "execution_count": 67,
   "id": "520085bc-3498-46cd-a56b-e8902d80a07b",
   "metadata": {},
   "outputs": [
    {
     "name": "stdout",
     "output_type": "stream",
     "text": [
      "61.54\n"
     ]
    }
   ],
   "source": [
    "fpr = 100 * fp / (tn + fp)\n",
    "\n",
    "print('%.2f' % fpr)"
   ]
  },
  {
   "cell_type": "code",
   "execution_count": 68,
   "id": "721235f3-ac7a-48a7-909a-ae6c6539f191",
   "metadata": {},
   "outputs": [
    {
     "name": "stdout",
     "output_type": "stream",
     "text": [
      "95.09\n"
     ]
    }
   ],
   "source": [
    "tpr = 100 * tp / (fn + tp)\n",
    "print('%.2f' % tpr)"
   ]
  },
  {
   "cell_type": "code",
   "execution_count": 69,
   "id": "554c59bd-3170-423a-a985-2d0cae2ccbeb",
   "metadata": {},
   "outputs": [],
   "source": [
    "scores_ = []\n",
    "threshods = np.linspace(0, 1, 101)\n",
    "\n",
    "for t in threshods:\n",
    "    actual_positive = (y_val == 1)\n",
    "    actual_negative = (y_val == 0)\n",
    "\n",
    "    predict_positive = (y_pred >= t)\n",
    "    predict_negative = (y_pred < t)\n",
    "\n",
    "    tp = (predict_positive & actual_positive).sum()\n",
    "    tn = (predict_negative & actual_negative).sum()\n",
    "    fp = (predict_positive & actual_negative).sum()\n",
    "    fn = (predict_negative & actual_positive).sum()\n",
    "\n",
    "    scores_.append((t, tp, fp, fn, tn))"
   ]
  },
  {
   "cell_type": "code",
   "execution_count": 70,
   "id": "117bd0eb-6562-4d8f-866f-4fda72b22195",
   "metadata": {},
   "outputs": [],
   "source": [
    "columns = ['threshods', 'tp', 'fp', 'fn', 'tn']\n",
    "df_scores = pd.DataFrame(scores_, columns=columns)\n"
   ]
  },
  {
   "cell_type": "code",
   "execution_count": 71,
   "id": "5698c324-00ef-4b53-96ce-535b954cd2e8",
   "metadata": {},
   "outputs": [
    {
     "data": {
      "text/html": [
       "<div>\n",
       "<style scoped>\n",
       "    .dataframe tbody tr th:only-of-type {\n",
       "        vertical-align: middle;\n",
       "    }\n",
       "\n",
       "    .dataframe tbody tr th {\n",
       "        vertical-align: top;\n",
       "    }\n",
       "\n",
       "    .dataframe thead th {\n",
       "        text-align: right;\n",
       "    }\n",
       "</style>\n",
       "<table border=\"1\" class=\"dataframe\">\n",
       "  <thead>\n",
       "    <tr style=\"text-align: right;\">\n",
       "      <th></th>\n",
       "      <th>threshods</th>\n",
       "      <th>tp</th>\n",
       "      <th>fp</th>\n",
       "      <th>fn</th>\n",
       "      <th>tn</th>\n",
       "    </tr>\n",
       "  </thead>\n",
       "  <tbody>\n",
       "    <tr>\n",
       "      <th>0</th>\n",
       "      <td>0.00</td>\n",
       "      <td>163</td>\n",
       "      <td>130</td>\n",
       "      <td>0</td>\n",
       "      <td>0</td>\n",
       "    </tr>\n",
       "    <tr>\n",
       "      <th>1</th>\n",
       "      <td>0.01</td>\n",
       "      <td>163</td>\n",
       "      <td>130</td>\n",
       "      <td>0</td>\n",
       "      <td>0</td>\n",
       "    </tr>\n",
       "    <tr>\n",
       "      <th>2</th>\n",
       "      <td>0.02</td>\n",
       "      <td>163</td>\n",
       "      <td>130</td>\n",
       "      <td>0</td>\n",
       "      <td>0</td>\n",
       "    </tr>\n",
       "    <tr>\n",
       "      <th>3</th>\n",
       "      <td>0.03</td>\n",
       "      <td>163</td>\n",
       "      <td>130</td>\n",
       "      <td>0</td>\n",
       "      <td>0</td>\n",
       "    </tr>\n",
       "    <tr>\n",
       "      <th>4</th>\n",
       "      <td>0.04</td>\n",
       "      <td>163</td>\n",
       "      <td>130</td>\n",
       "      <td>0</td>\n",
       "      <td>0</td>\n",
       "    </tr>\n",
       "    <tr>\n",
       "      <th>...</th>\n",
       "      <td>...</td>\n",
       "      <td>...</td>\n",
       "      <td>...</td>\n",
       "      <td>...</td>\n",
       "      <td>...</td>\n",
       "    </tr>\n",
       "    <tr>\n",
       "      <th>96</th>\n",
       "      <td>0.96</td>\n",
       "      <td>4</td>\n",
       "      <td>0</td>\n",
       "      <td>159</td>\n",
       "      <td>130</td>\n",
       "    </tr>\n",
       "    <tr>\n",
       "      <th>97</th>\n",
       "      <td>0.97</td>\n",
       "      <td>2</td>\n",
       "      <td>0</td>\n",
       "      <td>161</td>\n",
       "      <td>130</td>\n",
       "    </tr>\n",
       "    <tr>\n",
       "      <th>98</th>\n",
       "      <td>0.98</td>\n",
       "      <td>0</td>\n",
       "      <td>0</td>\n",
       "      <td>163</td>\n",
       "      <td>130</td>\n",
       "    </tr>\n",
       "    <tr>\n",
       "      <th>99</th>\n",
       "      <td>0.99</td>\n",
       "      <td>0</td>\n",
       "      <td>0</td>\n",
       "      <td>163</td>\n",
       "      <td>130</td>\n",
       "    </tr>\n",
       "    <tr>\n",
       "      <th>100</th>\n",
       "      <td>1.00</td>\n",
       "      <td>0</td>\n",
       "      <td>0</td>\n",
       "      <td>163</td>\n",
       "      <td>130</td>\n",
       "    </tr>\n",
       "  </tbody>\n",
       "</table>\n",
       "<p>101 rows × 5 columns</p>\n",
       "</div>"
      ],
      "text/plain": [
       "     threshods   tp   fp   fn   tn\n",
       "0         0.00  163  130    0    0\n",
       "1         0.01  163  130    0    0\n",
       "2         0.02  163  130    0    0\n",
       "3         0.03  163  130    0    0\n",
       "4         0.04  163  130    0    0\n",
       "..         ...  ...  ...  ...  ...\n",
       "96        0.96    4    0  159  130\n",
       "97        0.97    2    0  161  130\n",
       "98        0.98    0    0  163  130\n",
       "99        0.99    0    0  163  130\n",
       "100       1.00    0    0  163  130\n",
       "\n",
       "[101 rows x 5 columns]"
      ]
     },
     "execution_count": 71,
     "metadata": {},
     "output_type": "execute_result"
    }
   ],
   "source": [
    "df_scores"
   ]
  },
  {
   "cell_type": "code",
   "execution_count": 72,
   "id": "ca0f9fdf-3fd6-4dae-af4a-374f7363528e",
   "metadata": {},
   "outputs": [
    {
     "data": {
      "text/html": [
       "<div>\n",
       "<style scoped>\n",
       "    .dataframe tbody tr th:only-of-type {\n",
       "        vertical-align: middle;\n",
       "    }\n",
       "\n",
       "    .dataframe tbody tr th {\n",
       "        vertical-align: top;\n",
       "    }\n",
       "\n",
       "    .dataframe thead th {\n",
       "        text-align: right;\n",
       "    }\n",
       "</style>\n",
       "<table border=\"1\" class=\"dataframe\">\n",
       "  <thead>\n",
       "    <tr style=\"text-align: right;\">\n",
       "      <th></th>\n",
       "      <th>threshods</th>\n",
       "      <th>tp</th>\n",
       "      <th>fp</th>\n",
       "      <th>fn</th>\n",
       "      <th>tn</th>\n",
       "    </tr>\n",
       "  </thead>\n",
       "  <tbody>\n",
       "    <tr>\n",
       "      <th>0</th>\n",
       "      <td>0.0</td>\n",
       "      <td>163</td>\n",
       "      <td>130</td>\n",
       "      <td>0</td>\n",
       "      <td>0</td>\n",
       "    </tr>\n",
       "    <tr>\n",
       "      <th>10</th>\n",
       "      <td>0.1</td>\n",
       "      <td>163</td>\n",
       "      <td>130</td>\n",
       "      <td>0</td>\n",
       "      <td>0</td>\n",
       "    </tr>\n",
       "    <tr>\n",
       "      <th>20</th>\n",
       "      <td>0.2</td>\n",
       "      <td>163</td>\n",
       "      <td>130</td>\n",
       "      <td>0</td>\n",
       "      <td>0</td>\n",
       "    </tr>\n",
       "    <tr>\n",
       "      <th>30</th>\n",
       "      <td>0.3</td>\n",
       "      <td>163</td>\n",
       "      <td>126</td>\n",
       "      <td>0</td>\n",
       "      <td>4</td>\n",
       "    </tr>\n",
       "    <tr>\n",
       "      <th>40</th>\n",
       "      <td>0.4</td>\n",
       "      <td>160</td>\n",
       "      <td>109</td>\n",
       "      <td>3</td>\n",
       "      <td>21</td>\n",
       "    </tr>\n",
       "    <tr>\n",
       "      <th>50</th>\n",
       "      <td>0.5</td>\n",
       "      <td>155</td>\n",
       "      <td>80</td>\n",
       "      <td>8</td>\n",
       "      <td>50</td>\n",
       "    </tr>\n",
       "    <tr>\n",
       "      <th>60</th>\n",
       "      <td>0.6</td>\n",
       "      <td>147</td>\n",
       "      <td>49</td>\n",
       "      <td>16</td>\n",
       "      <td>81</td>\n",
       "    </tr>\n",
       "    <tr>\n",
       "      <th>70</th>\n",
       "      <td>0.7</td>\n",
       "      <td>108</td>\n",
       "      <td>22</td>\n",
       "      <td>55</td>\n",
       "      <td>108</td>\n",
       "    </tr>\n",
       "    <tr>\n",
       "      <th>80</th>\n",
       "      <td>0.8</td>\n",
       "      <td>62</td>\n",
       "      <td>4</td>\n",
       "      <td>101</td>\n",
       "      <td>126</td>\n",
       "    </tr>\n",
       "    <tr>\n",
       "      <th>90</th>\n",
       "      <td>0.9</td>\n",
       "      <td>19</td>\n",
       "      <td>0</td>\n",
       "      <td>144</td>\n",
       "      <td>130</td>\n",
       "    </tr>\n",
       "    <tr>\n",
       "      <th>100</th>\n",
       "      <td>1.0</td>\n",
       "      <td>0</td>\n",
       "      <td>0</td>\n",
       "      <td>163</td>\n",
       "      <td>130</td>\n",
       "    </tr>\n",
       "  </tbody>\n",
       "</table>\n",
       "</div>"
      ],
      "text/plain": [
       "     threshods   tp   fp   fn   tn\n",
       "0          0.0  163  130    0    0\n",
       "10         0.1  163  130    0    0\n",
       "20         0.2  163  130    0    0\n",
       "30         0.3  163  126    0    4\n",
       "40         0.4  160  109    3   21\n",
       "50         0.5  155   80    8   50\n",
       "60         0.6  147   49   16   81\n",
       "70         0.7  108   22   55  108\n",
       "80         0.8   62    4  101  126\n",
       "90         0.9   19    0  144  130\n",
       "100        1.0    0    0  163  130"
      ]
     },
     "execution_count": 72,
     "metadata": {},
     "output_type": "execute_result"
    }
   ],
   "source": [
    "df_scores[::10]"
   ]
  },
  {
   "cell_type": "code",
   "execution_count": 73,
   "id": "1080cea0-0471-471a-a31a-85dd891c0307",
   "metadata": {},
   "outputs": [],
   "source": [
    "df_scores['tpr'] = (100 * df_scores.tp / (df_scores.fn + df_scores.tp)).round(2)\n",
    "\n",
    "df_scores['fpr'] = (100 * df_scores.fp / (df_scores.tn + df_scores.fp)).round(2)"
   ]
  },
  {
   "cell_type": "code",
   "execution_count": 74,
   "id": "d01ce95c-c558-4add-ae99-981676daa400",
   "metadata": {},
   "outputs": [
    {
     "data": {
      "text/html": [
       "<div>\n",
       "<style scoped>\n",
       "    .dataframe tbody tr th:only-of-type {\n",
       "        vertical-align: middle;\n",
       "    }\n",
       "\n",
       "    .dataframe tbody tr th {\n",
       "        vertical-align: top;\n",
       "    }\n",
       "\n",
       "    .dataframe thead th {\n",
       "        text-align: right;\n",
       "    }\n",
       "</style>\n",
       "<table border=\"1\" class=\"dataframe\">\n",
       "  <thead>\n",
       "    <tr style=\"text-align: right;\">\n",
       "      <th></th>\n",
       "      <th>threshods</th>\n",
       "      <th>tp</th>\n",
       "      <th>fp</th>\n",
       "      <th>fn</th>\n",
       "      <th>tn</th>\n",
       "      <th>tpr</th>\n",
       "      <th>fpr</th>\n",
       "    </tr>\n",
       "  </thead>\n",
       "  <tbody>\n",
       "    <tr>\n",
       "      <th>0</th>\n",
       "      <td>0.00</td>\n",
       "      <td>163</td>\n",
       "      <td>130</td>\n",
       "      <td>0</td>\n",
       "      <td>0</td>\n",
       "      <td>100.00</td>\n",
       "      <td>100.00</td>\n",
       "    </tr>\n",
       "    <tr>\n",
       "      <th>2</th>\n",
       "      <td>0.02</td>\n",
       "      <td>163</td>\n",
       "      <td>130</td>\n",
       "      <td>0</td>\n",
       "      <td>0</td>\n",
       "      <td>100.00</td>\n",
       "      <td>100.00</td>\n",
       "    </tr>\n",
       "    <tr>\n",
       "      <th>4</th>\n",
       "      <td>0.04</td>\n",
       "      <td>163</td>\n",
       "      <td>130</td>\n",
       "      <td>0</td>\n",
       "      <td>0</td>\n",
       "      <td>100.00</td>\n",
       "      <td>100.00</td>\n",
       "    </tr>\n",
       "    <tr>\n",
       "      <th>6</th>\n",
       "      <td>0.06</td>\n",
       "      <td>163</td>\n",
       "      <td>130</td>\n",
       "      <td>0</td>\n",
       "      <td>0</td>\n",
       "      <td>100.00</td>\n",
       "      <td>100.00</td>\n",
       "    </tr>\n",
       "    <tr>\n",
       "      <th>8</th>\n",
       "      <td>0.08</td>\n",
       "      <td>163</td>\n",
       "      <td>130</td>\n",
       "      <td>0</td>\n",
       "      <td>0</td>\n",
       "      <td>100.00</td>\n",
       "      <td>100.00</td>\n",
       "    </tr>\n",
       "    <tr>\n",
       "      <th>10</th>\n",
       "      <td>0.10</td>\n",
       "      <td>163</td>\n",
       "      <td>130</td>\n",
       "      <td>0</td>\n",
       "      <td>0</td>\n",
       "      <td>100.00</td>\n",
       "      <td>100.00</td>\n",
       "    </tr>\n",
       "    <tr>\n",
       "      <th>12</th>\n",
       "      <td>0.12</td>\n",
       "      <td>163</td>\n",
       "      <td>130</td>\n",
       "      <td>0</td>\n",
       "      <td>0</td>\n",
       "      <td>100.00</td>\n",
       "      <td>100.00</td>\n",
       "    </tr>\n",
       "    <tr>\n",
       "      <th>14</th>\n",
       "      <td>0.14</td>\n",
       "      <td>163</td>\n",
       "      <td>130</td>\n",
       "      <td>0</td>\n",
       "      <td>0</td>\n",
       "      <td>100.00</td>\n",
       "      <td>100.00</td>\n",
       "    </tr>\n",
       "    <tr>\n",
       "      <th>16</th>\n",
       "      <td>0.16</td>\n",
       "      <td>163</td>\n",
       "      <td>130</td>\n",
       "      <td>0</td>\n",
       "      <td>0</td>\n",
       "      <td>100.00</td>\n",
       "      <td>100.00</td>\n",
       "    </tr>\n",
       "    <tr>\n",
       "      <th>18</th>\n",
       "      <td>0.18</td>\n",
       "      <td>163</td>\n",
       "      <td>130</td>\n",
       "      <td>0</td>\n",
       "      <td>0</td>\n",
       "      <td>100.00</td>\n",
       "      <td>100.00</td>\n",
       "    </tr>\n",
       "    <tr>\n",
       "      <th>20</th>\n",
       "      <td>0.20</td>\n",
       "      <td>163</td>\n",
       "      <td>130</td>\n",
       "      <td>0</td>\n",
       "      <td>0</td>\n",
       "      <td>100.00</td>\n",
       "      <td>100.00</td>\n",
       "    </tr>\n",
       "    <tr>\n",
       "      <th>22</th>\n",
       "      <td>0.22</td>\n",
       "      <td>163</td>\n",
       "      <td>129</td>\n",
       "      <td>0</td>\n",
       "      <td>1</td>\n",
       "      <td>100.00</td>\n",
       "      <td>99.23</td>\n",
       "    </tr>\n",
       "    <tr>\n",
       "      <th>24</th>\n",
       "      <td>0.24</td>\n",
       "      <td>163</td>\n",
       "      <td>127</td>\n",
       "      <td>0</td>\n",
       "      <td>3</td>\n",
       "      <td>100.00</td>\n",
       "      <td>97.69</td>\n",
       "    </tr>\n",
       "    <tr>\n",
       "      <th>26</th>\n",
       "      <td>0.26</td>\n",
       "      <td>163</td>\n",
       "      <td>127</td>\n",
       "      <td>0</td>\n",
       "      <td>3</td>\n",
       "      <td>100.00</td>\n",
       "      <td>97.69</td>\n",
       "    </tr>\n",
       "    <tr>\n",
       "      <th>28</th>\n",
       "      <td>0.28</td>\n",
       "      <td>163</td>\n",
       "      <td>127</td>\n",
       "      <td>0</td>\n",
       "      <td>3</td>\n",
       "      <td>100.00</td>\n",
       "      <td>97.69</td>\n",
       "    </tr>\n",
       "    <tr>\n",
       "      <th>30</th>\n",
       "      <td>0.30</td>\n",
       "      <td>163</td>\n",
       "      <td>126</td>\n",
       "      <td>0</td>\n",
       "      <td>4</td>\n",
       "      <td>100.00</td>\n",
       "      <td>96.92</td>\n",
       "    </tr>\n",
       "    <tr>\n",
       "      <th>32</th>\n",
       "      <td>0.32</td>\n",
       "      <td>163</td>\n",
       "      <td>123</td>\n",
       "      <td>0</td>\n",
       "      <td>7</td>\n",
       "      <td>100.00</td>\n",
       "      <td>94.62</td>\n",
       "    </tr>\n",
       "    <tr>\n",
       "      <th>34</th>\n",
       "      <td>0.34</td>\n",
       "      <td>163</td>\n",
       "      <td>119</td>\n",
       "      <td>0</td>\n",
       "      <td>11</td>\n",
       "      <td>100.00</td>\n",
       "      <td>91.54</td>\n",
       "    </tr>\n",
       "    <tr>\n",
       "      <th>36</th>\n",
       "      <td>0.36</td>\n",
       "      <td>162</td>\n",
       "      <td>116</td>\n",
       "      <td>1</td>\n",
       "      <td>14</td>\n",
       "      <td>99.39</td>\n",
       "      <td>89.23</td>\n",
       "    </tr>\n",
       "    <tr>\n",
       "      <th>38</th>\n",
       "      <td>0.38</td>\n",
       "      <td>161</td>\n",
       "      <td>112</td>\n",
       "      <td>2</td>\n",
       "      <td>18</td>\n",
       "      <td>98.77</td>\n",
       "      <td>86.15</td>\n",
       "    </tr>\n",
       "    <tr>\n",
       "      <th>40</th>\n",
       "      <td>0.40</td>\n",
       "      <td>160</td>\n",
       "      <td>109</td>\n",
       "      <td>3</td>\n",
       "      <td>21</td>\n",
       "      <td>98.16</td>\n",
       "      <td>83.85</td>\n",
       "    </tr>\n",
       "    <tr>\n",
       "      <th>42</th>\n",
       "      <td>0.42</td>\n",
       "      <td>160</td>\n",
       "      <td>103</td>\n",
       "      <td>3</td>\n",
       "      <td>27</td>\n",
       "      <td>98.16</td>\n",
       "      <td>79.23</td>\n",
       "    </tr>\n",
       "    <tr>\n",
       "      <th>44</th>\n",
       "      <td>0.44</td>\n",
       "      <td>157</td>\n",
       "      <td>96</td>\n",
       "      <td>6</td>\n",
       "      <td>34</td>\n",
       "      <td>96.32</td>\n",
       "      <td>73.85</td>\n",
       "    </tr>\n",
       "    <tr>\n",
       "      <th>46</th>\n",
       "      <td>0.46</td>\n",
       "      <td>157</td>\n",
       "      <td>90</td>\n",
       "      <td>6</td>\n",
       "      <td>40</td>\n",
       "      <td>96.32</td>\n",
       "      <td>69.23</td>\n",
       "    </tr>\n",
       "    <tr>\n",
       "      <th>48</th>\n",
       "      <td>0.48</td>\n",
       "      <td>156</td>\n",
       "      <td>83</td>\n",
       "      <td>7</td>\n",
       "      <td>47</td>\n",
       "      <td>95.71</td>\n",
       "      <td>63.85</td>\n",
       "    </tr>\n",
       "    <tr>\n",
       "      <th>50</th>\n",
       "      <td>0.50</td>\n",
       "      <td>155</td>\n",
       "      <td>80</td>\n",
       "      <td>8</td>\n",
       "      <td>50</td>\n",
       "      <td>95.09</td>\n",
       "      <td>61.54</td>\n",
       "    </tr>\n",
       "    <tr>\n",
       "      <th>52</th>\n",
       "      <td>0.52</td>\n",
       "      <td>153</td>\n",
       "      <td>73</td>\n",
       "      <td>10</td>\n",
       "      <td>57</td>\n",
       "      <td>93.87</td>\n",
       "      <td>56.15</td>\n",
       "    </tr>\n",
       "    <tr>\n",
       "      <th>54</th>\n",
       "      <td>0.54</td>\n",
       "      <td>153</td>\n",
       "      <td>65</td>\n",
       "      <td>10</td>\n",
       "      <td>65</td>\n",
       "      <td>93.87</td>\n",
       "      <td>50.00</td>\n",
       "    </tr>\n",
       "    <tr>\n",
       "      <th>56</th>\n",
       "      <td>0.56</td>\n",
       "      <td>153</td>\n",
       "      <td>58</td>\n",
       "      <td>10</td>\n",
       "      <td>72</td>\n",
       "      <td>93.87</td>\n",
       "      <td>44.62</td>\n",
       "    </tr>\n",
       "    <tr>\n",
       "      <th>58</th>\n",
       "      <td>0.58</td>\n",
       "      <td>149</td>\n",
       "      <td>51</td>\n",
       "      <td>14</td>\n",
       "      <td>79</td>\n",
       "      <td>91.41</td>\n",
       "      <td>39.23</td>\n",
       "    </tr>\n",
       "    <tr>\n",
       "      <th>60</th>\n",
       "      <td>0.60</td>\n",
       "      <td>147</td>\n",
       "      <td>49</td>\n",
       "      <td>16</td>\n",
       "      <td>81</td>\n",
       "      <td>90.18</td>\n",
       "      <td>37.69</td>\n",
       "    </tr>\n",
       "    <tr>\n",
       "      <th>62</th>\n",
       "      <td>0.62</td>\n",
       "      <td>140</td>\n",
       "      <td>37</td>\n",
       "      <td>23</td>\n",
       "      <td>93</td>\n",
       "      <td>85.89</td>\n",
       "      <td>28.46</td>\n",
       "    </tr>\n",
       "    <tr>\n",
       "      <th>64</th>\n",
       "      <td>0.64</td>\n",
       "      <td>130</td>\n",
       "      <td>35</td>\n",
       "      <td>33</td>\n",
       "      <td>95</td>\n",
       "      <td>79.75</td>\n",
       "      <td>26.92</td>\n",
       "    </tr>\n",
       "    <tr>\n",
       "      <th>66</th>\n",
       "      <td>0.66</td>\n",
       "      <td>126</td>\n",
       "      <td>28</td>\n",
       "      <td>37</td>\n",
       "      <td>102</td>\n",
       "      <td>77.30</td>\n",
       "      <td>21.54</td>\n",
       "    </tr>\n",
       "    <tr>\n",
       "      <th>68</th>\n",
       "      <td>0.68</td>\n",
       "      <td>121</td>\n",
       "      <td>25</td>\n",
       "      <td>42</td>\n",
       "      <td>105</td>\n",
       "      <td>74.23</td>\n",
       "      <td>19.23</td>\n",
       "    </tr>\n",
       "    <tr>\n",
       "      <th>70</th>\n",
       "      <td>0.70</td>\n",
       "      <td>108</td>\n",
       "      <td>22</td>\n",
       "      <td>55</td>\n",
       "      <td>108</td>\n",
       "      <td>66.26</td>\n",
       "      <td>16.92</td>\n",
       "    </tr>\n",
       "    <tr>\n",
       "      <th>72</th>\n",
       "      <td>0.72</td>\n",
       "      <td>100</td>\n",
       "      <td>15</td>\n",
       "      <td>63</td>\n",
       "      <td>115</td>\n",
       "      <td>61.35</td>\n",
       "      <td>11.54</td>\n",
       "    </tr>\n",
       "    <tr>\n",
       "      <th>74</th>\n",
       "      <td>0.74</td>\n",
       "      <td>92</td>\n",
       "      <td>12</td>\n",
       "      <td>71</td>\n",
       "      <td>118</td>\n",
       "      <td>56.44</td>\n",
       "      <td>9.23</td>\n",
       "    </tr>\n",
       "    <tr>\n",
       "      <th>76</th>\n",
       "      <td>0.76</td>\n",
       "      <td>78</td>\n",
       "      <td>10</td>\n",
       "      <td>85</td>\n",
       "      <td>120</td>\n",
       "      <td>47.85</td>\n",
       "      <td>7.69</td>\n",
       "    </tr>\n",
       "    <tr>\n",
       "      <th>78</th>\n",
       "      <td>0.78</td>\n",
       "      <td>73</td>\n",
       "      <td>8</td>\n",
       "      <td>90</td>\n",
       "      <td>122</td>\n",
       "      <td>44.79</td>\n",
       "      <td>6.15</td>\n",
       "    </tr>\n",
       "    <tr>\n",
       "      <th>80</th>\n",
       "      <td>0.80</td>\n",
       "      <td>62</td>\n",
       "      <td>4</td>\n",
       "      <td>101</td>\n",
       "      <td>126</td>\n",
       "      <td>38.04</td>\n",
       "      <td>3.08</td>\n",
       "    </tr>\n",
       "    <tr>\n",
       "      <th>82</th>\n",
       "      <td>0.82</td>\n",
       "      <td>53</td>\n",
       "      <td>3</td>\n",
       "      <td>110</td>\n",
       "      <td>127</td>\n",
       "      <td>32.52</td>\n",
       "      <td>2.31</td>\n",
       "    </tr>\n",
       "    <tr>\n",
       "      <th>84</th>\n",
       "      <td>0.84</td>\n",
       "      <td>47</td>\n",
       "      <td>3</td>\n",
       "      <td>116</td>\n",
       "      <td>127</td>\n",
       "      <td>28.83</td>\n",
       "      <td>2.31</td>\n",
       "    </tr>\n",
       "    <tr>\n",
       "      <th>86</th>\n",
       "      <td>0.86</td>\n",
       "      <td>35</td>\n",
       "      <td>2</td>\n",
       "      <td>128</td>\n",
       "      <td>128</td>\n",
       "      <td>21.47</td>\n",
       "      <td>1.54</td>\n",
       "    </tr>\n",
       "    <tr>\n",
       "      <th>88</th>\n",
       "      <td>0.88</td>\n",
       "      <td>30</td>\n",
       "      <td>1</td>\n",
       "      <td>133</td>\n",
       "      <td>129</td>\n",
       "      <td>18.40</td>\n",
       "      <td>0.77</td>\n",
       "    </tr>\n",
       "    <tr>\n",
       "      <th>90</th>\n",
       "      <td>0.90</td>\n",
       "      <td>19</td>\n",
       "      <td>0</td>\n",
       "      <td>144</td>\n",
       "      <td>130</td>\n",
       "      <td>11.66</td>\n",
       "      <td>0.00</td>\n",
       "    </tr>\n",
       "    <tr>\n",
       "      <th>92</th>\n",
       "      <td>0.92</td>\n",
       "      <td>13</td>\n",
       "      <td>0</td>\n",
       "      <td>150</td>\n",
       "      <td>130</td>\n",
       "      <td>7.98</td>\n",
       "      <td>0.00</td>\n",
       "    </tr>\n",
       "    <tr>\n",
       "      <th>94</th>\n",
       "      <td>0.94</td>\n",
       "      <td>8</td>\n",
       "      <td>0</td>\n",
       "      <td>155</td>\n",
       "      <td>130</td>\n",
       "      <td>4.91</td>\n",
       "      <td>0.00</td>\n",
       "    </tr>\n",
       "    <tr>\n",
       "      <th>96</th>\n",
       "      <td>0.96</td>\n",
       "      <td>4</td>\n",
       "      <td>0</td>\n",
       "      <td>159</td>\n",
       "      <td>130</td>\n",
       "      <td>2.45</td>\n",
       "      <td>0.00</td>\n",
       "    </tr>\n",
       "    <tr>\n",
       "      <th>98</th>\n",
       "      <td>0.98</td>\n",
       "      <td>0</td>\n",
       "      <td>0</td>\n",
       "      <td>163</td>\n",
       "      <td>130</td>\n",
       "      <td>0.00</td>\n",
       "      <td>0.00</td>\n",
       "    </tr>\n",
       "    <tr>\n",
       "      <th>100</th>\n",
       "      <td>1.00</td>\n",
       "      <td>0</td>\n",
       "      <td>0</td>\n",
       "      <td>163</td>\n",
       "      <td>130</td>\n",
       "      <td>0.00</td>\n",
       "      <td>0.00</td>\n",
       "    </tr>\n",
       "  </tbody>\n",
       "</table>\n",
       "</div>"
      ],
      "text/plain": [
       "     threshods   tp   fp   fn   tn     tpr     fpr\n",
       "0         0.00  163  130    0    0  100.00  100.00\n",
       "2         0.02  163  130    0    0  100.00  100.00\n",
       "4         0.04  163  130    0    0  100.00  100.00\n",
       "6         0.06  163  130    0    0  100.00  100.00\n",
       "8         0.08  163  130    0    0  100.00  100.00\n",
       "10        0.10  163  130    0    0  100.00  100.00\n",
       "12        0.12  163  130    0    0  100.00  100.00\n",
       "14        0.14  163  130    0    0  100.00  100.00\n",
       "16        0.16  163  130    0    0  100.00  100.00\n",
       "18        0.18  163  130    0    0  100.00  100.00\n",
       "20        0.20  163  130    0    0  100.00  100.00\n",
       "22        0.22  163  129    0    1  100.00   99.23\n",
       "24        0.24  163  127    0    3  100.00   97.69\n",
       "26        0.26  163  127    0    3  100.00   97.69\n",
       "28        0.28  163  127    0    3  100.00   97.69\n",
       "30        0.30  163  126    0    4  100.00   96.92\n",
       "32        0.32  163  123    0    7  100.00   94.62\n",
       "34        0.34  163  119    0   11  100.00   91.54\n",
       "36        0.36  162  116    1   14   99.39   89.23\n",
       "38        0.38  161  112    2   18   98.77   86.15\n",
       "40        0.40  160  109    3   21   98.16   83.85\n",
       "42        0.42  160  103    3   27   98.16   79.23\n",
       "44        0.44  157   96    6   34   96.32   73.85\n",
       "46        0.46  157   90    6   40   96.32   69.23\n",
       "48        0.48  156   83    7   47   95.71   63.85\n",
       "50        0.50  155   80    8   50   95.09   61.54\n",
       "52        0.52  153   73   10   57   93.87   56.15\n",
       "54        0.54  153   65   10   65   93.87   50.00\n",
       "56        0.56  153   58   10   72   93.87   44.62\n",
       "58        0.58  149   51   14   79   91.41   39.23\n",
       "60        0.60  147   49   16   81   90.18   37.69\n",
       "62        0.62  140   37   23   93   85.89   28.46\n",
       "64        0.64  130   35   33   95   79.75   26.92\n",
       "66        0.66  126   28   37  102   77.30   21.54\n",
       "68        0.68  121   25   42  105   74.23   19.23\n",
       "70        0.70  108   22   55  108   66.26   16.92\n",
       "72        0.72  100   15   63  115   61.35   11.54\n",
       "74        0.74   92   12   71  118   56.44    9.23\n",
       "76        0.76   78   10   85  120   47.85    7.69\n",
       "78        0.78   73    8   90  122   44.79    6.15\n",
       "80        0.80   62    4  101  126   38.04    3.08\n",
       "82        0.82   53    3  110  127   32.52    2.31\n",
       "84        0.84   47    3  116  127   28.83    2.31\n",
       "86        0.86   35    2  128  128   21.47    1.54\n",
       "88        0.88   30    1  133  129   18.40    0.77\n",
       "90        0.90   19    0  144  130   11.66    0.00\n",
       "92        0.92   13    0  150  130    7.98    0.00\n",
       "94        0.94    8    0  155  130    4.91    0.00\n",
       "96        0.96    4    0  159  130    2.45    0.00\n",
       "98        0.98    0    0  163  130    0.00    0.00\n",
       "100       1.00    0    0  163  130    0.00    0.00"
      ]
     },
     "execution_count": 74,
     "metadata": {},
     "output_type": "execute_result"
    }
   ],
   "source": [
    "df_scores[::2]"
   ]
  },
  {
   "cell_type": "code",
   "execution_count": 75,
   "id": "f8f2e256-0c23-4d8b-8c8c-ca7ac38e062a",
   "metadata": {},
   "outputs": [
    {
     "data": {
      "image/png": "[encoded data removed]",
      "text/plain": [
       "<Figure size 640x480 with 1 Axes>"
      ]
     },
     "metadata": {},
     "output_type": "display_data"
    }
   ],
   "source": [
    "plt.plot(df_scores.threshods, df_scores['tpr'], label='TPR')\n",
    "plt.plot(df_scores.threshods, df_scores['fpr'], label='FPR')\n",
    "plt.legend()\n",
    "plt.show()"
   ]
  },
  {
   "cell_type": "markdown",
   "id": "9abb22cf-a13a-4487-834b-6cce0dedcd9e",
   "metadata": {},
   "source": [
    "### Random model"
   ]
  },
  {
   "cell_type": "code",
   "execution_count": 76,
   "id": "c6b20685-8fcf-4400-9370-7859fd861c1d",
   "metadata": {},
   "outputs": [],
   "source": [
    "np.random.seed(2)\n",
    "y_rand = np.random.uniform(0, 1, size=len(y_val))"
   ]
  },
  {
   "cell_type": "code",
   "execution_count": 77,
   "id": "738e583e-d220-44a9-b925-70fb98ac8ec9",
   "metadata": {},
   "outputs": [
    {
     "data": {
      "text/plain": [
       "array([0.436, 0.026, 0.55 , 0.435, 0.42 , 0.33 , 0.205, 0.619, 0.3  ,\n",
       "       0.267, 0.621, 0.529, 0.135, 0.514, 0.184, 0.785, 0.854, 0.494,\n",
       "       0.847, 0.08 , 0.505, 0.065, 0.428, 0.097, 0.127, 0.597, 0.226,\n",
       "       0.107, 0.22 , 0.35 , 0.468, 0.202, 0.64 , 0.483, 0.505, 0.387,\n",
       "       0.794, 0.58 , 0.162, 0.701, 0.965, 0.5  , 0.89 , 0.342, 0.567,\n",
       "       0.428, 0.437, 0.777, 0.536, 0.954, 0.544, 0.082, 0.366, 0.851,\n",
       "       0.406, 0.027, 0.247, 0.067, 0.994, 0.971, 0.8  , 0.602, 0.765,\n",
       "       0.169, 0.293, 0.524, 0.357, 0.046, 0.983, 0.441, 0.504, 0.324,\n",
       "       0.26 , 0.387, 0.832, 0.737, 0.379, 0.013, 0.797, 0.269, 0.583,\n",
       "       0.026, 0.662, 0.388, 0.497, 0.415, 0.351, 0.551, 0.973, 0.113,\n",
       "       0.313, 0.042, 0.738, 0.658, 0.215, 0.417, 0.644, 0.661, 0.17 ,\n",
       "       0.882, 0.778, 0.134, 0.869, 0.749, 0.799, 0.543, 0.221, 0.918,\n",
       "       0.592, 0.346, 0.264, 0.914, 0.42 , 0.54 , 0.608, 0.826, 0.624,\n",
       "       0.177, 0.591, 0.489, 0.548, 0.7  , 0.246, 0.187, 0.111, 0.274,\n",
       "       0.01 , 0.629, 0.295, 0.187, 0.095, 0.284, 0.215, 0.286, 0.471,\n",
       "       0.549, 0.845, 0.989, 0.049, 0.232, 0.643, 0.161, 0.87 , 0.217,\n",
       "       0.742, 0.653, 0.799, 0.031, 0.23 , 0.705, 0.088, 0.031, 0.357,\n",
       "       0.59 , 0.052, 0.066, 0.044, 0.395, 0.668, 0.198, 0.876, 0.432,\n",
       "       0.62 , 0.29 , 0.615, 0.954, 0.448, 0.207, 0.425, 0.445, 0.508,\n",
       "       0.526, 0.042, 0.164, 0.45 , 0.708, 0.778, 0.777, 0.503, 0.957,\n",
       "       0.332, 0.481, 0.748, 0.858, 0.414, 0.849, 0.445, 0.716, 0.008,\n",
       "       0.025, 0.94 , 0.102, 0.662, 0.283, 0.201, 0.388, 0.926, 0.57 ,\n",
       "       0.917, 0.702, 0.501, 0.506, 0.219, 0.005, 0.418, 0.563, 0.877,\n",
       "       0.678, 0.842, 0.926, 0.941, 0.816, 0.131, 0.347, 0.209, 0.867,\n",
       "       0.792, 0.349, 0.569, 0.805, 0.833, 0.206, 0.731, 0.803, 0.043,\n",
       "       0.107, 0.435, 0.221, 0.881, 0.72 , 0.713, 0.77 , 0.331, 0.229,\n",
       "       0.626, 0.414, 0.937, 0.642, 0.387, 0.855, 0.381, 0.178, 0.782,\n",
       "       0.472, 0.259, 0.692, 0.98 , 0.246, 0.79 , 0.762, 0.12 , 0.839,\n",
       "       0.462, 0.126, 0.536, 0.297, 0.176, 0.079, 0.199, 0.43 , 0.642,\n",
       "       0.087, 0.716, 0.102, 0.176, 0.713, 0.885, 0.983, 0.653, 0.478,\n",
       "       0.088, 0.559, 0.181, 0.514, 0.609, 0.833, 0.324, 0.989, 0.995,\n",
       "       0.826, 0.694, 0.734, 0.875, 0.952, 0.852, 0.641, 0.073, 0.623,\n",
       "       0.353, 0.165, 0.893, 0.825, 0.527])"
      ]
     },
     "execution_count": 77,
     "metadata": {},
     "output_type": "execute_result"
    }
   ],
   "source": [
    "y_rand.round(3)"
   ]
  },
  {
   "cell_type": "code",
   "execution_count": 78,
   "id": "35bd3d7b-7f32-4cce-9a89-6f10f67c7cfd",
   "metadata": {},
   "outputs": [
    {
     "data": {
      "text/plain": [
       "np.float64(0.5051194539249146)"
      ]
     },
     "execution_count": 78,
     "metadata": {},
     "output_type": "execute_result"
    }
   ],
   "source": [
    "((y_rand >= .5) == y_val).mean()"
   ]
  },
  {
   "cell_type": "code",
   "execution_count": 79,
   "id": "d53012d5-525d-413f-a4ce-6e38aaf06915",
   "metadata": {},
   "outputs": [],
   "source": [
    "def tpr_fpr_dataframe(y_val, y_pred):\n",
    "    scores_ = []\n",
    "    threshods = np.linspace(0, 1, 101)\n",
    "\n",
    "    for t in threshods:\n",
    "        actual_positive = (y_val == 1)\n",
    "        actual_negative = (y_val == 0)\n",
    "\n",
    "        predict_positive = (y_pred >= t)\n",
    "        predict_negative = (y_pred < t)\n",
    "\n",
    "        tp = (predict_positive & actual_positive).sum()\n",
    "        tn = (predict_negative & actual_negative).sum()\n",
    "        fp = (predict_positive & actual_negative).sum()\n",
    "        fn = (predict_negative & actual_positive).sum()\n",
    "\n",
    "        scores_.append((t, tp, fp, fn, tn))\n",
    "\n",
    "    columns = ['threshods', 'tp', 'fp', 'fn', 'tn']\n",
    "    df_scores = pd.DataFrame(scores_, columns=columns)\n",
    "    df_scores['tpr'] = (100 * df_scores.tp / (df_scores.fn + df_scores.tp)).round(2)\n",
    "    df_scores['fpr'] = (100 * df_scores.fp / (df_scores.tn + df_scores.fp)).round(2)\n",
    "\n",
    "    return df_scores"
   ]
  },
  {
   "cell_type": "code",
   "execution_count": 80,
   "id": "d170c54a-7094-4bb2-bfc5-651ec511badc",
   "metadata": {},
   "outputs": [],
   "source": [
    "df_rand = tpr_fpr_dataframe(y_val, y_rand)"
   ]
  },
  {
   "cell_type": "code",
   "execution_count": 81,
   "id": "c8dbcd5f-0659-4434-99f9-c4e7285713a4",
   "metadata": {},
   "outputs": [
    {
     "data": {
      "text/html": [
       "<div>\n",
       "<style scoped>\n",
       "    .dataframe tbody tr th:only-of-type {\n",
       "        vertical-align: middle;\n",
       "    }\n",
       "\n",
       "    .dataframe tbody tr th {\n",
       "        vertical-align: top;\n",
       "    }\n",
       "\n",
       "    .dataframe thead th {\n",
       "        text-align: right;\n",
       "    }\n",
       "</style>\n",
       "<table border=\"1\" class=\"dataframe\">\n",
       "  <thead>\n",
       "    <tr style=\"text-align: right;\">\n",
       "      <th></th>\n",
       "      <th>threshods</th>\n",
       "      <th>tp</th>\n",
       "      <th>fp</th>\n",
       "      <th>fn</th>\n",
       "      <th>tn</th>\n",
       "      <th>tpr</th>\n",
       "      <th>fpr</th>\n",
       "    </tr>\n",
       "  </thead>\n",
       "  <tbody>\n",
       "    <tr>\n",
       "      <th>0</th>\n",
       "      <td>0.00</td>\n",
       "      <td>163</td>\n",
       "      <td>130</td>\n",
       "      <td>0</td>\n",
       "      <td>0</td>\n",
       "      <td>100.00</td>\n",
       "      <td>100.00</td>\n",
       "    </tr>\n",
       "    <tr>\n",
       "      <th>5</th>\n",
       "      <td>0.05</td>\n",
       "      <td>152</td>\n",
       "      <td>125</td>\n",
       "      <td>11</td>\n",
       "      <td>5</td>\n",
       "      <td>93.25</td>\n",
       "      <td>96.15</td>\n",
       "    </tr>\n",
       "    <tr>\n",
       "      <th>10</th>\n",
       "      <td>0.10</td>\n",
       "      <td>147</td>\n",
       "      <td>117</td>\n",
       "      <td>16</td>\n",
       "      <td>13</td>\n",
       "      <td>90.18</td>\n",
       "      <td>90.00</td>\n",
       "    </tr>\n",
       "    <tr>\n",
       "      <th>15</th>\n",
       "      <td>0.15</td>\n",
       "      <td>138</td>\n",
       "      <td>114</td>\n",
       "      <td>25</td>\n",
       "      <td>16</td>\n",
       "      <td>84.66</td>\n",
       "      <td>87.69</td>\n",
       "    </tr>\n",
       "    <tr>\n",
       "      <th>20</th>\n",
       "      <td>0.20</td>\n",
       "      <td>134</td>\n",
       "      <td>102</td>\n",
       "      <td>29</td>\n",
       "      <td>28</td>\n",
       "      <td>82.21</td>\n",
       "      <td>78.46</td>\n",
       "    </tr>\n",
       "    <tr>\n",
       "      <th>25</th>\n",
       "      <td>0.25</td>\n",
       "      <td>122</td>\n",
       "      <td>94</td>\n",
       "      <td>41</td>\n",
       "      <td>36</td>\n",
       "      <td>74.85</td>\n",
       "      <td>72.31</td>\n",
       "    </tr>\n",
       "    <tr>\n",
       "      <th>30</th>\n",
       "      <td>0.30</td>\n",
       "      <td>114</td>\n",
       "      <td>88</td>\n",
       "      <td>49</td>\n",
       "      <td>42</td>\n",
       "      <td>69.94</td>\n",
       "      <td>67.69</td>\n",
       "    </tr>\n",
       "    <tr>\n",
       "      <th>35</th>\n",
       "      <td>0.35</td>\n",
       "      <td>111</td>\n",
       "      <td>80</td>\n",
       "      <td>52</td>\n",
       "      <td>50</td>\n",
       "      <td>68.10</td>\n",
       "      <td>61.54</td>\n",
       "    </tr>\n",
       "    <tr>\n",
       "      <th>40</th>\n",
       "      <td>0.40</td>\n",
       "      <td>101</td>\n",
       "      <td>77</td>\n",
       "      <td>62</td>\n",
       "      <td>53</td>\n",
       "      <td>61.96</td>\n",
       "      <td>59.23</td>\n",
       "    </tr>\n",
       "    <tr>\n",
       "      <th>45</th>\n",
       "      <td>0.45</td>\n",
       "      <td>90</td>\n",
       "      <td>67</td>\n",
       "      <td>73</td>\n",
       "      <td>63</td>\n",
       "      <td>55.21</td>\n",
       "      <td>51.54</td>\n",
       "    </tr>\n",
       "    <tr>\n",
       "      <th>50</th>\n",
       "      <td>0.50</td>\n",
       "      <td>82</td>\n",
       "      <td>64</td>\n",
       "      <td>81</td>\n",
       "      <td>66</td>\n",
       "      <td>50.31</td>\n",
       "      <td>49.23</td>\n",
       "    </tr>\n",
       "    <tr>\n",
       "      <th>55</th>\n",
       "      <td>0.55</td>\n",
       "      <td>68</td>\n",
       "      <td>56</td>\n",
       "      <td>95</td>\n",
       "      <td>74</td>\n",
       "      <td>41.72</td>\n",
       "      <td>43.08</td>\n",
       "    </tr>\n",
       "    <tr>\n",
       "      <th>60</th>\n",
       "      <td>0.60</td>\n",
       "      <td>60</td>\n",
       "      <td>52</td>\n",
       "      <td>103</td>\n",
       "      <td>78</td>\n",
       "      <td>36.81</td>\n",
       "      <td>40.00</td>\n",
       "    </tr>\n",
       "    <tr>\n",
       "      <th>65</th>\n",
       "      <td>0.65</td>\n",
       "      <td>49</td>\n",
       "      <td>46</td>\n",
       "      <td>114</td>\n",
       "      <td>84</td>\n",
       "      <td>30.06</td>\n",
       "      <td>35.38</td>\n",
       "    </tr>\n",
       "    <tr>\n",
       "      <th>70</th>\n",
       "      <td>0.70</td>\n",
       "      <td>42</td>\n",
       "      <td>42</td>\n",
       "      <td>121</td>\n",
       "      <td>88</td>\n",
       "      <td>25.77</td>\n",
       "      <td>32.31</td>\n",
       "    </tr>\n",
       "    <tr>\n",
       "      <th>75</th>\n",
       "      <td>0.75</td>\n",
       "      <td>37</td>\n",
       "      <td>31</td>\n",
       "      <td>126</td>\n",
       "      <td>99</td>\n",
       "      <td>22.70</td>\n",
       "      <td>23.85</td>\n",
       "    </tr>\n",
       "    <tr>\n",
       "      <th>80</th>\n",
       "      <td>0.80</td>\n",
       "      <td>24</td>\n",
       "      <td>29</td>\n",
       "      <td>139</td>\n",
       "      <td>101</td>\n",
       "      <td>14.72</td>\n",
       "      <td>22.31</td>\n",
       "    </tr>\n",
       "    <tr>\n",
       "      <th>85</th>\n",
       "      <td>0.85</td>\n",
       "      <td>18</td>\n",
       "      <td>20</td>\n",
       "      <td>145</td>\n",
       "      <td>110</td>\n",
       "      <td>11.04</td>\n",
       "      <td>15.38</td>\n",
       "    </tr>\n",
       "    <tr>\n",
       "      <th>90</th>\n",
       "      <td>0.90</td>\n",
       "      <td>12</td>\n",
       "      <td>10</td>\n",
       "      <td>151</td>\n",
       "      <td>120</td>\n",
       "      <td>7.36</td>\n",
       "      <td>7.69</td>\n",
       "    </tr>\n",
       "    <tr>\n",
       "      <th>95</th>\n",
       "      <td>0.95</td>\n",
       "      <td>9</td>\n",
       "      <td>5</td>\n",
       "      <td>154</td>\n",
       "      <td>125</td>\n",
       "      <td>5.52</td>\n",
       "      <td>3.85</td>\n",
       "    </tr>\n",
       "    <tr>\n",
       "      <th>100</th>\n",
       "      <td>1.00</td>\n",
       "      <td>0</td>\n",
       "      <td>0</td>\n",
       "      <td>163</td>\n",
       "      <td>130</td>\n",
       "      <td>0.00</td>\n",
       "      <td>0.00</td>\n",
       "    </tr>\n",
       "  </tbody>\n",
       "</table>\n",
       "</div>"
      ],
      "text/plain": [
       "     threshods   tp   fp   fn   tn     tpr     fpr\n",
       "0         0.00  163  130    0    0  100.00  100.00\n",
       "5         0.05  152  125   11    5   93.25   96.15\n",
       "10        0.10  147  117   16   13   90.18   90.00\n",
       "15        0.15  138  114   25   16   84.66   87.69\n",
       "20        0.20  134  102   29   28   82.21   78.46\n",
       "25        0.25  122   94   41   36   74.85   72.31\n",
       "30        0.30  114   88   49   42   69.94   67.69\n",
       "35        0.35  111   80   52   50   68.10   61.54\n",
       "40        0.40  101   77   62   53   61.96   59.23\n",
       "45        0.45   90   67   73   63   55.21   51.54\n",
       "50        0.50   82   64   81   66   50.31   49.23\n",
       "55        0.55   68   56   95   74   41.72   43.08\n",
       "60        0.60   60   52  103   78   36.81   40.00\n",
       "65        0.65   49   46  114   84   30.06   35.38\n",
       "70        0.70   42   42  121   88   25.77   32.31\n",
       "75        0.75   37   31  126   99   22.70   23.85\n",
       "80        0.80   24   29  139  101   14.72   22.31\n",
       "85        0.85   18   20  145  110   11.04   15.38\n",
       "90        0.90   12   10  151  120    7.36    7.69\n",
       "95        0.95    9    5  154  125    5.52    3.85\n",
       "100       1.00    0    0  163  130    0.00    0.00"
      ]
     },
     "execution_count": 81,
     "metadata": {},
     "output_type": "execute_result"
    }
   ],
   "source": [
    "df_rand[::5]"
   ]
  },
  {
   "cell_type": "code",
   "execution_count": 82,
   "id": "88c16ec0-224c-43fe-ba3a-bf7e313b619e",
   "metadata": {},
   "outputs": [
    {
     "data": {
      "image/png": "[encoded data removed]",
      "text/plain": [
       "<Figure size 640x480 with 1 Axes>"
      ]
     },
     "metadata": {},
     "output_type": "display_data"
    }
   ],
   "source": [
    "plt.plot(df_rand.threshods, df_rand['tpr'], label='TPR')\n",
    "plt.plot(df_rand.threshods, df_rand['fpr'], label='FPR')\n",
    "plt.legend()\n",
    "plt.show()"
   ]
  },
  {
   "cell_type": "markdown",
   "id": "0be73214-b8dc-43d9-a9d6-6be2e5d4dc41",
   "metadata": {},
   "source": [
    "### Ideal model"
   ]
  },
  {
   "cell_type": "code",
   "execution_count": 83,
   "id": "7e9174e2-843c-4c20-9e7e-2cfdb5f4f960",
   "metadata": {},
   "outputs": [
    {
     "name": "stdout",
     "output_type": "stream",
     "text": [
      "130 163\n"
     ]
    }
   ],
   "source": [
    "num_neg = (y_val == 0).sum()\n",
    "num_pos = (y_val == 1).sum()\n",
    "print(num_neg, num_pos)"
   ]
  },
  {
   "cell_type": "markdown",
   "id": "2f90d088-cc70-43b9-b7d3-3c0795da6e79",
   "metadata": {},
   "source": [
    "réquilibrage des données:\n",
    "y_ideal = np.repeat([0, 1], [num_neg, num_pos])\n",
    "\n",
    "\n",
    "y_ideal_predi = np.linspace(0, 1, len(y_val))\n",
    "\n",
    "preuve:\n",
    "c = 1 -y_val.mean()\n",
    "\n",
    "((y_ideal_pred >= c) == y_ideal).mean() doit donner 1"
   ]
  },
  {
   "cell_type": "code",
   "execution_count": 84,
   "id": "c08de0a3-1d08-4675-8001-b1f5b7662814",
   "metadata": {},
   "outputs": [
    {
     "data": {
      "text/plain": [
       "np.float64(0.4436860068259386)"
      ]
     },
     "execution_count": 84,
     "metadata": {},
     "output_type": "execute_result"
    }
   ],
   "source": [
    "1 -y_val.mean()"
   ]
  },
  {
   "cell_type": "code",
   "execution_count": 85,
   "id": "cb008681-123d-456e-9b23-3a81fdc1d163",
   "metadata": {},
   "outputs": [
    {
     "data": {
      "text/plain": [
       "np.float64(1.0)"
      ]
     },
     "execution_count": 85,
     "metadata": {},
     "output_type": "execute_result"
    }
   ],
   "source": [
    "y_ideal = np.repeat([0, 1], [num_neg, num_pos])\n",
    "y_ideal_pred = np.linspace(0, 1, len(y_val))\n",
    "\n",
    "((y_ideal_pred >= .443) == y_ideal).mean()"
   ]
  },
  {
   "cell_type": "code",
   "execution_count": 86,
   "id": "51d30020-51e5-4b38-a3a8-68ee3c8a68d9",
   "metadata": {},
   "outputs": [],
   "source": [
    "df_ideal = tpr_fpr_dataframe(y_ideal, y_ideal_pred)"
   ]
  },
  {
   "cell_type": "code",
   "execution_count": 87,
   "id": "811018b9-bacf-478c-b981-44bf550a7f19",
   "metadata": {},
   "outputs": [
    {
     "data": {
      "image/png": "[encoded data removed]",
      "text/plain": [
       "<Figure size 640x480 with 1 Axes>"
      ]
     },
     "metadata": {},
     "output_type": "display_data"
    }
   ],
   "source": [
    "plt.plot(df_ideal.threshods, df_ideal['tpr'], label='TPR')\n",
    "plt.plot(df_ideal.threshods, df_ideal['fpr'], label='FPR')\n",
    "plt.legend()\n",
    "plt.show()"
   ]
  },
  {
   "cell_type": "markdown",
   "id": "c71a29a9-80d1-4c92-b8c4-eb317d66e29a",
   "metadata": {},
   "source": [
    "### Putting everyting together"
   ]
  },
  {
   "cell_type": "code",
   "execution_count": 88,
   "id": "fbf508c9-ac7d-4246-923e-9aeefe7b45ca",
   "metadata": {},
   "outputs": [
    {
     "data": {
      "image/png": "[encoded data removed]",
      "text/plain": [
       "<Figure size 640x480 with 1 Axes>"
      ]
     },
     "metadata": {},
     "output_type": "display_data"
    }
   ],
   "source": [
    "plt.plot(df_scores.threshods, df_scores['tpr'], label='TPR')\n",
    "plt.plot(df_scores.threshods, df_scores['fpr'], label='FPR')\n",
    "\n",
    "\n",
    "#plt.plot(df_rand.threshods, df_rand['tpr'], label='TPR')\n",
    "#plt.plot(df_rand.threshods, df_rand['fpr'], label='FPR')\n",
    "\n",
    "\n",
    "plt.plot(df_ideal.threshods, df_ideal['tpr'], label='TPR', color='black')\n",
    "plt.plot(df_ideal.threshods, df_ideal['fpr'], label='FPR', color='black')\n",
    "\n",
    "plt.legend()\n",
    "plt.show()"
   ]
  },
  {
   "cell_type": "code",
   "execution_count": 89,
   "id": "49eaea62-de69-4ad3-9efb-6f8e8caac083",
   "metadata": {},
   "outputs": [
    {
     "data": {
      "image/png": "[encoded data removed]",
      "text/plain": [
       "<Figure size 600x600 with 1 Axes>"
      ]
     },
     "metadata": {},
     "output_type": "display_data"
    }
   ],
   "source": [
    "plt.figure(figsize=(6, 6))\n",
    "plt.plot(df_scores.fpr, df_scores.tpr, label='model')\n",
    "plt.plot(df_rand.fpr, df_rand.tpr, label='random')\n",
    "plt.plot(df_ideal.fpr, df_ideal.tpr, label='model')\n",
    "\n",
    "plt.xlabel('FPR')\n",
    "plt.ylabel('TPR')\n",
    "\n",
    "plt.legend()\n",
    "plt.show()"
   ]
  },
  {
   "cell_type": "code",
   "execution_count": 90,
   "id": "106935c2-319e-4854-a4c4-6d246b06901f",
   "metadata": {},
   "outputs": [
    {
     "data": {
      "image/png": "[encoded data removed]",
      "text/plain": [
       "<Figure size 600x600 with 1 Axes>"
      ]
     },
     "metadata": {},
     "output_type": "display_data"
    }
   ],
   "source": [
    "plt.figure(figsize=(6, 6))\n",
    "plt.plot(df_scores.fpr, df_scores.tpr, label='model')\n",
    "plt.plot([0, 100], [0, 100], label='random')\n",
    "#plt.plot(df_rand.fpr, df_rand.tpr, label='random')\n",
    "#plt.plot(df_ideal.fpr, df_ideal.tpr, label='model')\n",
    "\n",
    "plt.xlabel('FPR')\n",
    "plt.ylabel('TPR')\n",
    "\n",
    "plt.legend()\n",
    "plt.show()"
   ]
  },
  {
   "cell_type": "code",
   "execution_count": 91,
   "id": "3637091d-c2fc-4c7b-8603-379bd5b5babf",
   "metadata": {},
   "outputs": [],
   "source": [
    "from sklearn.metrics import roc_curve"
   ]
  },
  {
   "cell_type": "code",
   "execution_count": 92,
   "id": "85c8e350-b099-42ff-994a-e8346d7a71df",
   "metadata": {},
   "outputs": [],
   "source": [
    "fpr, tpr, threshold = roc_curve(y_val, y_pred)"
   ]
  },
  {
   "cell_type": "code",
   "execution_count": 93,
   "id": "ba9497b1-cd4b-4bd1-af09-9b26187e8143",
   "metadata": {},
   "outputs": [
    {
     "data": {
      "image/png": "[encoded data removed]",
      "text/plain": [
       "<Figure size 600x600 with 1 Axes>"
      ]
     },
     "metadata": {},
     "output_type": "display_data"
    }
   ],
   "source": [
    "plt.figure(figsize=(6, 6))\n",
    "plt.plot(fpr, tpr, label='model')\n",
    "plt.plot([0, 1], [0, 1], label='random', linestyle='--')\n",
    "#plt.plot(df_rand.fpr, df_rand.tpr, label='random')\n",
    "#plt.plot(df_ideal.fpr, df_ideal.tpr, label='model')\n",
    "\n",
    "plt.xlabel('FPR')\n",
    "plt.ylabel('TPR')\n",
    "\n",
    "plt.legend()\n",
    "plt.show()"
   ]
  },
  {
   "cell_type": "markdown",
   "id": "f65151e6-3dd4-48d5-aa30-45958ecc6645",
   "metadata": {},
   "source": [
    "### 6. ROC AUC \n",
    "- Area under the ROC curve - useful metric\n",
    "- Interpretation of AUC"
   ]
  },
  {
   "cell_type": "code",
   "execution_count": 94,
   "id": "3d5e8a02-ca66-4056-991f-c1c04dccea0b",
   "metadata": {},
   "outputs": [],
   "source": [
    "from sklearn.metrics import auc"
   ]
  },
  {
   "cell_type": "code",
   "execution_count": 95,
   "id": "49ca2adb-5996-41be-9b39-c2a84fec4dca",
   "metadata": {},
   "outputs": [
    {
     "data": {
      "text/plain": [
       "0.8549315714959888"
      ]
     },
     "execution_count": 95,
     "metadata": {},
     "output_type": "execute_result"
    }
   ],
   "source": [
    "auc(fpr, tpr)"
   ]
  },
  {
   "cell_type": "code",
   "execution_count": 98,
   "id": "0c4bf743-6eb9-4d73-a5fe-6118e75f0c24",
   "metadata": {},
   "outputs": [
    {
     "data": {
      "text/plain": [
       "85.399738"
      ]
     },
     "execution_count": 98,
     "metadata": {},
     "output_type": "execute_result"
    }
   ],
   "source": [
    "auc(df_scores.fpr, df_scores.tpr) / 100"
   ]
  },
  {
   "cell_type": "code",
   "execution_count": 99,
   "id": "5fc88249-0745-4e89-bbb5-26656e4d4556",
   "metadata": {},
   "outputs": [
    {
     "data": {
      "text/plain": [
       "99.99526450000002"
      ]
     },
     "execution_count": 99,
     "metadata": {},
     "output_type": "execute_result"
    }
   ],
   "source": [
    "auc(df_ideal.fpr, df_ideal.tpr) / 100"
   ]
  },
  {
   "cell_type": "code",
   "execution_count": 101,
   "id": "0e90208e-2880-4f7c-8d9c-102185654000",
   "metadata": {},
   "outputs": [
    {
     "data": {
      "text/plain": [
       "85.399738"
      ]
     },
     "execution_count": 101,
     "metadata": {},
     "output_type": "execute_result"
    }
   ],
   "source": [
    "fpr, tpr, threshold = roc_curve(y_val, y_pred)\n",
    "auc(df_scores.fpr, df_scores.tpr) / 100"
   ]
  },
  {
   "cell_type": "code",
   "execution_count": 102,
   "id": "44f645fa-704d-41ed-a516-a9c17b74f86e",
   "metadata": {},
   "outputs": [],
   "source": [
    "from sklearn.metrics import roc_auc_score"
   ]
  },
  {
   "cell_type": "code",
   "execution_count": 103,
   "id": "b029b80c-495d-4508-8527-e99975fbcc3c",
   "metadata": {},
   "outputs": [
    {
     "data": {
      "text/plain": [
       "0.8549315714959888"
      ]
     },
     "execution_count": 103,
     "metadata": {},
     "output_type": "execute_result"
    }
   ],
   "source": [
    "roc_auc_score(y_val, y_pred)"
   ]
  },
  {
   "cell_type": "code",
   "execution_count": 104,
   "id": "f554b4d1-ffad-441f-b6ff-8b02f649d09a",
   "metadata": {},
   "outputs": [],
   "source": [
    "neg = y_pred[y_val == 0]\n",
    "pos = y_pred[y_val == 1]"
   ]
  },
  {
   "cell_type": "code",
   "execution_count": 105,
   "id": "a59c7417-b585-405a-8b23-7d027e0090e0",
   "metadata": {},
   "outputs": [],
   "source": [
    "import random"
   ]
  },
  {
   "cell_type": "code",
   "execution_count": 111,
   "id": "b66b65b1-df0c-4975-ad8a-a2e40d7fe215",
   "metadata": {},
   "outputs": [
    {
     "data": {
      "text/plain": [
       "0.85485"
      ]
     },
     "execution_count": 111,
     "metadata": {},
     "output_type": "execute_result"
    }
   ],
   "source": [
    "n = 100000\n",
    "success = 0\n",
    "\n",
    "for i in range(n):\n",
    "    pos_ind = random.randint(0, len(pos) - 1)\n",
    "    neg_ind = random.randint(0, len(neg) - 1)\n",
    "\n",
    "    if pos[pos_ind] > neg[neg_ind]:\n",
    "        success += 1\n",
    "\n",
    "success / n"
   ]
  },
  {
   "cell_type": "code",
   "execution_count": 118,
   "id": "b8e764de-067f-43a5-a054-ea50cdc4bee5",
   "metadata": {},
   "outputs": [
    {
     "data": {
      "text/plain": [
       "np.float64(0.8562)"
      ]
     },
     "execution_count": 118,
     "metadata": {},
     "output_type": "execute_result"
    }
   ],
   "source": [
    "n = 50000\n",
    "\n",
    "np.random.seed(4)\n",
    "pos_ind = np.random.randint(0, len(pos), size=n)\n",
    "neg_ind = np.random.randint(0, len(neg), size=n)\n",
    "(pos[pos_ind] > neg[neg_ind]).mean()"
   ]
  },
  {
   "cell_type": "markdown",
   "id": "0661205f-db8f-4e9c-bfe1-67bc74d7bba4",
   "metadata": {},
   "source": [
    "### 7. Cross-Validation\n",
    "- Evaluating the same model on different subsets of data\n",
    "- Getting the average prediction and the spread within predictions"
   ]
  },
  {
   "cell_type": "code",
   "execution_count": 170,
   "id": "49cce92f-d8e0-421e-9a62-2e1f9fb8dc98",
   "metadata": {},
   "outputs": [],
   "source": [
    "def train(df_train, y_train, c=1.0):\n",
    "    dicts = df_train[categorical_columns + num_columns].to_dict(orient='records')\n",
    "    dv = DictVectorizer(sparse=False)\n",
    "    X_train = dv.fit_transform(dicts)\n",
    "\n",
    "    mo = LogisticRegression(C=c, max_iter=1000, random_state=42)\n",
    "    mo.fit(X_train, y_train)\n",
    "\n",
    "    return dv, mo"
   ]
  },
  {
   "cell_type": "code",
   "execution_count": 122,
   "id": "4eb5f799-28c8-4063-8142-57b5a503aa42",
   "metadata": {},
   "outputs": [
    {
     "name": "stderr",
     "output_type": "stream",
     "text": [
      "/home/mbock/venvs/jupiterlab_env/lib/python3.10/site-packages/sklearn/linear_model/_logistic.py:473: ConvergenceWarning: lbfgs failed to converge after 100 iteration(s) (status=1):\n",
      "STOP: TOTAL NO. OF ITERATIONS REACHED LIMIT\n",
      "\n",
      "Increase the number of iterations to improve the convergence (max_iter=100).\n",
      "You might also want to scale the data as shown in:\n",
      "    https://scikit-learn.org/stable/modules/preprocessing.html\n",
      "Please also refer to the documentation for alternative solver options:\n",
      "    https://scikit-learn.org/stable/modules/linear_model.html#logistic-regression\n",
      "  n_iter_i = _check_optimize_result(\n"
     ]
    }
   ],
   "source": [
    "dv, modl = train(data_train, y_train)"
   ]
  },
  {
   "cell_type": "code",
   "execution_count": 129,
   "id": "40c01059-d149-4ce6-8f19-a6d806e7957b",
   "metadata": {},
   "outputs": [],
   "source": [
    "def predict(df, dv, modl):\n",
    "    dicts = df[categorical_columns + num_columns].to_dict(orient='records')\n",
    "    #dv = DictVectorizer(sparse=False)\n",
    "    X = dv.fit_transform(dicts)\n",
    "    y_pred = modl.predict_proba(X)[:, 1]\n",
    "    return y_pred"
   ]
  },
  {
   "cell_type": "code",
   "execution_count": 131,
   "id": "e41005f6-12cc-483d-a2f2-02f0d5f1a8c1",
   "metadata": {},
   "outputs": [],
   "source": [
    "y_pre = predict(data_val, dv, modl)"
   ]
  },
  {
   "cell_type": "code",
   "execution_count": 132,
   "id": "ac823677-65d0-41e1-a8ec-be8445dd9c0b",
   "metadata": {},
   "outputs": [],
   "source": [
    "from sklearn.model_selection import KFold"
   ]
  },
  {
   "cell_type": "code",
   "execution_count": 133,
   "id": "681cc976-215a-4cde-b5d0-ad845d843f76",
   "metadata": {},
   "outputs": [],
   "source": [
    "kfold = KFold(n_splits=10, shuffle=True, random_state=1)"
   ]
  },
  {
   "cell_type": "code",
   "execution_count": 137,
   "id": "a2b50e5c-9318-4ea2-962a-0cf317cfe9fe",
   "metadata": {},
   "outputs": [],
   "source": [
    "train_idx, val_idx = next(kfold.split(data_full_train))"
   ]
  },
  {
   "cell_type": "code",
   "execution_count": 139,
   "id": "27bd2d07-b21b-42a7-ad01-4bcbf423a899",
   "metadata": {},
   "outputs": [
    {
     "data": {
      "text/plain": [
       "(1052, 117, 1169)"
      ]
     },
     "execution_count": 139,
     "metadata": {},
     "output_type": "execute_result"
    }
   ],
   "source": [
    "len(train_idx), len(val_idx), len(data_full_train)"
   ]
  },
  {
   "cell_type": "code",
   "execution_count": 141,
   "id": "12dfed0f-2932-4a6f-9cf6-5127aeffc67b",
   "metadata": {},
   "outputs": [],
   "source": [
    "data_train_kfold = data_full_train.iloc[train_idx]\n",
    "data_val_kfold = data_full_train.iloc[val_idx]"
   ]
  },
  {
   "cell_type": "code",
   "execution_count": 151,
   "id": "cc9d3cb2-c9e0-4779-833d-6345ee8f603a",
   "metadata": {},
   "outputs": [],
   "source": [
    "#!pip install tqdm"
   ]
  },
  {
   "cell_type": "code",
   "execution_count": 152,
   "id": "b81a240d-fe91-487f-a7c0-54bbb2efd92f",
   "metadata": {},
   "outputs": [
    {
     "name": "stderr",
     "output_type": "stream",
     "text": [
      "/home/mbock/venvs/jupiterlab_env/lib/python3.10/site-packages/tqdm/auto.py:21: TqdmWarning: IProgress not found. Please update jupyter and ipywidgets. See https://ipywidgets.readthedocs.io/en/stable/user_install.html\n",
      "  from .autonotebook import tqdm as notebook_tqdm\n"
     ]
    }
   ],
   "source": [
    "from tqdm.auto import tqdm"
   ]
  },
  {
   "cell_type": "code",
   "execution_count": 172,
   "id": "0e7cd1d2-eb4d-4652-ab26-64385a204a2c",
   "metadata": {
    "scrolled": true
   },
   "outputs": [
    {
     "name": "stderr",
     "output_type": "stream",
     "text": [
      " 20%|█████████████████                                                                    | 1/5 [00:00<00:02,  1.73it/s]"
     ]
    },
    {
     "name": "stdout",
     "output_type": "stream",
     "text": [
      "C=0.001 0.861 +- 0.000\n"
     ]
    },
    {
     "name": "stderr",
     "output_type": "stream",
     "text": [
      " 40%|██████████████████████████████████                                                   | 2/5 [00:00<00:01,  2.41it/s]"
     ]
    },
    {
     "name": "stdout",
     "output_type": "stream",
     "text": [
      "C=0.001 0.865 +- 0.004\n"
     ]
    },
    {
     "name": "stderr",
     "output_type": "stream",
     "text": [
      " 60%|███████████████████████████████████████████████████                                  | 3/5 [00:01<00:00,  2.73it/s]"
     ]
    },
    {
     "name": "stdout",
     "output_type": "stream",
     "text": [
      "C=0.001 0.865 +- 0.003\n"
     ]
    },
    {
     "name": "stderr",
     "output_type": "stream",
     "text": [
      " 80%|████████████████████████████████████████████████████████████████████                 | 4/5 [00:01<00:00,  2.65it/s]"
     ]
    },
    {
     "name": "stdout",
     "output_type": "stream",
     "text": [
      "C=0.001 0.875 +- 0.016\n"
     ]
    },
    {
     "name": "stderr",
     "output_type": "stream",
     "text": [
      "100%|█████████████████████████████████████████████████████████████████████████████████████| 5/5 [00:01<00:00,  2.65it/s]\n"
     ]
    },
    {
     "name": "stdout",
     "output_type": "stream",
     "text": [
      "C=0.001 0.878 +- 0.016\n"
     ]
    },
    {
     "name": "stderr",
     "output_type": "stream",
     "text": [
      " 20%|█████████████████                                                                    | 1/5 [00:01<00:04,  1.23s/it]"
     ]
    },
    {
     "name": "stdout",
     "output_type": "stream",
     "text": [
      "C=0.01 0.880 +- 0.000\n"
     ]
    },
    {
     "name": "stderr",
     "output_type": "stream",
     "text": [
      " 40%|██████████████████████████████████                                                   | 2/5 [00:01<00:02,  1.22it/s]"
     ]
    },
    {
     "name": "stdout",
     "output_type": "stream",
     "text": [
      "C=0.01 0.880 +- 0.000\n"
     ]
    },
    {
     "name": "stderr",
     "output_type": "stream",
     "text": [
      " 60%|███████████████████████████████████████████████████                                  | 3/5 [00:02<00:01,  1.44it/s]"
     ]
    },
    {
     "name": "stdout",
     "output_type": "stream",
     "text": [
      "C=0.01 0.884 +- 0.006\n"
     ]
    },
    {
     "name": "stderr",
     "output_type": "stream",
     "text": [
      " 80%|████████████████████████████████████████████████████████████████████                 | 4/5 [00:03<00:00,  1.37it/s]"
     ]
    },
    {
     "name": "stdout",
     "output_type": "stream",
     "text": [
      "C=0.01 0.893 +- 0.015\n"
     ]
    },
    {
     "name": "stderr",
     "output_type": "stream",
     "text": [
      "100%|█████████████████████████████████████████████████████████████████████████████████████| 5/5 [00:03<00:00,  1.33it/s]\n"
     ]
    },
    {
     "name": "stdout",
     "output_type": "stream",
     "text": [
      "C=0.01 0.896 +- 0.016\n"
     ]
    },
    {
     "name": "stderr",
     "output_type": "stream",
     "text": [
      " 20%|█████████████████                                                                    | 1/5 [00:00<00:03,  1.02it/s]"
     ]
    },
    {
     "name": "stdout",
     "output_type": "stream",
     "text": [
      "C=0.1 0.919 +- 0.000\n"
     ]
    },
    {
     "name": "stderr",
     "output_type": "stream",
     "text": [
      " 40%|██████████████████████████████████                                                   | 2/5 [00:02<00:03,  1.22s/it]"
     ]
    },
    {
     "name": "stdout",
     "output_type": "stream",
     "text": [
      "C=0.1 0.911 +- 0.007\n"
     ]
    },
    {
     "name": "stderr",
     "output_type": "stream",
     "text": [
      " 60%|███████████████████████████████████████████████████                                  | 3/5 [00:03<00:01,  1.00it/s]"
     ]
    },
    {
     "name": "stdout",
     "output_type": "stream",
     "text": [
      "C=0.1 0.914 +- 0.007\n"
     ]
    },
    {
     "name": "stderr",
     "output_type": "stream",
     "text": [
      "/home/mbock/venvs/jupiterlab_env/lib/python3.10/site-packages/sklearn/linear_model/_logistic.py:473: ConvergenceWarning: lbfgs failed to converge after 1000 iteration(s) (status=1):\n",
      "STOP: TOTAL NO. OF ITERATIONS REACHED LIMIT\n",
      "\n",
      "Increase the number of iterations to improve the convergence (max_iter=1000).\n",
      "You might also want to scale the data as shown in:\n",
      "    https://scikit-learn.org/stable/modules/preprocessing.html\n",
      "Please also refer to the documentation for alternative solver options:\n",
      "    https://scikit-learn.org/stable/modules/linear_model.html#logistic-regression\n",
      "  n_iter_i = _check_optimize_result(\n",
      " 80%|████████████████████████████████████████████████████████████████████                 | 4/5 [00:04<00:01,  1.30s/it]"
     ]
    },
    {
     "name": "stdout",
     "output_type": "stream",
     "text": [
      "C=0.1 0.918 +- 0.009\n"
     ]
    },
    {
     "name": "stderr",
     "output_type": "stream",
     "text": [
      "/home/mbock/venvs/jupiterlab_env/lib/python3.10/site-packages/sklearn/linear_model/_logistic.py:473: ConvergenceWarning: lbfgs failed to converge after 1000 iteration(s) (status=1):\n",
      "STOP: TOTAL NO. OF ITERATIONS REACHED LIMIT\n",
      "\n",
      "Increase the number of iterations to improve the convergence (max_iter=1000).\n",
      "You might also want to scale the data as shown in:\n",
      "    https://scikit-learn.org/stable/modules/preprocessing.html\n",
      "Please also refer to the documentation for alternative solver options:\n",
      "    https://scikit-learn.org/stable/modules/linear_model.html#logistic-regression\n",
      "  n_iter_i = _check_optimize_result(\n",
      "100%|█████████████████████████████████████████████████████████████████████████████████████| 5/5 [00:06<00:00,  1.33s/it]\n"
     ]
    },
    {
     "name": "stdout",
     "output_type": "stream",
     "text": [
      "C=0.1 0.921 +- 0.010\n"
     ]
    },
    {
     "name": "stderr",
     "output_type": "stream",
     "text": [
      "  0%|                                                                                             | 0/5 [00:00<?, ?it/s]/home/mbock/venvs/jupiterlab_env/lib/python3.10/site-packages/sklearn/linear_model/_logistic.py:473: ConvergenceWarning: lbfgs failed to converge after 1000 iteration(s) (status=1):\n",
      "STOP: TOTAL NO. OF ITERATIONS REACHED LIMIT\n",
      "\n",
      "Increase the number of iterations to improve the convergence (max_iter=1000).\n",
      "You might also want to scale the data as shown in:\n",
      "    https://scikit-learn.org/stable/modules/preprocessing.html\n",
      "Please also refer to the documentation for alternative solver options:\n",
      "    https://scikit-learn.org/stable/modules/linear_model.html#logistic-regression\n",
      "  n_iter_i = _check_optimize_result(\n",
      " 20%|█████████████████                                                                    | 1/5 [00:01<00:05,  1.31s/it]/home/mbock/venvs/jupiterlab_env/lib/python3.10/site-packages/sklearn/linear_model/_logistic.py:473: ConvergenceWarning: lbfgs failed to converge after 1000 iteration(s) (status=1):\n",
      "STOP: TOTAL NO. OF ITERATIONS REACHED LIMIT\n",
      "\n",
      "Increase the number of iterations to improve the convergence (max_iter=1000).\n",
      "You might also want to scale the data as shown in:\n",
      "    https://scikit-learn.org/stable/modules/preprocessing.html\n",
      "Please also refer to the documentation for alternative solver options:\n",
      "    https://scikit-learn.org/stable/modules/linear_model.html#logistic-regression\n",
      "  n_iter_i = _check_optimize_result(\n",
      " 40%|██████████████████████████████████                                                   | 2/5 [00:01<00:01,  1.58it/s]"
     ]
    },
    {
     "name": "stdout",
     "output_type": "stream",
     "text": [
      "C=0.5 0.929 +- 0.000\n",
      "C=0.5 0.918 +- 0.011\n"
     ]
    },
    {
     "name": "stderr",
     "output_type": "stream",
     "text": [
      "/home/mbock/venvs/jupiterlab_env/lib/python3.10/site-packages/sklearn/linear_model/_logistic.py:473: ConvergenceWarning: lbfgs failed to converge after 1000 iteration(s) (status=1):\n",
      "STOP: TOTAL NO. OF ITERATIONS REACHED LIMIT\n",
      "\n",
      "Increase the number of iterations to improve the convergence (max_iter=1000).\n",
      "You might also want to scale the data as shown in:\n",
      "    https://scikit-learn.org/stable/modules/preprocessing.html\n",
      "Please also refer to the documentation for alternative solver options:\n",
      "    https://scikit-learn.org/stable/modules/linear_model.html#logistic-regression\n",
      "  n_iter_i = _check_optimize_result(\n",
      " 60%|███████████████████████████████████████████████████                                  | 3/5 [00:01<00:00,  2.41it/s]/home/mbock/venvs/jupiterlab_env/lib/python3.10/site-packages/sklearn/linear_model/_logistic.py:473: ConvergenceWarning: lbfgs failed to converge after 1000 iteration(s) (status=1):\n",
      "STOP: TOTAL NO. OF ITERATIONS REACHED LIMIT\n",
      "\n",
      "Increase the number of iterations to improve the convergence (max_iter=1000).\n",
      "You might also want to scale the data as shown in:\n",
      "    https://scikit-learn.org/stable/modules/preprocessing.html\n",
      "Please also refer to the documentation for alternative solver options:\n",
      "    https://scikit-learn.org/stable/modules/linear_model.html#logistic-regression\n",
      "  n_iter_i = _check_optimize_result(\n",
      " 80%|████████████████████████████████████████████████████████████████████                 | 4/5 [00:01<00:00,  3.23it/s]"
     ]
    },
    {
     "name": "stdout",
     "output_type": "stream",
     "text": [
      "C=0.5 0.919 +- 0.009\n",
      "C=0.5 0.922 +- 0.009\n"
     ]
    },
    {
     "name": "stderr",
     "output_type": "stream",
     "text": [
      "/home/mbock/venvs/jupiterlab_env/lib/python3.10/site-packages/sklearn/linear_model/_logistic.py:473: ConvergenceWarning: lbfgs failed to converge after 1000 iteration(s) (status=1):\n",
      "STOP: TOTAL NO. OF ITERATIONS REACHED LIMIT\n",
      "\n",
      "Increase the number of iterations to improve the convergence (max_iter=1000).\n",
      "You might also want to scale the data as shown in:\n",
      "    https://scikit-learn.org/stable/modules/preprocessing.html\n",
      "Please also refer to the documentation for alternative solver options:\n",
      "    https://scikit-learn.org/stable/modules/linear_model.html#logistic-regression\n",
      "  n_iter_i = _check_optimize_result(\n",
      "100%|█████████████████████████████████████████████████████████████████████████████████████| 5/5 [00:01<00:00,  2.57it/s]\n"
     ]
    },
    {
     "name": "stdout",
     "output_type": "stream",
     "text": [
      "C=0.5 0.924 +- 0.009\n"
     ]
    },
    {
     "name": "stderr",
     "output_type": "stream",
     "text": [
      "  0%|                                                                                             | 0/5 [00:00<?, ?it/s]/home/mbock/venvs/jupiterlab_env/lib/python3.10/site-packages/sklearn/linear_model/_logistic.py:473: ConvergenceWarning: lbfgs failed to converge after 1000 iteration(s) (status=1):\n",
      "STOP: TOTAL NO. OF ITERATIONS REACHED LIMIT\n",
      "\n",
      "Increase the number of iterations to improve the convergence (max_iter=1000).\n",
      "You might also want to scale the data as shown in:\n",
      "    https://scikit-learn.org/stable/modules/preprocessing.html\n",
      "Please also refer to the documentation for alternative solver options:\n",
      "    https://scikit-learn.org/stable/modules/linear_model.html#logistic-regression\n",
      "  n_iter_i = _check_optimize_result(\n",
      " 20%|█████████████████                                                                    | 1/5 [00:00<00:00,  5.20it/s]/home/mbock/venvs/jupiterlab_env/lib/python3.10/site-packages/sklearn/linear_model/_logistic.py:473: ConvergenceWarning: lbfgs failed to converge after 1000 iteration(s) (status=1):\n",
      "STOP: TOTAL NO. OF ITERATIONS REACHED LIMIT\n",
      "\n",
      "Increase the number of iterations to improve the convergence (max_iter=1000).\n",
      "You might also want to scale the data as shown in:\n",
      "    https://scikit-learn.org/stable/modules/preprocessing.html\n",
      "Please also refer to the documentation for alternative solver options:\n",
      "    https://scikit-learn.org/stable/modules/linear_model.html#logistic-regression\n",
      "  n_iter_i = _check_optimize_result(\n",
      " 40%|██████████████████████████████████                                                   | 2/5 [00:00<00:00,  5.73it/s]"
     ]
    },
    {
     "name": "stdout",
     "output_type": "stream",
     "text": [
      "C=1.0 0.930 +- 0.000\n",
      "C=1.0 0.920 +- 0.011\n"
     ]
    },
    {
     "name": "stderr",
     "output_type": "stream",
     "text": [
      "/home/mbock/venvs/jupiterlab_env/lib/python3.10/site-packages/sklearn/linear_model/_logistic.py:473: ConvergenceWarning: lbfgs failed to converge after 1000 iteration(s) (status=1):\n",
      "STOP: TOTAL NO. OF ITERATIONS REACHED LIMIT\n",
      "\n",
      "Increase the number of iterations to improve the convergence (max_iter=1000).\n",
      "You might also want to scale the data as shown in:\n",
      "    https://scikit-learn.org/stable/modules/preprocessing.html\n",
      "Please also refer to the documentation for alternative solver options:\n",
      "    https://scikit-learn.org/stable/modules/linear_model.html#logistic-regression\n",
      "  n_iter_i = _check_optimize_result(\n",
      " 60%|███████████████████████████████████████████████████                                  | 3/5 [00:00<00:00,  5.95it/s]/home/mbock/venvs/jupiterlab_env/lib/python3.10/site-packages/sklearn/linear_model/_logistic.py:473: ConvergenceWarning: lbfgs failed to converge after 1000 iteration(s) (status=1):\n",
      "STOP: TOTAL NO. OF ITERATIONS REACHED LIMIT\n",
      "\n",
      "Increase the number of iterations to improve the convergence (max_iter=1000).\n",
      "You might also want to scale the data as shown in:\n",
      "    https://scikit-learn.org/stable/modules/preprocessing.html\n",
      "Please also refer to the documentation for alternative solver options:\n",
      "    https://scikit-learn.org/stable/modules/linear_model.html#logistic-regression\n",
      "  n_iter_i = _check_optimize_result(\n",
      " 80%|████████████████████████████████████████████████████████████████████                 | 4/5 [00:00<00:00,  6.35it/s]"
     ]
    },
    {
     "name": "stdout",
     "output_type": "stream",
     "text": [
      "C=1.0 0.920 +- 0.009\n",
      "C=1.0 0.923 +- 0.009\n"
     ]
    },
    {
     "name": "stderr",
     "output_type": "stream",
     "text": [
      "/home/mbock/venvs/jupiterlab_env/lib/python3.10/site-packages/sklearn/linear_model/_logistic.py:473: ConvergenceWarning: lbfgs failed to converge after 1000 iteration(s) (status=1):\n",
      "STOP: TOTAL NO. OF ITERATIONS REACHED LIMIT\n",
      "\n",
      "Increase the number of iterations to improve the convergence (max_iter=1000).\n",
      "You might also want to scale the data as shown in:\n",
      "    https://scikit-learn.org/stable/modules/preprocessing.html\n",
      "Please also refer to the documentation for alternative solver options:\n",
      "    https://scikit-learn.org/stable/modules/linear_model.html#logistic-regression\n",
      "  n_iter_i = _check_optimize_result(\n",
      "100%|█████████████████████████████████████████████████████████████████████████████████████| 5/5 [00:00<00:00,  6.07it/s]\n"
     ]
    },
    {
     "name": "stdout",
     "output_type": "stream",
     "text": [
      "C=1.0 0.924 +- 0.009\n"
     ]
    },
    {
     "name": "stderr",
     "output_type": "stream",
     "text": [
      "  0%|                                                                                             | 0/5 [00:00<?, ?it/s]/home/mbock/venvs/jupiterlab_env/lib/python3.10/site-packages/sklearn/linear_model/_logistic.py:473: ConvergenceWarning: lbfgs failed to converge after 1000 iteration(s) (status=1):\n",
      "STOP: TOTAL NO. OF ITERATIONS REACHED LIMIT\n",
      "\n",
      "Increase the number of iterations to improve the convergence (max_iter=1000).\n",
      "You might also want to scale the data as shown in:\n",
      "    https://scikit-learn.org/stable/modules/preprocessing.html\n",
      "Please also refer to the documentation for alternative solver options:\n",
      "    https://scikit-learn.org/stable/modules/linear_model.html#logistic-regression\n",
      "  n_iter_i = _check_optimize_result(\n",
      " 20%|█████████████████                                                                    | 1/5 [00:00<00:00,  6.09it/s]"
     ]
    },
    {
     "name": "stdout",
     "output_type": "stream",
     "text": [
      "C=5.0 0.932 +- 0.000\n"
     ]
    },
    {
     "name": "stderr",
     "output_type": "stream",
     "text": [
      "/home/mbock/venvs/jupiterlab_env/lib/python3.10/site-packages/sklearn/linear_model/_logistic.py:473: ConvergenceWarning: lbfgs failed to converge after 1000 iteration(s) (status=1):\n",
      "STOP: TOTAL NO. OF ITERATIONS REACHED LIMIT\n",
      "\n",
      "Increase the number of iterations to improve the convergence (max_iter=1000).\n",
      "You might also want to scale the data as shown in:\n",
      "    https://scikit-learn.org/stable/modules/preprocessing.html\n",
      "Please also refer to the documentation for alternative solver options:\n",
      "    https://scikit-learn.org/stable/modules/linear_model.html#logistic-regression\n",
      "  n_iter_i = _check_optimize_result(\n",
      " 40%|██████████████████████████████████                                                   | 2/5 [00:00<00:00,  6.37it/s]"
     ]
    },
    {
     "name": "stdout",
     "output_type": "stream",
     "text": [
      "C=5.0 0.920 +- 0.012\n"
     ]
    },
    {
     "name": "stderr",
     "output_type": "stream",
     "text": [
      " 60%|███████████████████████████████████████████████████                                  | 3/5 [00:00<00:00,  6.83it/s]"
     ]
    },
    {
     "name": "stdout",
     "output_type": "stream",
     "text": [
      "C=5.0 0.921 +- 0.010\n"
     ]
    },
    {
     "name": "stderr",
     "output_type": "stream",
     "text": [
      "/home/mbock/venvs/jupiterlab_env/lib/python3.10/site-packages/sklearn/linear_model/_logistic.py:473: ConvergenceWarning: lbfgs failed to converge after 1000 iteration(s) (status=1):\n",
      "STOP: TOTAL NO. OF ITERATIONS REACHED LIMIT\n",
      "\n",
      "Increase the number of iterations to improve the convergence (max_iter=1000).\n",
      "You might also want to scale the data as shown in:\n",
      "    https://scikit-learn.org/stable/modules/preprocessing.html\n",
      "Please also refer to the documentation for alternative solver options:\n",
      "    https://scikit-learn.org/stable/modules/linear_model.html#logistic-regression\n",
      "  n_iter_i = _check_optimize_result(\n",
      " 80%|████████████████████████████████████████████████████████████████████                 | 4/5 [00:00<00:00,  6.66it/s]"
     ]
    },
    {
     "name": "stdout",
     "output_type": "stream",
     "text": [
      "C=5.0 0.923 +- 0.009\n"
     ]
    },
    {
     "name": "stderr",
     "output_type": "stream",
     "text": [
      "/home/mbock/venvs/jupiterlab_env/lib/python3.10/site-packages/sklearn/linear_model/_logistic.py:473: ConvergenceWarning: lbfgs failed to converge after 1000 iteration(s) (status=1):\n",
      "STOP: TOTAL NO. OF ITERATIONS REACHED LIMIT\n",
      "\n",
      "Increase the number of iterations to improve the convergence (max_iter=1000).\n",
      "You might also want to scale the data as shown in:\n",
      "    https://scikit-learn.org/stable/modules/preprocessing.html\n",
      "Please also refer to the documentation for alternative solver options:\n",
      "    https://scikit-learn.org/stable/modules/linear_model.html#logistic-regression\n",
      "  n_iter_i = _check_optimize_result(\n",
      "100%|█████████████████████████████████████████████████████████████████████████████████████| 5/5 [00:00<00:00,  6.52it/s]\n"
     ]
    },
    {
     "name": "stdout",
     "output_type": "stream",
     "text": [
      "C=5.0 0.925 +- 0.009\n"
     ]
    },
    {
     "name": "stderr",
     "output_type": "stream",
     "text": [
      " 20%|█████████████████                                                                    | 1/5 [00:00<00:00,  7.92it/s]"
     ]
    },
    {
     "name": "stdout",
     "output_type": "stream",
     "text": [
      "C=10.0 0.933 +- 0.000\n"
     ]
    },
    {
     "name": "stderr",
     "output_type": "stream",
     "text": [
      "/home/mbock/venvs/jupiterlab_env/lib/python3.10/site-packages/sklearn/linear_model/_logistic.py:473: ConvergenceWarning: lbfgs failed to converge after 1000 iteration(s) (status=1):\n",
      "STOP: TOTAL NO. OF ITERATIONS REACHED LIMIT\n",
      "\n",
      "Increase the number of iterations to improve the convergence (max_iter=1000).\n",
      "You might also want to scale the data as shown in:\n",
      "    https://scikit-learn.org/stable/modules/preprocessing.html\n",
      "Please also refer to the documentation for alternative solver options:\n",
      "    https://scikit-learn.org/stable/modules/linear_model.html#logistic-regression\n",
      "  n_iter_i = _check_optimize_result(\n",
      " 40%|██████████████████████████████████                                                   | 2/5 [00:00<00:00,  6.69it/s]"
     ]
    },
    {
     "name": "stdout",
     "output_type": "stream",
     "text": [
      "C=10.0 0.921 +- 0.012\n"
     ]
    },
    {
     "name": "stderr",
     "output_type": "stream",
     "text": [
      "/home/mbock/venvs/jupiterlab_env/lib/python3.10/site-packages/sklearn/linear_model/_logistic.py:473: ConvergenceWarning: lbfgs failed to converge after 1000 iteration(s) (status=1):\n",
      "STOP: TOTAL NO. OF ITERATIONS REACHED LIMIT\n",
      "\n",
      "Increase the number of iterations to improve the convergence (max_iter=1000).\n",
      "You might also want to scale the data as shown in:\n",
      "    https://scikit-learn.org/stable/modules/preprocessing.html\n",
      "Please also refer to the documentation for alternative solver options:\n",
      "    https://scikit-learn.org/stable/modules/linear_model.html#logistic-regression\n",
      "  n_iter_i = _check_optimize_result(\n",
      " 60%|███████████████████████████████████████████████████                                  | 3/5 [00:00<00:00,  6.56it/s]"
     ]
    },
    {
     "name": "stdout",
     "output_type": "stream",
     "text": [
      "C=10.0 0.921 +- 0.010\n"
     ]
    },
    {
     "name": "stderr",
     "output_type": "stream",
     "text": [
      "/home/mbock/venvs/jupiterlab_env/lib/python3.10/site-packages/sklearn/linear_model/_logistic.py:473: ConvergenceWarning: lbfgs failed to converge after 1000 iteration(s) (status=1):\n",
      "STOP: TOTAL NO. OF ITERATIONS REACHED LIMIT\n",
      "\n",
      "Increase the number of iterations to improve the convergence (max_iter=1000).\n",
      "You might also want to scale the data as shown in:\n",
      "    https://scikit-learn.org/stable/modules/preprocessing.html\n",
      "Please also refer to the documentation for alternative solver options:\n",
      "    https://scikit-learn.org/stable/modules/linear_model.html#logistic-regression\n",
      "  n_iter_i = _check_optimize_result(\n",
      " 80%|████████████████████████████████████████████████████████████████████                 | 4/5 [00:00<00:00,  6.43it/s]"
     ]
    },
    {
     "name": "stdout",
     "output_type": "stream",
     "text": [
      "C=10.0 0.923 +- 0.009\n"
     ]
    },
    {
     "name": "stderr",
     "output_type": "stream",
     "text": [
      "/home/mbock/venvs/jupiterlab_env/lib/python3.10/site-packages/sklearn/linear_model/_logistic.py:473: ConvergenceWarning: lbfgs failed to converge after 1000 iteration(s) (status=1):\n",
      "STOP: TOTAL NO. OF ITERATIONS REACHED LIMIT\n",
      "\n",
      "Increase the number of iterations to improve the convergence (max_iter=1000).\n",
      "You might also want to scale the data as shown in:\n",
      "    https://scikit-learn.org/stable/modules/preprocessing.html\n",
      "Please also refer to the documentation for alternative solver options:\n",
      "    https://scikit-learn.org/stable/modules/linear_model.html#logistic-regression\n",
      "  n_iter_i = _check_optimize_result(\n",
      "100%|█████████████████████████████████████████████████████████████████████████████████████| 5/5 [00:00<00:00,  6.43it/s]"
     ]
    },
    {
     "name": "stdout",
     "output_type": "stream",
     "text": [
      "C=10.0 0.925 +- 0.009\n"
     ]
    },
    {
     "name": "stderr",
     "output_type": "stream",
     "text": [
      "\n"
     ]
    }
   ],
   "source": [
    "n_splits = 5\n",
    "for c in [0.001, 0.01, 0.1, 0.5, 1., 5., 10.]:\n",
    "    scores_kfold = []\n",
    "\n",
    "    kfold = KFold(n_splits=n_splits, shuffle=True, random_state=1)\n",
    "    \n",
    "    for train_idx, val_idx in tqdm(kfold.split(data_full_train), total=n_splits):\n",
    "        data_train_kfold = data_full_train.iloc[train_idx]\n",
    "        data_val_kfold = data_full_train.iloc[val_idx]\n",
    "        \n",
    "        y_train_kfold = data_train_kfold.converted.values\n",
    "        y_val_kfold = data_val_kfold.converted.values\n",
    "        \n",
    "        dv, model_kfold = train(data_train_kfold, y_train_kfold, c)\n",
    "        \n",
    "        y_pred_kfold = predict(data_val_kfold, dv, model_kfold)\n",
    "        \n",
    "        auc = roc_auc_score(y_val_kfold, y_pred_kfold)\n",
    "        scores_kfold.append(auc)\n",
    "\n",
    "        print('C=%s %.3f +- %.3f' % (c, np.mean(scores_kfold),  np.std(scores_kfold)))"
   ]
  },
  {
   "cell_type": "code",
   "execution_count": 173,
   "id": "6d7f9671-35ce-4d0d-9aba-17cfcc5c5177",
   "metadata": {},
   "outputs": [
    {
     "data": {
      "text/plain": [
       "[0.9326190476190476,\n",
       " 0.9084920634920635,\n",
       " 0.9212477064220183,\n",
       " 0.9302469135802469,\n",
       " 0.9310823311748383]"
      ]
     },
     "execution_count": 173,
     "metadata": {},
     "output_type": "execute_result"
    }
   ],
   "source": [
    "scores_kfold"
   ]
  },
  {
   "cell_type": "code",
   "execution_count": 178,
   "id": "94ae5dad-0702-4c91-bfdb-001ffe8e573a",
   "metadata": {},
   "outputs": [
    {
     "name": "stderr",
     "output_type": "stream",
     "text": [
      "/home/mbock/venvs/jupiterlab_env/lib/python3.10/site-packages/sklearn/linear_model/_logistic.py:473: ConvergenceWarning: lbfgs failed to converge after 1000 iteration(s) (status=1):\n",
      "STOP: TOTAL NO. OF ITERATIONS REACHED LIMIT\n",
      "\n",
      "Increase the number of iterations to improve the convergence (max_iter=1000).\n",
      "You might also want to scale the data as shown in:\n",
      "    https://scikit-learn.org/stable/modules/preprocessing.html\n",
      "Please also refer to the documentation for alternative solver options:\n",
      "    https://scikit-learn.org/stable/modules/linear_model.html#logistic-regression\n",
      "  n_iter_i = _check_optimize_result(\n"
     ]
    },
    {
     "data": {
      "text/plain": [
       "0.887650444793302"
      ]
     },
     "execution_count": 178,
     "metadata": {},
     "output_type": "execute_result"
    }
   ],
   "source": [
    "data_full_train_fin = data_full_train.reset_index(drop=True)\n",
    "y_train_full_fin = data_full_train_fin.converted.values\n",
    "dv, modl_fin_part = train(data_full_train_fin, y_train_full_fin, c=1.0)\n",
    "y_pred_fin_part = predict(data_test, dv, modl_fin_part)\n",
    "\n",
    "auc_fin_part = roc_auc_score(y_test, y_pred_fin_part)\n",
    "auc_fin_part"
   ]
  },
  {
   "cell_type": "markdown",
   "id": "b946dde1-5499-46f9-8d37-e5ca90b6f24d",
   "metadata": {},
   "source": [
    "### 8. Explore more\n",
    "- Cheick theprecision and recall of the dummy classifier that always predict 'FALSE'\n",
    "- F1 score = 2 * P * R/ (P + R)\n",
    "- Evaluate precision and recall at different thresholds, plot Pvs R - this way you'll get the precision/recall curve (similar to ROC curve)\n",
    "- Area under the PR curve is also a useful metric\n",
    "\n",
    "Other projets:\n",
    "- Calcuulate the metrics for datasets from the previous week"
   ]
  },
  {
   "cell_type": "code",
   "execution_count": null,
   "id": "73b5a5a6-f863-427c-9863-3c431166ddcf",
   "metadata": {},
   "outputs": [
    {
     "name": "stdout",
     "output_type": "stream",
     "text": [
      "fatal: pathspec 'home_work_week4.ipynb' did not match any files\n",
      "On branch main\n",
      "Your branch is up to date with 'origin/main'.\n",
      "\n",
      "Changes not staged for commit:\n",
      "  (use \"git add <file>...\" to update what will be committed)\n",
      "  (use \"git restore <file>...\" to discard changes in working directory)\n",
      "\t\u001b[31mmodified:   home_works/home_work_week3.ipynb\u001b[m\n",
      "\t\u001b[31mmodified:   home_works/home_work_week4.ipynb\u001b[m\n",
      "\n",
      "Untracked files:\n",
      "  (use \"git add <file>...\" to include in what will be committed)\n",
      "\t\u001b[31m.ipynb_checkpoints/\u001b[m\n",
      "\t\u001b[31m01-intro/.ipynb_checkpoints/\u001b[m\n",
      "\t\u001b[31m01-intro/car_fuel_efficiency.csv\u001b[m\n",
      "\t\u001b[31m01-intro/download.log\u001b[m\n",
      "\t\u001b[31m03-classi/\u001b[m\n",
      "\t\u001b[31mList_of_dependencies.ipynb\u001b[m\n",
      "\t\u001b[31mUntitled-checkpoint.ipynb\u001b[m\n",
      "\t\u001b[31mcourse_lead_scoring.csv\u001b[m\n",
      "\t\u001b[31mcourse_lead_scoring.csv.1\u001b[m\n",
      "\t\u001b[31mcourse_lead_scoring.csv.2\u001b[m\n",
      "\t\u001b[31mcourse_lead_scoring.csv.3\u001b[m\n",
      "\t\u001b[31mdownload_week2.log\u001b[m\n",
      "\t\u001b[31mhome_works/.ipynb_checkpoints/\u001b[m\n",
      "\t\u001b[31mhome_works/car_fuel_efficiency.csv\u001b[m\n",
      "\t\u001b[31mhome_works/course_lead_scoring.csv\u001b[m\n",
      "\t\u001b[31mhome_works/course_lead_scoring.csv.1\u001b[m\n",
      "\t\u001b[31mhome_works/course_lead_scoring.csv.2\u001b[m\n",
      "\t\u001b[31mhome_works/course_lead_scoring.csv.3\u001b[m\n",
      "\t\u001b[31mhome_works/course_lead_scoring.csv.4\u001b[m\n",
      "\t\u001b[31mhome_works/download.log\u001b[m\n",
      "\t\u001b[31mhome_works/download_week2.log\u001b[m\n",
      "\t\u001b[31mhome_works/download_week4.log\u001b[m\n",
      "\t\u001b[31mstatus.log\u001b[m\n",
      "\n",
      "no changes added to commit (use \"git add\" and/or \"git commit -a\")\n"
     ]
    }
   ],
   "source": [
    "!git add home_work_week4.ipynb\n",
    "!git commit -m \"Home Work Week 3 and more\"\n",
    "!git push"
   ]
  },
  {
   "cell_type": "code",
   "execution_count": null,
   "id": "d386b177-9b8d-4b75-b32a-245e73ace8e8",
   "metadata": {},
   "outputs": [],
   "source": []
  }
 ],
 "metadata": {
  "kernelspec": {
   "display_name": "Python 3 (ipykernel)",
   "language": "python",
   "name": "python3"
  },
  "language_info": {
   "codemirror_mode": {
    "name": "ipython",
    "version": 3
   },
   "file_extension": ".py",
   "mimetype": "text/x-python",
   "name": "python",
   "nbconvert_exporter": "python",
   "pygments_lexer": "ipython3",
   "version": "3.10.12"
  }
 },
 "nbformat": 4,
 "nbformat_minor": 5
}
