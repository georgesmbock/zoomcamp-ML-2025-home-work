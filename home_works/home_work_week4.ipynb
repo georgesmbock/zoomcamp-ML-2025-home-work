{
 "cells": [
  {
   "cell_type": "code",
   "execution_count": 1,
   "id": "9fd2b5a2-39e8-4205-9e2e-1fd443893584",
   "metadata": {},
   "outputs": [],
   "source": [
    "url = 'https://raw.githubusercontent.com/alexeygrigorev/datasets/master/course_lead_scoring.csv'"
   ]
  },
  {
   "cell_type": "code",
   "execution_count": 2,
   "id": "630e09ab-bb4b-44d4-befd-b8e9cd06effc",
   "metadata": {},
   "outputs": [],
   "source": [
    "!wget $url -o download_week4.log"
   ]
  },
  {
   "cell_type": "code",
   "execution_count": 56,
   "id": "82ec1526-b6cf-4b15-abb7-49bf19cc0ad9",
   "metadata": {},
   "outputs": [
    {
     "name": "stderr",
     "output_type": "stream",
     "text": [
      "/home/mbock/venvs/jupiterlab_env/lib/python3.10/site-packages/tqdm/auto.py:21: TqdmWarning: IProgress not found. Please update jupyter and ipywidgets. See https://ipywidgets.readthedocs.io/en/stable/user_install.html\n",
      "  from .autonotebook import tqdm as notebook_tqdm\n"
     ]
    }
   ],
   "source": [
    "import pandas as pd\n",
    "import numpy as np\n",
    "import seaborn as sns\n",
    "import matplotlib.pyplot as plt\n",
    "\n",
    "from tqdm.auto import tqdm\n",
    "\n",
    "from sklearn.model_selection import train_test_split\n",
    "from sklearn.metrics import mutual_info_score\n",
    "from sklearn.feature_extraction import DictVectorizer\n",
    "from sklearn.linear_model import LogisticRegression\n",
    "from sklearn.metrics import accuracy_score, roc_auc_score, auc\n",
    "\n",
    "from sklearn.model_selection import KFold"
   ]
  },
  {
   "cell_type": "code",
   "execution_count": 4,
   "id": "165711fb-debd-4caa-b8d8-343231573428",
   "metadata": {},
   "outputs": [
    {
     "data": {
      "text/html": [
       "<div>\n",
       "<style scoped>\n",
       "    .dataframe tbody tr th:only-of-type {\n",
       "        vertical-align: middle;\n",
       "    }\n",
       "\n",
       "    .dataframe tbody tr th {\n",
       "        vertical-align: top;\n",
       "    }\n",
       "\n",
       "    .dataframe thead th {\n",
       "        text-align: right;\n",
       "    }\n",
       "</style>\n",
       "<table border=\"1\" class=\"dataframe\">\n",
       "  <thead>\n",
       "    <tr style=\"text-align: right;\">\n",
       "      <th></th>\n",
       "      <th>0</th>\n",
       "      <th>1</th>\n",
       "    </tr>\n",
       "  </thead>\n",
       "  <tbody>\n",
       "    <tr>\n",
       "      <th>lead_source</th>\n",
       "      <td>paid_ads</td>\n",
       "      <td>social_media</td>\n",
       "    </tr>\n",
       "    <tr>\n",
       "      <th>industry</th>\n",
       "      <td>NaN</td>\n",
       "      <td>retail</td>\n",
       "    </tr>\n",
       "    <tr>\n",
       "      <th>number_of_courses_viewed</th>\n",
       "      <td>1</td>\n",
       "      <td>1</td>\n",
       "    </tr>\n",
       "    <tr>\n",
       "      <th>annual_income</th>\n",
       "      <td>79450.0</td>\n",
       "      <td>46992.0</td>\n",
       "    </tr>\n",
       "    <tr>\n",
       "      <th>employment_status</th>\n",
       "      <td>unemployed</td>\n",
       "      <td>employed</td>\n",
       "    </tr>\n",
       "    <tr>\n",
       "      <th>location</th>\n",
       "      <td>south_america</td>\n",
       "      <td>south_america</td>\n",
       "    </tr>\n",
       "    <tr>\n",
       "      <th>interaction_count</th>\n",
       "      <td>4</td>\n",
       "      <td>1</td>\n",
       "    </tr>\n",
       "    <tr>\n",
       "      <th>lead_score</th>\n",
       "      <td>0.94</td>\n",
       "      <td>0.8</td>\n",
       "    </tr>\n",
       "    <tr>\n",
       "      <th>converted</th>\n",
       "      <td>1</td>\n",
       "      <td>0</td>\n",
       "    </tr>\n",
       "  </tbody>\n",
       "</table>\n",
       "</div>"
      ],
      "text/plain": [
       "                                      0              1\n",
       "lead_source                    paid_ads   social_media\n",
       "industry                            NaN         retail\n",
       "number_of_courses_viewed              1              1\n",
       "annual_income                   79450.0        46992.0\n",
       "employment_status            unemployed       employed\n",
       "location                  south_america  south_america\n",
       "interaction_count                     4              1\n",
       "lead_score                         0.94            0.8\n",
       "converted                             1              0"
      ]
     },
     "execution_count": 4,
     "metadata": {},
     "output_type": "execute_result"
    }
   ],
   "source": [
    "df = pd.read_csv('course_lead_scoring.csv')\n",
    "df.head(2).T"
   ]
  },
  {
   "cell_type": "markdown",
   "id": "acb3b70e-787a-4cc7-8473-7757cb3b3bce",
   "metadata": {},
   "source": [
    "## Data Preparation"
   ]
  },
  {
   "cell_type": "code",
   "execution_count": 5,
   "id": "8e1e7393-d741-4e7f-9aa3-1c7bef971dad",
   "metadata": {},
   "outputs": [],
   "source": [
    "def missing_replace(l, val):\n",
    "    for col in l:\n",
    "        df[col].fillna(val, inplace=True)\n",
    "    return df"
   ]
  },
  {
   "cell_type": "code",
   "execution_count": 6,
   "id": "ccc7439a-86e4-410d-881f-f4ffe24bc128",
   "metadata": {},
   "outputs": [
    {
     "name": "stderr",
     "output_type": "stream",
     "text": [
      "/tmp/ipykernel_234515/1988618402.py:3: FutureWarning: A value is trying to be set on a copy of a DataFrame or Series through chained assignment using an inplace method.\n",
      "The behavior will change in pandas 3.0. This inplace method will never work because the intermediate object on which we are setting values always behaves as a copy.\n",
      "\n",
      "For example, when doing 'df[col].method(value, inplace=True)', try using 'df.method({col: value}, inplace=True)' or df[col] = df[col].method(value) instead, to perform the operation inplace on the original object.\n",
      "\n",
      "\n",
      "  df[col].fillna(val, inplace=True)\n"
     ]
    }
   ],
   "source": [
    "l = [col for col in df.columns if df[col].dtypes =='O' and df[col].isna().sum() != 0]\n",
    "val = 'NA'\n",
    "df = missing_replace(l, val)"
   ]
  },
  {
   "cell_type": "code",
   "execution_count": 7,
   "id": "e8faae05-2b02-46c7-a80f-f65c687a6968",
   "metadata": {},
   "outputs": [
    {
     "name": "stderr",
     "output_type": "stream",
     "text": [
      "/tmp/ipykernel_234515/1988618402.py:3: FutureWarning: A value is trying to be set on a copy of a DataFrame or Series through chained assignment using an inplace method.\n",
      "The behavior will change in pandas 3.0. This inplace method will never work because the intermediate object on which we are setting values always behaves as a copy.\n",
      "\n",
      "For example, when doing 'df[col].method(value, inplace=True)', try using 'df.method({col: value}, inplace=True)' or df[col] = df[col].method(value) instead, to perform the operation inplace on the original object.\n",
      "\n",
      "\n",
      "  df[col].fillna(val, inplace=True)\n"
     ]
    }
   ],
   "source": [
    "l = [col for col in df.columns if df[col].dtypes !='O' and df[col].isna().sum() != 0]\n",
    "val = 0.0\n",
    "df = missing_replace(l, val)"
   ]
  },
  {
   "cell_type": "code",
   "execution_count": 8,
   "id": "2cafb5f0-1a34-421b-8d71-708b353d6ea8",
   "metadata": {},
   "outputs": [],
   "source": [
    "# Numeric columns\n",
    "num_cols = [col for col in df.columns if df[col].dtypes != 'O']\n",
    "num_columns = num_cols[:-1]\n",
    "# Categoric columns\n",
    "categorical_columns = list(col for col in df.columns if df[col].dtypes == 'O')"
   ]
  },
  {
   "cell_type": "code",
   "execution_count": 9,
   "id": "46bae273-0aca-4450-a05c-bf565679f931",
   "metadata": {},
   "outputs": [
    {
     "data": {
      "text/plain": [
       "['number_of_courses_viewed',\n",
       " 'annual_income',\n",
       " 'interaction_count',\n",
       " 'lead_score']"
      ]
     },
     "execution_count": 9,
     "metadata": {},
     "output_type": "execute_result"
    }
   ],
   "source": [
    "num_columns"
   ]
  },
  {
   "cell_type": "code",
   "execution_count": 10,
   "id": "acd78889-0bf2-4027-8e1e-dd1e860e31ed",
   "metadata": {},
   "outputs": [
    {
     "data": {
      "text/plain": [
       "['lead_source', 'industry', 'employment_status', 'location']"
      ]
     },
     "execution_count": 10,
     "metadata": {},
     "output_type": "execute_result"
    }
   ],
   "source": [
    "categorical_columns"
   ]
  },
  {
   "cell_type": "markdown",
   "id": "7c8c2d57-3774-43e8-8089-c84a07dc5dc7",
   "metadata": {},
   "source": [
    "## Split Data"
   ]
  },
  {
   "cell_type": "code",
   "execution_count": 11,
   "id": "297424af-f998-4d85-a2c3-3e29f275214c",
   "metadata": {},
   "outputs": [],
   "source": [
    "data_full_train, data_test = train_test_split(df, test_size=0.2, random_state=1)\n",
    "data_train, data_val = train_test_split(data_full_train, test_size=0.25, random_state=1)"
   ]
  },
  {
   "cell_type": "code",
   "execution_count": 12,
   "id": "b3c956f8-836c-4c93-8788-ae2d5c4a210f",
   "metadata": {},
   "outputs": [
    {
     "data": {
      "text/plain": [
       "0"
      ]
     },
     "execution_count": 12,
     "metadata": {},
     "output_type": "execute_result"
    }
   ],
   "source": [
    "len(data_train) + len(data_test) + len(data_val) - len(df)"
   ]
  },
  {
   "cell_type": "code",
   "execution_count": 13,
   "id": "6754e1ca-320e-4603-9674-b6afaef6a89a",
   "metadata": {},
   "outputs": [],
   "source": [
    "data_full_train = data_full_train.reset_index(drop=True)\n",
    "data_train = data_train.reset_index(drop=True)\n",
    "data_test = data_test.reset_index(drop=True)\n",
    "data_val = data_val.reset_index(drop=True)"
   ]
  },
  {
   "cell_type": "code",
   "execution_count": 14,
   "id": "c27b60c4-4379-4d9a-a36c-65f0d681cdbe",
   "metadata": {},
   "outputs": [],
   "source": [
    "y_full_train = data_full_train.converted.values\n",
    "y_train = data_train.converted.values\n",
    "y_test = data_test.converted.values\n",
    "y_val = data_val.converted.values"
   ]
  },
  {
   "cell_type": "code",
   "execution_count": 15,
   "id": "a451a591-1d24-4512-ab90-069defe91f8b",
   "metadata": {},
   "outputs": [],
   "source": [
    "del data_train['converted']\n",
    "del data_test['converted']\n",
    "del data_val['converted']"
   ]
  },
  {
   "cell_type": "markdown",
   "id": "83cc6cb6-37af-475b-a3d4-314884d7dc1d",
   "metadata": {},
   "source": [
    "## Question 1: ROC AUC feature importance"
   ]
  },
  {
   "cell_type": "code",
   "execution_count": 16,
   "id": "e56fd763-e061-4bd2-be27-6ec00b9c0360",
   "metadata": {},
   "outputs": [
    {
     "name": "stdout",
     "output_type": "stream",
     "text": [
      "col: number_of_courses_viewed --> auc = 0.76\n",
      "col: annual_income --> auc = 0.55\n",
      "col: interaction_count --> auc = 0.74\n",
      "col: lead_score --> auc = 0.61\n"
     ]
    }
   ],
   "source": [
    "for col in num_columns:\n",
    "    auc = roc_auc_score(y_train, data_train[col])\n",
    "    print('col: %s --> auc = %.2f' % (col, auc))"
   ]
  },
  {
   "cell_type": "markdown",
   "id": "4f369093-7320-4790-982b-c2c77497590b",
   "metadata": {},
   "source": [
    "---"
   ]
  },
  {
   "cell_type": "markdown",
   "id": "5966e6f5-a999-48e4-908c-bd46c63939d6",
   "metadata": {},
   "source": [
    "### train model"
   ]
  },
  {
   "cell_type": "code",
   "execution_count": 17,
   "id": "4c1ee578-adb9-4925-b553-6d2b9d1a8c97",
   "metadata": {},
   "outputs": [],
   "source": [
    "# train function\n",
    "def train(df_train, y_train, c=1.0):\n",
    "    dicts = df_train[categorical_columns + num_columns].to_dict(orient='records')\n",
    "    dv = DictVectorizer(sparse=False)\n",
    "    X_train = dv.fit_transform(dicts)\n",
    "\n",
    "    mo = LogisticRegression(solver='liblinear', C=c, max_iter=1000)\n",
    "    mo.fit(X_train, y_train)\n",
    "\n",
    "    return dv, mo\n",
    "\n",
    "\n",
    "# Predict function\n",
    "def predict(df, dv, modl):\n",
    "    dicts = df[categorical_columns + num_columns].to_dict(orient='records')\n",
    "    X = dv.fit_transform(dicts)\n",
    "    y_pred = modl.predict_proba(X)[:, 1]\n",
    "    return y_pred"
   ]
  },
  {
   "cell_type": "code",
   "execution_count": 18,
   "id": "12be618c-1473-4652-917e-f22c0b087108",
   "metadata": {},
   "outputs": [],
   "source": [
    "dv, model = train(data_train, y_train)\n",
    "y_pred = predict(data_val, dv, model)"
   ]
  },
  {
   "cell_type": "markdown",
   "id": "e6dbcff4-0278-418d-b91e-3175f95faf54",
   "metadata": {},
   "source": [
    "## Question 2: Training the model"
   ]
  },
  {
   "cell_type": "code",
   "execution_count": 19,
   "id": "5191f254-8177-409a-a83b-883236abd823",
   "metadata": {},
   "outputs": [
    {
     "name": "stdout",
     "output_type": "stream",
     "text": [
      "AUC = 0.817\n"
     ]
    }
   ],
   "source": [
    "auc = roc_auc_score(y_val, y_pred)\n",
    "print('AUC = %.3f' % auc)"
   ]
  },
  {
   "cell_type": "markdown",
   "id": "715acd3e-e175-4faf-848d-83f863684ee1",
   "metadata": {},
   "source": [
    "## Question 3: Precision and Recall\n",
    "Now let's compute precision and recall for our model.\n",
    "\n",
    "- Evaluate the model on all thresholds from 0.0 to 1.0 with step 0.01\n",
    "- For each threshold, compute precision and recall\n",
    "- Plot them"
   ]
  },
  {
   "cell_type": "code",
   "execution_count": 44,
   "id": "d4024303-018f-4014-bbd8-f3963a4d4368",
   "metadata": {},
   "outputs": [],
   "source": [
    "scores_ = []\n",
    "threshods = np.arange(0.0, 1.01, 0.01) \n",
    "\n",
    "\n",
    "for t in threshods:\n",
    "\n",
    "    actual_positive = (y_val == 1)\n",
    "    actual_negative = (y_val == 0)\n",
    "\n",
    "    predict_positive = (y_pred >= t)\n",
    "    predict_negative = (y_pred < t)\n",
    "\n",
    "    tp = (predict_positive & actual_positive).sum()\n",
    "    tn = (predict_negative & actual_negative).sum()\n",
    "    fp = (predict_positive & actual_negative).sum()\n",
    "    fn = (predict_negative & actual_positive).sum()\n",
    "\n",
    "    scores_.append((t, tp, fp, fn, tn))"
   ]
  },
  {
   "cell_type": "code",
   "execution_count": 21,
   "id": "73ae0c1a-8dd2-4003-b1d5-6ce297ab1ae3",
   "metadata": {},
   "outputs": [],
   "source": [
    "columns = ['threshods', 'tp', 'fp', 'fn', 'tn']\n",
    "df_scores = pd.DataFrame(scores_, columns=columns)\n",
    "\n"
   ]
  },
  {
   "cell_type": "code",
   "execution_count": 29,
   "id": "d104989d-e764-41e2-9626-43fb32e0dd6f",
   "metadata": {},
   "outputs": [],
   "source": [
    "df_scores['precision'] = np.where(\n",
    "    (df_scores['tp'] + df_scores['fp']) > 0,\n",
    "    (df_scores['tp'] / (df_scores['tp'] + df_scores['fp'])).round(2),\n",
    "    0\n",
    ")\n",
    "df_scores['recall'] = (df_scores['tp'] / (df_scores['tp'] + df_scores['fn'])).round()"
   ]
  },
  {
   "cell_type": "code",
   "execution_count": 23,
   "id": "2223ef16-153b-41ad-8dab-7f374c143b8b",
   "metadata": {},
   "outputs": [
    {
     "data": {
      "image/png": "[encoded data removed]",
      "text/plain": [
       "<Figure size 600x600 with 1 Axes>"
      ]
     },
     "metadata": {},
     "output_type": "display_data"
    }
   ],
   "source": [
    "plt.figure(figsize=(6, 6))\n",
    "plt.plot(df_scores.threshods, df_scores['precision'], label='Precision')\n",
    "plt.plot(df_scores.threshods, df_scores['recall'], label='Recall')\n",
    "plt.legend()\n",
    "plt.show()"
   ]
  },
  {
   "cell_type": "code",
   "execution_count": 43,
   "id": "99f72ff9-de0b-4499-99b4-dde3e63e1119",
   "metadata": {},
   "outputs": [
    {
     "name": "stdout",
     "output_type": "stream",
     "text": [
      "Index([64, 98, 99, 100], dtype='int64')\n",
      "64\n"
     ]
    }
   ],
   "source": [
    "# indices où la différence est exactement 0\n",
    "diff = abs(df_scores['precision'] - df_scores['recall'])\n",
    "indices_zero = diff[diff == 0.0].index\n",
    "print(indices_zero)\n",
    "print(indices_zero.min())"
   ]
  },
  {
   "cell_type": "code",
   "execution_count": 36,
   "id": "4a9b50e5-385e-487a-ae81-24d454197420",
   "metadata": {},
   "outputs": [
    {
     "data": {
      "text/plain": [
       "np.float64(0.64)"
      ]
     },
     "execution_count": 36,
     "metadata": {},
     "output_type": "execute_result"
    }
   ],
   "source": [
    "df_scores.loc[indices_zero, 'threshods']"
   ]
  },
  {
   "cell_type": "code",
   "execution_count": 41,
   "id": "101df681-89cd-40d1-b4b2-fd2b025a825d",
   "metadata": {},
   "outputs": [
    {
     "data": {
      "text/html": [
       "<div>\n",
       "<style scoped>\n",
       "    .dataframe tbody tr th:only-of-type {\n",
       "        vertical-align: middle;\n",
       "    }\n",
       "\n",
       "    .dataframe tbody tr th {\n",
       "        vertical-align: top;\n",
       "    }\n",
       "\n",
       "    .dataframe thead th {\n",
       "        text-align: right;\n",
       "    }\n",
       "</style>\n",
       "<table border=\"1\" class=\"dataframe\">\n",
       "  <thead>\n",
       "    <tr style=\"text-align: right;\">\n",
       "      <th></th>\n",
       "      <th>threshods</th>\n",
       "      <th>tp</th>\n",
       "      <th>fp</th>\n",
       "      <th>fn</th>\n",
       "      <th>tn</th>\n",
       "      <th>precision</th>\n",
       "      <th>recall</th>\n",
       "    </tr>\n",
       "  </thead>\n",
       "  <tbody>\n",
       "    <tr>\n",
       "      <th>64</th>\n",
       "      <td>0.64</td>\n",
       "      <td>134</td>\n",
       "      <td>38</td>\n",
       "      <td>37</td>\n",
       "      <td>84</td>\n",
       "      <td>0.78</td>\n",
       "      <td>0.78</td>\n",
       "    </tr>\n",
       "    <tr>\n",
       "      <th>68</th>\n",
       "      <td>0.68</td>\n",
       "      <td>116</td>\n",
       "      <td>28</td>\n",
       "      <td>55</td>\n",
       "      <td>94</td>\n",
       "      <td>0.81</td>\n",
       "      <td>0.68</td>\n",
       "    </tr>\n",
       "    <tr>\n",
       "      <th>72</th>\n",
       "      <td>0.72</td>\n",
       "      <td>97</td>\n",
       "      <td>21</td>\n",
       "      <td>74</td>\n",
       "      <td>101</td>\n",
       "      <td>0.82</td>\n",
       "      <td>0.57</td>\n",
       "    </tr>\n",
       "    <tr>\n",
       "      <th>76</th>\n",
       "      <td>0.76</td>\n",
       "      <td>82</td>\n",
       "      <td>12</td>\n",
       "      <td>89</td>\n",
       "      <td>110</td>\n",
       "      <td>0.87</td>\n",
       "      <td>0.48</td>\n",
       "    </tr>\n",
       "    <tr>\n",
       "      <th>80</th>\n",
       "      <td>0.80</td>\n",
       "      <td>64</td>\n",
       "      <td>6</td>\n",
       "      <td>107</td>\n",
       "      <td>116</td>\n",
       "      <td>0.91</td>\n",
       "      <td>0.37</td>\n",
       "    </tr>\n",
       "    <tr>\n",
       "      <th>84</th>\n",
       "      <td>0.84</td>\n",
       "      <td>52</td>\n",
       "      <td>4</td>\n",
       "      <td>119</td>\n",
       "      <td>118</td>\n",
       "      <td>0.93</td>\n",
       "      <td>0.30</td>\n",
       "    </tr>\n",
       "    <tr>\n",
       "      <th>88</th>\n",
       "      <td>0.88</td>\n",
       "      <td>31</td>\n",
       "      <td>2</td>\n",
       "      <td>140</td>\n",
       "      <td>120</td>\n",
       "      <td>0.94</td>\n",
       "      <td>0.18</td>\n",
       "    </tr>\n",
       "    <tr>\n",
       "      <th>92</th>\n",
       "      <td>0.92</td>\n",
       "      <td>11</td>\n",
       "      <td>1</td>\n",
       "      <td>160</td>\n",
       "      <td>121</td>\n",
       "      <td>0.92</td>\n",
       "      <td>0.06</td>\n",
       "    </tr>\n",
       "    <tr>\n",
       "      <th>96</th>\n",
       "      <td>0.96</td>\n",
       "      <td>3</td>\n",
       "      <td>0</td>\n",
       "      <td>168</td>\n",
       "      <td>122</td>\n",
       "      <td>1.00</td>\n",
       "      <td>0.02</td>\n",
       "    </tr>\n",
       "    <tr>\n",
       "      <th>100</th>\n",
       "      <td>1.00</td>\n",
       "      <td>0</td>\n",
       "      <td>0</td>\n",
       "      <td>171</td>\n",
       "      <td>122</td>\n",
       "      <td>0.00</td>\n",
       "      <td>0.00</td>\n",
       "    </tr>\n",
       "  </tbody>\n",
       "</table>\n",
       "</div>"
      ],
      "text/plain": [
       "     threshods   tp  fp   fn   tn  precision  recall\n",
       "64        0.64  134  38   37   84       0.78    0.78\n",
       "68        0.68  116  28   55   94       0.81    0.68\n",
       "72        0.72   97  21   74  101       0.82    0.57\n",
       "76        0.76   82  12   89  110       0.87    0.48\n",
       "80        0.80   64   6  107  116       0.91    0.37\n",
       "84        0.84   52   4  119  118       0.93    0.30\n",
       "88        0.88   31   2  140  120       0.94    0.18\n",
       "92        0.92   11   1  160  121       0.92    0.06\n",
       "96        0.96    3   0  168  122       1.00    0.02\n",
       "100       1.00    0   0  171  122       0.00    0.00"
      ]
     },
     "execution_count": 41,
     "metadata": {},
     "output_type": "execute_result"
    }
   ],
   "source": [
    "df_scores[::4].tail(10)"
   ]
  },
  {
   "cell_type": "markdown",
   "id": "77b304ca-9703-4e26-8ade-ff50225746da",
   "metadata": {},
   "source": [
    "## Question 4: F1 score\n",
    "Precision and recall are conflicting - when one grows, the other goes down. \n",
    "\n",
    "That's why they are often combined into the F1 score - a metrics that takes into account both"
   ]
  },
  {
   "cell_type": "code",
   "execution_count": 49,
   "id": "a264d5c5-f5e5-4c6d-95c5-903fdfd644dc",
   "metadata": {},
   "outputs": [
    {
     "data": {
      "text/html": [
       "<div>\n",
       "<style scoped>\n",
       "    .dataframe tbody tr th:only-of-type {\n",
       "        vertical-align: middle;\n",
       "    }\n",
       "\n",
       "    .dataframe tbody tr th {\n",
       "        vertical-align: top;\n",
       "    }\n",
       "\n",
       "    .dataframe thead th {\n",
       "        text-align: right;\n",
       "    }\n",
       "</style>\n",
       "<table border=\"1\" class=\"dataframe\">\n",
       "  <thead>\n",
       "    <tr style=\"text-align: right;\">\n",
       "      <th></th>\n",
       "      <th>threshods</th>\n",
       "      <th>tp</th>\n",
       "      <th>fp</th>\n",
       "      <th>fn</th>\n",
       "      <th>tn</th>\n",
       "      <th>precision</th>\n",
       "      <th>recall</th>\n",
       "      <th>f1_score</th>\n",
       "    </tr>\n",
       "  </thead>\n",
       "  <tbody>\n",
       "    <tr>\n",
       "      <th>0</th>\n",
       "      <td>0.00</td>\n",
       "      <td>171</td>\n",
       "      <td>122</td>\n",
       "      <td>0</td>\n",
       "      <td>0</td>\n",
       "      <td>0.58</td>\n",
       "      <td>1.0</td>\n",
       "      <td>0.73</td>\n",
       "    </tr>\n",
       "    <tr>\n",
       "      <th>1</th>\n",
       "      <td>0.01</td>\n",
       "      <td>171</td>\n",
       "      <td>122</td>\n",
       "      <td>0</td>\n",
       "      <td>0</td>\n",
       "      <td>0.58</td>\n",
       "      <td>1.0</td>\n",
       "      <td>0.73</td>\n",
       "    </tr>\n",
       "    <tr>\n",
       "      <th>2</th>\n",
       "      <td>0.02</td>\n",
       "      <td>171</td>\n",
       "      <td>122</td>\n",
       "      <td>0</td>\n",
       "      <td>0</td>\n",
       "      <td>0.58</td>\n",
       "      <td>1.0</td>\n",
       "      <td>0.73</td>\n",
       "    </tr>\n",
       "    <tr>\n",
       "      <th>3</th>\n",
       "      <td>0.03</td>\n",
       "      <td>171</td>\n",
       "      <td>122</td>\n",
       "      <td>0</td>\n",
       "      <td>0</td>\n",
       "      <td>0.58</td>\n",
       "      <td>1.0</td>\n",
       "      <td>0.73</td>\n",
       "    </tr>\n",
       "    <tr>\n",
       "      <th>4</th>\n",
       "      <td>0.04</td>\n",
       "      <td>171</td>\n",
       "      <td>122</td>\n",
       "      <td>0</td>\n",
       "      <td>0</td>\n",
       "      <td>0.58</td>\n",
       "      <td>1.0</td>\n",
       "      <td>0.73</td>\n",
       "    </tr>\n",
       "  </tbody>\n",
       "</table>\n",
       "</div>"
      ],
      "text/plain": [
       "   threshods   tp   fp  fn  tn  precision  recall  f1_score\n",
       "0       0.00  171  122   0   0       0.58     1.0      0.73\n",
       "1       0.01  171  122   0   0       0.58     1.0      0.73\n",
       "2       0.02  171  122   0   0       0.58     1.0      0.73\n",
       "3       0.03  171  122   0   0       0.58     1.0      0.73\n",
       "4       0.04  171  122   0   0       0.58     1.0      0.73"
      ]
     },
     "execution_count": 49,
     "metadata": {},
     "output_type": "execute_result"
    }
   ],
   "source": [
    "df_scores['f1_score'] = np.where(\n",
    "    (df_scores['precision'] + df_scores['recall']) > 0,\n",
    "    (2 * (df_scores['precision'] * df_scores['recall']) / (df_scores['precision'] + df_scores['recall'])).round(2),\n",
    "    0\n",
    ")\n",
    "\n",
    "df_scores.head()\n"
   ]
  },
  {
   "cell_type": "code",
   "execution_count": 51,
   "id": "02e4aee6-7d2d-48db-8c20-9aba4bdc4fab",
   "metadata": {},
   "outputs": [
    {
     "data": {
      "text/plain": [
       "np.float64(0.81)"
      ]
     },
     "execution_count": 51,
     "metadata": {},
     "output_type": "execute_result"
    }
   ],
   "source": [
    "max_f1_score = df_scores['f1_score'].values.max()\n",
    "max_f1_score"
   ]
  },
  {
   "cell_type": "code",
   "execution_count": 53,
   "id": "ba39950e-1817-4cef-954f-36658b5f729e",
   "metadata": {},
   "outputs": [
    {
     "data": {
      "text/plain": [
       "np.float64(0.81)"
      ]
     },
     "execution_count": 53,
     "metadata": {},
     "output_type": "execute_result"
    }
   ],
   "source": [
    "df_scores.loc[max_f1_score*100, 'threshods']"
   ]
  },
  {
   "cell_type": "markdown",
   "id": "c4fec519-1e16-43c5-bcbf-27bb9dc23554",
   "metadata": {},
   "source": [
    "## Question 5: 5-Fold CV\n",
    "Use the KFold class from Scikit-Learn to evaluate our model on 5 different folds:\n",
    "```KFold(n_splits=5, shuffle=True, random_state=1)```\n",
    "- Iterate over different folds of df_full_train\n",
    "- Split the data into train and validation\n",
    "- Train the model on train with these parameters:\n",
    "```LogisticRegression(solver='liblinear', C=1.0, max_iter=1000)```\n",
    "- Use AUC to evaluate the model on validation"
   ]
  },
  {
   "cell_type": "code",
   "execution_count": 58,
   "id": "738e631e-c0bf-4f39-9da7-9d98e8646f4c",
   "metadata": {},
   "outputs": [
    {
     "name": "stderr",
     "output_type": "stream",
     "text": [
      "100%|█████████████████████████████████████████████████████████████████████████████████████| 5/5 [00:00<00:00, 13.34it/s]"
     ]
    },
    {
     "name": "stdout",
     "output_type": "stream",
     "text": [
      "std = 0.000\n",
      "std = 0.033\n",
      "std = 0.040\n",
      "std = 0.035\n",
      "std = 0.036\n"
     ]
    },
    {
     "name": "stderr",
     "output_type": "stream",
     "text": [
      "\n"
     ]
    }
   ],
   "source": [
    "scores_kfold = []\n",
    "n_splits = 5\n",
    "\n",
    "kfold = KFold(n_splits=n_splits, shuffle=True, random_state=1)\n",
    "\n",
    "\n",
    "for train_idx, val_idx in tqdm(kfold.split(data_full_train), total=n_splits):\n",
    "    data_train_kfold = data_full_train.iloc[train_idx]\n",
    "    data_val_kfold = data_full_train.iloc[val_idx]\n",
    "        \n",
    "    y_train_kfold = data_train_kfold.converted.values\n",
    "    y_val_kfold = data_val_kfold.converted.values\n",
    "        \n",
    "    dv, model_kfold = train(data_train_kfold, y_train_kfold, c=1.0)\n",
    "        \n",
    "    y_pred_kfold = predict(data_val_kfold, dv, model_kfold)\n",
    "        \n",
    "    auc = roc_auc_score(y_val_kfold, y_pred_kfold)\n",
    "    scores_kfold.append(auc)\n",
    "\n",
    "    print('std = %.3f' % np.std(scores_kfold))"
   ]
  },
  {
   "cell_type": "markdown",
   "id": "38ff738a-f954-44b5-a2a2-474328f1aaab",
   "metadata": {},
   "source": [
    "## Question 6: Hyperparameter Tuning\n",
    "Now let's use 5-Fold cross-validation to find the best parameter C\n",
    "\n",
    "- Iterate over the following C values: [0.000001, 0.001, 1]\n",
    "- Initialize KFold with the same parameters as previously\n",
    "- Use these parameters for the model: LogisticRegression(solver='liblinear', C=C, max_iter=1000)\n",
    "- Compute the mean score as well as the std (round the mean and std to 3 decimal digits)"
   ]
  },
  {
   "cell_type": "code",
   "execution_count": 62,
   "id": "9361459c-c406-421b-b951-5f7601123a1f",
   "metadata": {},
   "outputs": [
    {
     "name": "stderr",
     "output_type": "stream",
     "text": [
      "100%|█████████████████████████████████████████████████████████████████████████████████████| 5/5 [00:00<00:00, 72.12it/s]\n"
     ]
    },
    {
     "name": "stdout",
     "output_type": "stream",
     "text": [
      "C=1e-06 , mean_score = 0.557 +- std = 0.000\n",
      "C=1e-06 , mean_score = 0.538 +- std = 0.019\n",
      "C=1e-06 , mean_score = 0.555 +- std = 0.029\n",
      "C=1e-06 , mean_score = 0.556 +- std = 0.025\n",
      "C=1e-06 , mean_score = 0.560 +- std = 0.024\n"
     ]
    },
    {
     "name": "stderr",
     "output_type": "stream",
     "text": [
      "100%|█████████████████████████████████████████████████████████████████████████████████████| 5/5 [00:00<00:00, 76.13it/s]\n"
     ]
    },
    {
     "name": "stdout",
     "output_type": "stream",
     "text": [
      "C=0.001 , mean_score = 0.861 +- std = 0.000\n",
      "C=0.001 , mean_score = 0.879 +- std = 0.018\n",
      "C=0.001 , mean_score = 0.860 +- std = 0.030\n",
      "C=0.001 , mean_score = 0.859 +- std = 0.026\n",
      "C=0.001 , mean_score = 0.867 +- std = 0.029\n"
     ]
    },
    {
     "name": "stderr",
     "output_type": "stream",
     "text": [
      "100%|█████████████████████████████████████████████████████████████████████████████████████| 5/5 [00:00<00:00, 79.84it/s]"
     ]
    },
    {
     "name": "stdout",
     "output_type": "stream",
     "text": [
      "C=1.0 , mean_score = 0.806 +- std = 0.000\n",
      "C=1.0 , mean_score = 0.839 +- std = 0.033\n",
      "C=1.0 , mean_score = 0.818 +- std = 0.040\n",
      "C=1.0 , mean_score = 0.814 +- std = 0.035\n",
      "C=1.0 , mean_score = 0.822 +- std = 0.036\n"
     ]
    },
    {
     "name": "stderr",
     "output_type": "stream",
     "text": [
      "\n"
     ]
    }
   ],
   "source": [
    "n_splits = 5\n",
    "for c in [0.000001, 0.001, 1.]:\n",
    "    scores_kfold = []\n",
    "\n",
    "    kfold = KFold(n_splits=n_splits, shuffle=True, random_state=1)\n",
    "    \n",
    "    for train_idx, val_idx in tqdm(kfold.split(data_full_train), total=n_splits):\n",
    "        data_train_kfold = data_full_train.iloc[train_idx]\n",
    "        data_val_kfold = data_full_train.iloc[val_idx]\n",
    "        \n",
    "        y_train_kfold = data_train_kfold.converted.values\n",
    "        y_val_kfold = data_val_kfold.converted.values\n",
    "        \n",
    "        dv, model_kfold = train(data_train_kfold, y_train_kfold, c)\n",
    "        \n",
    "        y_pred_kfold = predict(data_val_kfold, dv, model_kfold)\n",
    "        \n",
    "        auc = roc_auc_score(y_val_kfold, y_pred_kfold)\n",
    "        scores_kfold.append(auc)\n",
    "\n",
    "        print('C=%s , mean_score = %.3f +- std = %.3f' % (c, np.mean(scores_kfold),  np.std(scores_kfold)))"
   ]
  },
  {
   "cell_type": "code",
   "execution_count": null,
   "id": "4a7618e3-c30a-484c-ac13-100e2ad546e9",
   "metadata": {},
   "outputs": [],
   "source": [
    "!git add /home_works/home_work_week4.ipynb\n",
    "!git commit -m \"Home W"
   ]
  },
  {
   "cell_type": "code",
   "execution_count": null,
   "id": "feb0bec5-a377-45ec-91f9-e28620e05f93",
   "metadata": {},
   "outputs": [],
   "source": [
    "#tr"
   ]
  },
  {
   "cell_type": "code",
   "execution_count": null,
   "id": "f3e90ec7-92e4-48ae-bd27-a5c69eb57bfa",
   "metadata": {},
   "outputs": [],
   "source": [
    "#threshods"
   ]
  },
  {
   "cell_type": "markdown",
   "id": "035920bf-e4d1-4477-b631-a11cc75413c9",
   "metadata": {},
   "source": [
    "actual_positive = (y_val == 1)\n",
    "actual_negative = (y_val == 0)\n",
    "\n",
    "t = .5\n",
    "predict_positive = (y_pred >= t)\n",
    "predict_negative = (y_pred < t)\n",
    "\n",
    "tp = np.sum(predict_positive & actual_positive)\n",
    "\n",
    "fp = np.sum(predict_positive & actual_negative)\n",
    "\n",
    "fn = np.sum(predict_negative & actual_positive)\n",
    "\n",
    "tn = np.sum(predict_negative & actual_negative)\n",
    "\n",
    "\n",
    "\n",
    "precision = tp / (tp + fp)\n",
    "print('%.2f' % precision)\n",
    "\n",
    "recall = tp / (tp + fn)\n",
    "print('%.2f' % recall)"
   ]
  },
  {
   "cell_type": "code",
   "execution_count": null,
   "id": "374c5756-3a61-4ba5-8e90-e2551ab608d1",
   "metadata": {},
   "outputs": [],
   "source": []
  },
  {
   "cell_type": "code",
   "execution_count": null,
   "id": "79020019-643e-4e5e-a60b-0212bcc6ea4f",
   "metadata": {},
   "outputs": [],
   "source": []
  },
  {
   "cell_type": "code",
   "execution_count": null,
   "id": "832a4bdd-5c8e-418f-91de-0494689daf9f",
   "metadata": {},
   "outputs": [],
   "source": []
  },
  {
   "cell_type": "code",
   "execution_count": null,
   "id": "2c199266-6d85-45da-9c2c-547e3fbd0815",
   "metadata": {},
   "outputs": [],
   "source": []
  }
 ],
 "metadata": {
  "kernelspec": {
   "display_name": "Python 3 (ipykernel)",
   "language": "python",
   "name": "python3"
  },
  "language_info": {
   "codemirror_mode": {
    "name": "ipython",
    "version": 3
   },
   "file_extension": ".py",
   "mimetype": "text/x-python",
   "name": "python",
   "nbconvert_exporter": "python",
   "pygments_lexer": "ipython3",
   "version": "3.10.12"
  }
 },
 "nbformat": 4,
 "nbformat_minor": 5
}
