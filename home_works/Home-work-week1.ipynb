{
 "cells": [
  {
   "cell_type": "markdown",
   "id": "62b0c94c-02d3-4537-b7ec-7480cd2357aa",
   "metadata": {},
   "source": [
    "# Home work week 1"
   ]
  },
  {
   "cell_type": "markdown",
   "id": "018ba1ea-6da0-4519-889b-41cc1fa421ff",
   "metadata": {},
   "source": [
    "## Q1. Pandas version\n",
    "What's the version of Pandas that you installed?"
   ]
  },
  {
   "cell_type": "code",
   "execution_count": 1,
   "id": "abf2faf7-988f-4449-8adc-a1335df1bee7",
   "metadata": {},
   "outputs": [],
   "source": [
    "import pandas as pd \n",
    "import numpy as np"
   ]
  },
  {
   "cell_type": "code",
   "execution_count": 2,
   "id": "d8703047-907b-4bcf-a55f-85133de23751",
   "metadata": {},
   "outputs": [
    {
     "data": {
      "text/plain": [
       "'2.2.3'"
      ]
     },
     "execution_count": 2,
     "metadata": {},
     "output_type": "execute_result"
    }
   ],
   "source": [
    "pd.__version__"
   ]
  },
  {
   "cell_type": "markdown",
   "id": "b55d78ab-cdf1-4a58-97eb-f8617a3b30c2",
   "metadata": {},
   "source": [
    "## Getting the data\n",
    "https://raw.githubusercontent.com/alexeygrigorev/datasets/master/car_fuel_efficiency.csv"
   ]
  },
  {
   "cell_type": "code",
   "execution_count": 3,
   "id": "873eb399-fba8-4749-90fc-048224ffcc0b",
   "metadata": {},
   "outputs": [],
   "source": [
    "url = 'https://raw.githubusercontent.com/alexeygrigorev/datasets/master/car_fuel_efficiency.csv' "
   ]
  },
  {
   "cell_type": "code",
   "execution_count": 4,
   "id": "8c7a0cd4-0ec8-4bc2-9df9-7ceba6e0c1b7",
   "metadata": {},
   "outputs": [],
   "source": [
    "!wget $url -o download.log"
   ]
  },
  {
   "cell_type": "code",
   "execution_count": 5,
   "id": "3eaad267-6f09-4e62-a4b8-477953d8deb0",
   "metadata": {},
   "outputs": [
    {
     "data": {
      "text/html": [
       "<div>\n",
       "<style scoped>\n",
       "    .dataframe tbody tr th:only-of-type {\n",
       "        vertical-align: middle;\n",
       "    }\n",
       "\n",
       "    .dataframe tbody tr th {\n",
       "        vertical-align: top;\n",
       "    }\n",
       "\n",
       "    .dataframe thead th {\n",
       "        text-align: right;\n",
       "    }\n",
       "</style>\n",
       "<table border=\"1\" class=\"dataframe\">\n",
       "  <thead>\n",
       "    <tr style=\"text-align: right;\">\n",
       "      <th></th>\n",
       "      <th>0</th>\n",
       "      <th>1</th>\n",
       "      <th>2</th>\n",
       "    </tr>\n",
       "  </thead>\n",
       "  <tbody>\n",
       "    <tr>\n",
       "      <th>engine_displacement</th>\n",
       "      <td>170</td>\n",
       "      <td>130</td>\n",
       "      <td>170</td>\n",
       "    </tr>\n",
       "    <tr>\n",
       "      <th>num_cylinders</th>\n",
       "      <td>3.0</td>\n",
       "      <td>5.0</td>\n",
       "      <td>NaN</td>\n",
       "    </tr>\n",
       "    <tr>\n",
       "      <th>horsepower</th>\n",
       "      <td>159.0</td>\n",
       "      <td>97.0</td>\n",
       "      <td>78.0</td>\n",
       "    </tr>\n",
       "    <tr>\n",
       "      <th>vehicle_weight</th>\n",
       "      <td>3413.433759</td>\n",
       "      <td>3149.664934</td>\n",
       "      <td>3079.038997</td>\n",
       "    </tr>\n",
       "    <tr>\n",
       "      <th>acceleration</th>\n",
       "      <td>17.7</td>\n",
       "      <td>17.8</td>\n",
       "      <td>15.1</td>\n",
       "    </tr>\n",
       "    <tr>\n",
       "      <th>model_year</th>\n",
       "      <td>2003</td>\n",
       "      <td>2007</td>\n",
       "      <td>2018</td>\n",
       "    </tr>\n",
       "    <tr>\n",
       "      <th>origin</th>\n",
       "      <td>Europe</td>\n",
       "      <td>USA</td>\n",
       "      <td>Europe</td>\n",
       "    </tr>\n",
       "    <tr>\n",
       "      <th>fuel_type</th>\n",
       "      <td>Gasoline</td>\n",
       "      <td>Gasoline</td>\n",
       "      <td>Gasoline</td>\n",
       "    </tr>\n",
       "    <tr>\n",
       "      <th>drivetrain</th>\n",
       "      <td>All-wheel drive</td>\n",
       "      <td>Front-wheel drive</td>\n",
       "      <td>Front-wheel drive</td>\n",
       "    </tr>\n",
       "    <tr>\n",
       "      <th>num_doors</th>\n",
       "      <td>0.0</td>\n",
       "      <td>0.0</td>\n",
       "      <td>0.0</td>\n",
       "    </tr>\n",
       "    <tr>\n",
       "      <th>fuel_efficiency_mpg</th>\n",
       "      <td>13.231729</td>\n",
       "      <td>13.688217</td>\n",
       "      <td>14.246341</td>\n",
       "    </tr>\n",
       "  </tbody>\n",
       "</table>\n",
       "</div>"
      ],
      "text/plain": [
       "                                   0                  1                  2\n",
       "engine_displacement              170                130                170\n",
       "num_cylinders                    3.0                5.0                NaN\n",
       "horsepower                     159.0               97.0               78.0\n",
       "vehicle_weight           3413.433759        3149.664934        3079.038997\n",
       "acceleration                    17.7               17.8               15.1\n",
       "model_year                      2003               2007               2018\n",
       "origin                        Europe                USA             Europe\n",
       "fuel_type                   Gasoline           Gasoline           Gasoline\n",
       "drivetrain           All-wheel drive  Front-wheel drive  Front-wheel drive\n",
       "num_doors                        0.0                0.0                0.0\n",
       "fuel_efficiency_mpg        13.231729          13.688217          14.246341"
      ]
     },
     "execution_count": 5,
     "metadata": {},
     "output_type": "execute_result"
    }
   ],
   "source": [
    "df = pd.read_csv('car_fuel_efficiency.csv')\n",
    "\n",
    "df.head(3).T"
   ]
  },
  {
   "cell_type": "markdown",
   "id": "75188fd3-9c06-4921-9ecc-140d0c5531b0",
   "metadata": {},
   "source": [
    "## Q2. Records count\n",
    "\n",
    "How many records are in the dataset?"
   ]
  },
  {
   "cell_type": "code",
   "execution_count": 6,
   "id": "f31d7cd7-2779-4690-975d-60ef371ad745",
   "metadata": {},
   "outputs": [
    {
     "data": {
      "text/plain": [
       "9704"
      ]
     },
     "execution_count": 6,
     "metadata": {},
     "output_type": "execute_result"
    }
   ],
   "source": [
    "df.shape[0]"
   ]
  },
  {
   "cell_type": "markdown",
   "id": "0ffc4922-f8db-4491-be4f-bcb2943cc4f1",
   "metadata": {},
   "source": [
    "## Q3. Fuel types\n",
    "How many fuel types are presented in the dataset?"
   ]
  },
  {
   "cell_type": "code",
   "execution_count": 7,
   "id": "0bd8a7ad-b384-42ce-81a3-8d66ecc1cb4e",
   "metadata": {},
   "outputs": [
    {
     "data": {
      "text/plain": [
       "2"
      ]
     },
     "execution_count": 7,
     "metadata": {},
     "output_type": "execute_result"
    }
   ],
   "source": [
    "df.fuel_type.nunique()"
   ]
  },
  {
   "cell_type": "markdown",
   "id": "74cfb517-8c8c-4d3d-8a2c-c14ed491d7db",
   "metadata": {},
   "source": [
    "## Q4. Missing values "
   ]
  },
  {
   "cell_type": "code",
   "execution_count": 8,
   "id": "1899338d-5671-476f-9eeb-bf9616e88073",
   "metadata": {},
   "outputs": [
    {
     "data": {
      "text/plain": [
       "engine_displacement      0\n",
       "num_cylinders          482\n",
       "horsepower             708\n",
       "vehicle_weight           0\n",
       "acceleration           930\n",
       "model_year               0\n",
       "origin                   0\n",
       "fuel_type                0\n",
       "drivetrain               0\n",
       "num_doors              502\n",
       "fuel_efficiency_mpg      0\n",
       "dtype: int64"
      ]
     },
     "execution_count": 8,
     "metadata": {},
     "output_type": "execute_result"
    }
   ],
   "source": [
    "df.isna().sum()"
   ]
  },
  {
   "cell_type": "markdown",
   "id": "676bca13-2ece-4742-89bb-653f74a5266b",
   "metadata": {},
   "source": [
    "## Q5. Max fuel efficiency\n",
    "What's the maximum fuel efficiency of cars from Asia?"
   ]
  },
  {
   "cell_type": "code",
   "execution_count": 9,
   "id": "c9cef748-e080-4621-88c4-e95e005b621a",
   "metadata": {},
   "outputs": [
    {
     "data": {
      "text/plain": [
       "np.float64(23.759122836520497)"
      ]
     },
     "execution_count": 9,
     "metadata": {},
     "output_type": "execute_result"
    }
   ],
   "source": [
    "df[df['origin'] == 'Asia']['fuel_efficiency_mpg'].max()"
   ]
  },
  {
   "cell_type": "markdown",
   "id": "21ad2ba5-9799-49c6-b5a4-c97c764fbed3",
   "metadata": {},
   "source": [
    "## Q6. Median value of horsepower\n",
    "\n",
    "- Find the median value of horsepower column in the dataset.\n",
    "- Next, calculate the most frequent value of the same horsepower column.\n",
    "- Use fillna method to fill the missing values in horsepower column with the most frequent value from the previous step.\n",
    "- Now, calculate the median value of horsepower once again."
   ]
  },
  {
   "cell_type": "code",
   "execution_count": 10,
   "id": "66eabf6a-72eb-4395-b3bc-d6467a1a2722",
   "metadata": {},
   "outputs": [
    {
     "data": {
      "text/plain": [
       "{'value median of horsepower': np.float64(149.0),\n",
       " 'value most frequent value of horsepower': np.float64(152.0)}"
      ]
     },
     "execution_count": 10,
     "metadata": {},
     "output_type": "execute_result"
    }
   ],
   "source": [
    "response = {}\n",
    "\n",
    "response['value median of horsepower'] = df['horsepower'].median()\n",
    "response['value most frequent value of horsepower'] = df['horsepower'].mode()[0]\n",
    "\n",
    "response"
   ]
  },
  {
   "cell_type": "code",
   "execution_count": 11,
   "id": "c4bad8e7-be7a-41b2-b809-5eda35f271d0",
   "metadata": {},
   "outputs": [
    {
     "data": {
      "text/plain": [
       "np.float64(152.0)"
      ]
     },
     "execution_count": 11,
     "metadata": {},
     "output_type": "execute_result"
    }
   ],
   "source": [
    "response['value most frequent value of horsepower']"
   ]
  },
  {
   "cell_type": "code",
   "execution_count": 12,
   "id": "2251c988-b62d-49bc-971f-f720372dbef4",
   "metadata": {},
   "outputs": [
    {
     "name": "stdout",
     "output_type": "stream",
     "text": [
      "Yes, it increased\n"
     ]
    },
    {
     "name": "stderr",
     "output_type": "stream",
     "text": [
      "/tmp/ipykernel_65015/1068806975.py:1: FutureWarning: A value is trying to be set on a copy of a DataFrame or Series through chained assignment using an inplace method.\n",
      "The behavior will change in pandas 3.0. This inplace method will never work because the intermediate object on which we are setting values always behaves as a copy.\n",
      "\n",
      "For example, when doing 'df[col].method(value, inplace=True)', try using 'df.method({col: value}, inplace=True)' or df[col] = df[col].method(value) instead, to perform the operation inplace on the original object.\n",
      "\n",
      "\n",
      "  df['horsepower'].fillna(df['horsepower'].mode()[0], inplace=True)\n"
     ]
    }
   ],
   "source": [
    "df['horsepower'].fillna(df['horsepower'].mode()[0], inplace=True)\n",
    "new_median =  df['horsepower'].median()\n",
    "\n",
    "if response['value median of horsepower'] < new_median:\n",
    "    print('Yes, it increased')\n",
    "elif response['value median of horsepower'] > new_median:\n",
    "    print('Yes, it decreased')\n",
    "else:\n",
    "    print('No')"
   ]
  },
  {
   "cell_type": "markdown",
   "id": "f712b579-30e7-49ac-b203-17c74dd552ca",
   "metadata": {},
   "source": [
    "## Q7. Sum of weights\n",
    "- Select all the cars from Asia\n",
    "- Select only columns vehicle_weight and model_year\n",
    "- Select the first 7 values\n",
    "- Get the underlying NumPy array. Let's call it X.\n",
    "- Compute matrix-matrix multiplication between the transpose of X and X. To get the transpose, use X.T. Let's call the result XTX.\n",
    "- Invert XTX.\n",
    "- Create an array y with values [1100, 1300, 800, 900, 1000, 1100, 1200].\n",
    "- Multiply the inverse of XTX with the transpose of X, and then multiply the result by y. Call the result w.\n",
    "\n",
    "What's the sum of all the elements of the result?"
   ]
  },
  {
   "cell_type": "code",
   "execution_count": 13,
   "id": "0b110938-32ca-47bc-a8cf-3f822826175d",
   "metadata": {},
   "outputs": [
    {
     "data": {
      "text/plain": [
       "array([[2714.21930965, 2016.        ],\n",
       "       [2783.86897424, 2010.        ],\n",
       "       [3582.68736772, 2007.        ],\n",
       "       [2231.8081416 , 2011.        ],\n",
       "       [2659.43145076, 2016.        ],\n",
       "       [2844.22753389, 2014.        ],\n",
       "       [3761.99403819, 2019.        ]])"
      ]
     },
     "execution_count": 13,
     "metadata": {},
     "output_type": "execute_result"
    }
   ],
   "source": [
    "# Selecting cars'Asia\n",
    "# Selecting only colunums vehicle_weight and model_year\n",
    "# Selecting the first 7 values\n",
    "# Getting underlying Numpy array. Let's call it X\n",
    "cars_asia = df[df['origin'] == 'Asia'][['vehicle_weight', 'model_year']]\n",
    "\n",
    "X = cars_asia.values[0:7,]\n",
    "X"
   ]
  },
  {
   "cell_type": "code",
   "execution_count": 14,
   "id": "1ee81ac1-041d-4ad2-857f-7afe0557c2ff",
   "metadata": {},
   "outputs": [
    {
     "data": {
      "text/plain": [
       "np.float64(0.5187709081074016)"
      ]
     },
     "execution_count": 14,
     "metadata": {},
     "output_type": "execute_result"
    }
   ],
   "source": [
    "# Computing matrix-matrix multiplication between the transpose of X and X. \n",
    "# To get the transpose, use X.T. Let's call the result XTX.\n",
    "# Inverting XTX\n",
    "# Creating an array y\n",
    "# Multiply the inverse of XTX with the transpose of X, \n",
    "# and then multiply the result by y\n",
    "# What's the sum of all the elements of the result?\n",
    "\n",
    "XT = X.T\n",
    "XTX = np.dot(XT, X)\n",
    "inv_XTX = np.linalg.inv(XTX)\n",
    "y = np.array([1100, 1300, 800, 900, 1000, 1100, 1200])\n",
    "result_inter = np.dot(inv_XTX, XT)\n",
    "w = np.dot(result_inter, y)\n",
    "\n",
    "w.sum()"
   ]
  },
  {
   "cell_type": "markdown",
   "id": "b133ce94-aea3-4c80-82d1-30826b1ff5ae",
   "metadata": {},
   "source": [
    "<hr>\n",
    "<footer style=\"text-align:center; font-size:12px; color:gray;\">\n",
    "    © 2025 - MBOCK MBOCK GEORGES CHRISTIAN | georgesmbo89@gmail.com\n",
    "</footer>\n"
   ]
  }
 ],
 "metadata": {
  "kernelspec": {
   "display_name": "Python 3 (ipykernel)",
   "language": "python",
   "name": "python3"
  },
  "language_info": {
   "codemirror_mode": {
    "name": "ipython",
    "version": 3
   },
   "file_extension": ".py",
   "mimetype": "text/x-python",
   "name": "python",
   "nbconvert_exporter": "python",
   "pygments_lexer": "ipython3",
   "version": "3.10.12"
  }
 },
 "nbformat": 4,
 "nbformat_minor": 5
}
