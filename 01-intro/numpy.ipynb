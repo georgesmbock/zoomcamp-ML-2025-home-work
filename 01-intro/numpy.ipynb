{
 "cells": [
  {
   "cell_type": "markdown",
   "id": "4bf64d83-cc69-46c1-8c58-7b3e6e78f327",
   "metadata": {},
   "source": [
    "## Introduction to Numpy\n",
    "\n",
    "Plan:\n",
    "\n",
    "- Creating arrays\n",
    "- Multi-dimensensionnal arrays\n",
    "- Randonly generated arrays\n",
    "- Element-wise operations\n",
    "    - Comparaison operations\n",
    "    - Logical operational\n",
    "- Summamaring operations"
   ]
  },
  {
   "cell_type": "code",
   "execution_count": 1,
   "id": "b84479e8-7c38-4d93-bafc-77ff9150db3c",
   "metadata": {},
   "outputs": [],
   "source": [
    "import numpy as np"
   ]
  },
  {
   "cell_type": "markdown",
   "id": "c0e6abc8-63c2-45db-9f33-5b1728636f19",
   "metadata": {},
   "source": [
    "### Creating arrays"
   ]
  },
  {
   "cell_type": "code",
   "execution_count": 2,
   "id": "9393b379-b958-44c3-8a86-cdae33cef842",
   "metadata": {},
   "outputs": [
    {
     "data": {
      "text/plain": [
       "array([0., 0., 0., 0., 0., 0., 0., 0., 0., 0.])"
      ]
     },
     "execution_count": 2,
     "metadata": {},
     "output_type": "execute_result"
    }
   ],
   "source": [
    "np.zeros(10)"
   ]
  },
  {
   "cell_type": "code",
   "execution_count": 3,
   "id": "135f3983-92c0-4f37-ab11-691c9e814867",
   "metadata": {},
   "outputs": [
    {
     "data": {
      "text/plain": [
       "array([1., 1., 1., 1., 1., 1., 1., 1., 1., 1.])"
      ]
     },
     "execution_count": 3,
     "metadata": {},
     "output_type": "execute_result"
    }
   ],
   "source": [
    "np.ones(10)"
   ]
  },
  {
   "cell_type": "code",
   "execution_count": 4,
   "id": "773e12bc-e7fc-4436-a64d-6f1136003f80",
   "metadata": {},
   "outputs": [
    {
     "data": {
      "text/plain": [
       "array([2.5, 2.5, 2.5, 2.5, 2.5, 2.5, 2.5, 2.5, 2.5, 2.5])"
      ]
     },
     "execution_count": 4,
     "metadata": {},
     "output_type": "execute_result"
    }
   ],
   "source": [
    "np.full(10, 2.5)"
   ]
  },
  {
   "cell_type": "code",
   "execution_count": 5,
   "id": "91ea520c-df4b-4288-9995-25b04dbd993a",
   "metadata": {},
   "outputs": [
    {
     "data": {
      "text/plain": [
       "array([1, 2, 3])"
      ]
     },
     "execution_count": 5,
     "metadata": {},
     "output_type": "execute_result"
    }
   ],
   "source": [
    "l = [1, 2, 3]\n",
    "arr = np.array(l)\n",
    "\n",
    "arr"
   ]
  },
  {
   "cell_type": "code",
   "execution_count": 6,
   "id": "8eb5496d-673a-4250-b9ba-43b4193055d6",
   "metadata": {},
   "outputs": [
    {
     "data": {
      "text/plain": [
       "array([1, 2, 3])"
      ]
     },
     "execution_count": 6,
     "metadata": {},
     "output_type": "execute_result"
    }
   ],
   "source": [
    "arr[:,]"
   ]
  },
  {
   "cell_type": "code",
   "execution_count": 7,
   "id": "37f62178-3bef-4f01-a967-2eb6832cd864",
   "metadata": {},
   "outputs": [
    {
     "data": {
      "text/plain": [
       "array([2, 3])"
      ]
     },
     "execution_count": 7,
     "metadata": {},
     "output_type": "execute_result"
    }
   ],
   "source": [
    "arr[1:3]"
   ]
  },
  {
   "cell_type": "code",
   "execution_count": 8,
   "id": "e8a81302-cdfa-4207-81cc-ff43a7643e43",
   "metadata": {},
   "outputs": [
    {
     "data": {
      "text/plain": [
       "np.int64(3)"
      ]
     },
     "execution_count": 8,
     "metadata": {},
     "output_type": "execute_result"
    }
   ],
   "source": [
    "arr[-1]"
   ]
  },
  {
   "cell_type": "code",
   "execution_count": 9,
   "id": "62081d9c-043e-4a0b-8dda-ef11b6cf3a42",
   "metadata": {},
   "outputs": [
    {
     "data": {
      "text/plain": [
       "np.int64(2)"
      ]
     },
     "execution_count": 9,
     "metadata": {},
     "output_type": "execute_result"
    }
   ],
   "source": [
    "arr[-2]"
   ]
  },
  {
   "cell_type": "code",
   "execution_count": 10,
   "id": "5a84317a-6972-4fd4-98a3-7f8196224793",
   "metadata": {},
   "outputs": [
    {
     "data": {
      "text/plain": [
       "np.int64(1)"
      ]
     },
     "execution_count": 10,
     "metadata": {},
     "output_type": "execute_result"
    }
   ],
   "source": [
    "arr[-3]"
   ]
  },
  {
   "cell_type": "code",
   "execution_count": 11,
   "id": "97fb09b3-108e-42da-83a9-3e8833251f9c",
   "metadata": {},
   "outputs": [
    {
     "data": {
      "text/plain": [
       "array([1, 2])"
      ]
     },
     "execution_count": 11,
     "metadata": {},
     "output_type": "execute_result"
    }
   ],
   "source": [
    "arr[-3:-1]"
   ]
  },
  {
   "cell_type": "code",
   "execution_count": 12,
   "id": "72a52191-874d-4df2-86cf-c0ed9771a9e0",
   "metadata": {},
   "outputs": [
    {
     "data": {
      "text/plain": [
       "array([ 1,  2, 10])"
      ]
     },
     "execution_count": 12,
     "metadata": {},
     "output_type": "execute_result"
    }
   ],
   "source": [
    "arr[2] = 10\n",
    "arr"
   ]
  },
  {
   "cell_type": "code",
   "execution_count": 13,
   "id": "5ab3fcc9-551a-439b-8078-976360cc994e",
   "metadata": {},
   "outputs": [
    {
     "data": {
      "text/plain": [
       "array([3, 4, 5, 6, 7, 8, 9])"
      ]
     },
     "execution_count": 13,
     "metadata": {},
     "output_type": "execute_result"
    }
   ],
   "source": [
    "np.arange(3, 10)"
   ]
  },
  {
   "cell_type": "code",
   "execution_count": 14,
   "id": "68bb4852-8c68-4fc6-b87e-a6ed88f75034",
   "metadata": {},
   "outputs": [
    {
     "data": {
      "text/plain": [
       "array([0, 1, 2])"
      ]
     },
     "execution_count": 14,
     "metadata": {},
     "output_type": "execute_result"
    }
   ],
   "source": [
    "np.arange(3)"
   ]
  },
  {
   "cell_type": "code",
   "execution_count": 15,
   "id": "927f21fd-7c86-4ee7-a68c-f78fd3ab861c",
   "metadata": {},
   "outputs": [
    {
     "data": {
      "text/plain": [
       "array([2. , 3.5, 5. ])"
      ]
     },
     "execution_count": 15,
     "metadata": {},
     "output_type": "execute_result"
    }
   ],
   "source": [
    "np.linspace(2, 5, 3)"
   ]
  },
  {
   "cell_type": "markdown",
   "id": "b758de51-cf75-46d2-b36f-bd081886a435",
   "metadata": {},
   "source": [
    "### Multi-dimentional array"
   ]
  },
  {
   "cell_type": "code",
   "execution_count": 16,
   "id": "0d44656b-7f9d-44c3-8360-586580a6caa4",
   "metadata": {},
   "outputs": [
    {
     "data": {
      "text/plain": [
       "array([[0., 0.],\n",
       "       [0., 0.],\n",
       "       [0., 0.],\n",
       "       [0., 0.],\n",
       "       [0., 0.]])"
      ]
     },
     "execution_count": 16,
     "metadata": {},
     "output_type": "execute_result"
    }
   ],
   "source": [
    "np.zeros((5, 2))"
   ]
  },
  {
   "cell_type": "code",
   "execution_count": 17,
   "id": "63caf774-afdd-41bd-88c0-b55f052e5382",
   "metadata": {},
   "outputs": [
    {
     "data": {
      "text/plain": [
       "array([[ 1,  2, 10],\n",
       "       [ 1,  2, 10],\n",
       "       [ 1,  2, 10]])"
      ]
     },
     "execution_count": 17,
     "metadata": {},
     "output_type": "execute_result"
    }
   ],
   "source": [
    "n = np.array([\n",
    "    [ 1,  2, 10],\n",
    "    [ 1,  2, 10],\n",
    "    [ 1,  2, 10]\n",
    "])\n",
    "\n",
    "n"
   ]
  },
  {
   "cell_type": "code",
   "execution_count": 18,
   "id": "a84f7c49-55c1-4bbf-95cf-80c85a63c5ba",
   "metadata": {},
   "outputs": [
    {
     "data": {
      "text/plain": [
       "array([[ 1,  2, 10],\n",
       "       [ 1,  2, 10],\n",
       "       [ 1,  2, 10]])"
      ]
     },
     "execution_count": 18,
     "metadata": {},
     "output_type": "execute_result"
    }
   ],
   "source": [
    "n[:,]"
   ]
  },
  {
   "cell_type": "code",
   "execution_count": 19,
   "id": "233dd21f-2516-4493-8a5a-c54ba50ed6d2",
   "metadata": {},
   "outputs": [
    {
     "data": {
      "text/plain": [
       "array([[ 1,  2, 10],\n",
       "       [ 1,  2, 10],\n",
       "       [ 1,  2, 10]])"
      ]
     },
     "execution_count": 19,
     "metadata": {},
     "output_type": "execute_result"
    }
   ],
   "source": [
    "n[:]"
   ]
  },
  {
   "cell_type": "code",
   "execution_count": 20,
   "id": "08daa8ce-89f5-454c-a9c5-270c51fd4d64",
   "metadata": {},
   "outputs": [
    {
     "data": {
      "text/plain": [
       "array([[ 1,  2, 10]])"
      ]
     },
     "execution_count": 20,
     "metadata": {},
     "output_type": "execute_result"
    }
   ],
   "source": [
    "n[2:,]"
   ]
  },
  {
   "cell_type": "code",
   "execution_count": 21,
   "id": "06cec0d3-1789-49a2-9872-3c459ed7b812",
   "metadata": {},
   "outputs": [
    {
     "data": {
      "text/plain": [
       "array([10, 10, 10])"
      ]
     },
     "execution_count": 21,
     "metadata": {},
     "output_type": "execute_result"
    }
   ],
   "source": [
    "n[:,2]"
   ]
  },
  {
   "cell_type": "code",
   "execution_count": 22,
   "id": "6f3b5220-e33d-40b1-b4d9-edd3459e8d3b",
   "metadata": {},
   "outputs": [
    {
     "data": {
      "text/plain": [
       "array([[ 1,  2, 10],\n",
       "       [ 1,  2, 10]])"
      ]
     },
     "execution_count": 22,
     "metadata": {},
     "output_type": "execute_result"
    }
   ],
   "source": [
    "n[:2]"
   ]
  },
  {
   "cell_type": "code",
   "execution_count": 23,
   "id": "97c1790d-50c3-4d71-bfe3-7185409cd8ad",
   "metadata": {},
   "outputs": [
    {
     "data": {
      "text/plain": [
       "array([[ 2, 10],\n",
       "       [ 2, 10],\n",
       "       [ 2, 10]])"
      ]
     },
     "execution_count": 23,
     "metadata": {},
     "output_type": "execute_result"
    }
   ],
   "source": [
    "n[:,1:]"
   ]
  },
  {
   "cell_type": "code",
   "execution_count": 24,
   "id": "180c0f76-a6a9-4c7e-9fd4-0081bb624e3c",
   "metadata": {},
   "outputs": [
    {
     "data": {
      "text/plain": [
       "array([10])"
      ]
     },
     "execution_count": 24,
     "metadata": {},
     "output_type": "execute_result"
    }
   ],
   "source": [
    "n[1:2,2]"
   ]
  },
  {
   "cell_type": "markdown",
   "id": "52255e37-9497-4cb6-afff-61db02d02976",
   "metadata": {},
   "source": [
    "### Randomly generated arrays"
   ]
  },
  {
   "cell_type": "code",
   "execution_count": 25,
   "id": "2f8fd937-05ce-4ffe-8e2e-65071b0b8455",
   "metadata": {},
   "outputs": [],
   "source": [
    "np.random.seed(2)"
   ]
  },
  {
   "cell_type": "code",
   "execution_count": 26,
   "id": "42332713-0719-44a6-a55c-77d02bccab1e",
   "metadata": {},
   "outputs": [
    {
     "data": {
      "text/plain": [
       "array([[0.4359949 , 0.02592623],\n",
       "       [0.54966248, 0.43532239],\n",
       "       [0.4203678 , 0.33033482],\n",
       "       [0.20464863, 0.61927097],\n",
       "       [0.29965467, 0.26682728]])"
      ]
     },
     "execution_count": 26,
     "metadata": {},
     "output_type": "execute_result"
    }
   ],
   "source": [
    "np.random.rand(5, 2)"
   ]
  },
  {
   "cell_type": "code",
   "execution_count": 27,
   "id": "96394f1c-5844-4469-89f2-d41d99e0be82",
   "metadata": {},
   "outputs": [
    {
     "data": {
      "text/plain": [
       "array([[0.62113383, 0.52914209, 0.13457995],\n",
       "       [0.51357812, 0.18443987, 0.78533515]])"
      ]
     },
     "execution_count": 27,
     "metadata": {},
     "output_type": "execute_result"
    }
   ],
   "source": [
    "np.random.rand(2, 3)"
   ]
  },
  {
   "cell_type": "code",
   "execution_count": 28,
   "id": "15001f47-e818-4434-a982-96bac62c24cd",
   "metadata": {},
   "outputs": [
    {
     "data": {
      "text/plain": [
       "array([[[0.85397529],\n",
       "        [0.49423684],\n",
       "        [0.84656149]],\n",
       "\n",
       "       [[0.07964548],\n",
       "        [0.50524609],\n",
       "        [0.0652865 ]],\n",
       "\n",
       "       [[0.42812233],\n",
       "        [0.09653092],\n",
       "        [0.12715997]]])"
      ]
     },
     "execution_count": 28,
     "metadata": {},
     "output_type": "execute_result"
    }
   ],
   "source": [
    "np.random.rand(3, 3, 1)"
   ]
  },
  {
   "cell_type": "code",
   "execution_count": 29,
   "id": "49dc9ee7-c893-4b77-9195-355ecf1d3303",
   "metadata": {},
   "outputs": [
    {
     "data": {
      "text/plain": [
       "array([[[0.59674531, 0.226012  ],\n",
       "        [0.10694568, 0.22030621],\n",
       "        [0.34982629, 0.46778748]],\n",
       "\n",
       "       [[0.20174323, 0.64040673],\n",
       "        [0.48306984, 0.50523672],\n",
       "        [0.38689265, 0.79363745]],\n",
       "\n",
       "       [[0.58000418, 0.1622986 ],\n",
       "        [0.70075235, 0.96455108],\n",
       "        [0.50000836, 0.88952006]]])"
      ]
     },
     "execution_count": 29,
     "metadata": {},
     "output_type": "execute_result"
    }
   ],
   "source": [
    "np.random.rand(3, 3, 2)"
   ]
  },
  {
   "cell_type": "code",
   "execution_count": 30,
   "id": "c3665855-ce71-490b-a588-525ccc73a347",
   "metadata": {},
   "outputs": [
    {
     "data": {
      "text/plain": [
       "array([[[0.34161365, 0.56714413, 0.42754596],\n",
       "        [0.43674726, 0.77655918, 0.53560417],\n",
       "        [0.95374223, 0.54420816, 0.08209492]],\n",
       "\n",
       "       [[0.3663424 , 0.8508505 , 0.40627504],\n",
       "        [0.02720237, 0.24717724, 0.06714437],\n",
       "        [0.99385201, 0.97058031, 0.80025835]],\n",
       "\n",
       "       [[0.60181712, 0.76495986, 0.16922545],\n",
       "        [0.29302323, 0.52406688, 0.35662428],\n",
       "        [0.04567897, 0.98315345, 0.44135492]]])"
      ]
     },
     "execution_count": 30,
     "metadata": {},
     "output_type": "execute_result"
    }
   ],
   "source": [
    "np.random.rand(3, 3, 3)"
   ]
  },
  {
   "cell_type": "code",
   "execution_count": 31,
   "id": "b6b0e531-7147-42ed-8996-9bdd55a1b81e",
   "metadata": {},
   "outputs": [
    {
     "data": {
      "text/plain": [
       "array([[[-2.04032305],\n",
       "        [ 0.04625552],\n",
       "        [-0.67767558]],\n",
       "\n",
       "       [[-1.43943903],\n",
       "        [ 0.52429643],\n",
       "        [ 0.73527958]],\n",
       "\n",
       "       [[-0.65325027],\n",
       "        [ 0.84245628],\n",
       "        [-0.38151648]]])"
      ]
     },
     "execution_count": 31,
     "metadata": {},
     "output_type": "execute_result"
    }
   ],
   "source": [
    "np.random.randn(3, 3, 1)"
   ]
  },
  {
   "cell_type": "code",
   "execution_count": 32,
   "id": "a846762e-5eb3-4ee8-b7b4-2f158597652a",
   "metadata": {},
   "outputs": [
    {
     "data": {
      "text/plain": [
       "array([[3, 3],\n",
       "       [4, 4],\n",
       "       [3, 3],\n",
       "       [4, 4],\n",
       "       [4, 4]])"
      ]
     },
     "execution_count": 32,
     "metadata": {},
     "output_type": "execute_result"
    }
   ],
   "source": [
    "np.random.randint(low=3, high=5, size=(5, 2))"
   ]
  },
  {
   "cell_type": "markdown",
   "id": "4ccee016-e636-49b9-8da3-c492ed29aa5a",
   "metadata": {},
   "source": [
    "### Element-wise operations"
   ]
  },
  {
   "cell_type": "code",
   "execution_count": 33,
   "id": "92c7fbbd-259e-4e16-acdb-e8effe527f53",
   "metadata": {},
   "outputs": [
    {
     "data": {
      "text/plain": [
       "array([0, 1, 2, 3, 4])"
      ]
     },
     "execution_count": 33,
     "metadata": {},
     "output_type": "execute_result"
    }
   ],
   "source": [
    "a = np.arange(5)\n",
    "\n",
    "a"
   ]
  },
  {
   "cell_type": "code",
   "execution_count": 34,
   "id": "2a8b67b8-4ec7-42b8-8a99-3f81d50d7e35",
   "metadata": {},
   "outputs": [
    {
     "data": {
      "text/plain": [
       "array([1, 2, 3, 4, 5])"
      ]
     },
     "execution_count": 34,
     "metadata": {},
     "output_type": "execute_result"
    }
   ],
   "source": [
    "a + 1"
   ]
  },
  {
   "cell_type": "code",
   "execution_count": 35,
   "id": "9c3c48b8-5ea9-4ae3-9f14-f905ed18356d",
   "metadata": {},
   "outputs": [
    {
     "data": {
      "text/plain": [
       "array([0, 2, 4, 6, 8])"
      ]
     },
     "execution_count": 35,
     "metadata": {},
     "output_type": "execute_result"
    }
   ],
   "source": [
    "a * 2"
   ]
  },
  {
   "cell_type": "markdown",
   "id": "fc205edf-6f02-4078-820a-cbe0acb92533",
   "metadata": {},
   "source": [
    "### Comparison"
   ]
  },
  {
   "cell_type": "code",
   "execution_count": 36,
   "id": "ddcfda87-5d4d-433b-aff4-259fedf8db15",
   "metadata": {},
   "outputs": [
    {
     "data": {
      "text/plain": [
       "array([False, False, False,  True,  True])"
      ]
     },
     "execution_count": 36,
     "metadata": {},
     "output_type": "execute_result"
    }
   ],
   "source": [
    "a > 2"
   ]
  },
  {
   "cell_type": "code",
   "execution_count": 37,
   "id": "0cb3675d-c0ab-48ee-aed5-92c592ff3825",
   "metadata": {},
   "outputs": [
    {
     "data": {
      "text/plain": [
       "array([3, 4])"
      ]
     },
     "execution_count": 37,
     "metadata": {},
     "output_type": "execute_result"
    }
   ],
   "source": [
    "a[a > 2]"
   ]
  },
  {
   "cell_type": "markdown",
   "id": "49023594-2c80-452b-b4be-34c98c948a08",
   "metadata": {},
   "source": [
    "### Summaring"
   ]
  },
  {
   "cell_type": "markdown",
   "id": "d4bb2d88-3675-4525-8c33-96e424836261",
   "metadata": {},
   "source": [
    "Creating arrays\n",
    "\n",
    "Multi-dimensensionnal arrays\n",
    "\n",
    "Randonly generated arrays\n",
    "\n",
    "Element-wise operations\n",
    "\n",
    "Comparaison operations\n",
    "\n",
    "Logical operational"
   ]
  }
 ],
 "metadata": {
  "kernelspec": {
   "display_name": "Python 3 (ipykernel)",
   "language": "python",
   "name": "python3"
  },
  "language_info": {
   "codemirror_mode": {
    "name": "ipython",
    "version": 3
   },
   "file_extension": ".py",
   "mimetype": "text/x-python",
   "name": "python",
   "nbconvert_exporter": "python",
   "pygments_lexer": "ipython3",
   "version": "3.10.12"
  }
 },
 "nbformat": 4,
 "nbformat_minor": 5
}
