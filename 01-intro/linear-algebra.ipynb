{
 "cells": [
  {
   "cell_type": "markdown",
   "id": "c563365a",
   "metadata": {},
   "source": [
    "# 1.8 Rappel d'algèbre linéaire\n",
    "- Opérations vectorielles\n",
    "- Multiplication\n",
    "    - Multiplication vecteur-vecteur\n",
    "    - Multiplication matrice-vecteur\n",
    "    - Multiplication matrice-matrice\n",
    "- Matrice identité\n",
    "-Inverse"
   ]
  },
  {
   "cell_type": "code",
   "execution_count": 1,
   "id": "2faf05fa",
   "metadata": {},
   "outputs": [],
   "source": [
    "import numpy as np"
   ]
  },
  {
   "cell_type": "markdown",
   "id": "a05da46f",
   "metadata": {},
   "source": [
    "## Opérations vectorielles"
   ]
  },
  {
   "cell_type": "code",
   "execution_count": 2,
   "id": "2168a51a",
   "metadata": {},
   "outputs": [],
   "source": [
    "u = np.array([2, 7, 5, 6])\n",
    "v = np.array([3, 4, 8, 6])"
   ]
  },
  {
   "cell_type": "code",
   "execution_count": 3,
   "id": "c872a641",
   "metadata": {},
   "outputs": [
    {
     "name": "stdout",
     "output_type": "stream",
     "text": [
      "[ 5 11 13 12]\n",
      "[-1  3 -3  0]\n",
      "[ 6  8 16 12]\n"
     ]
    }
   ],
   "source": [
    "# addition \n",
    "print(u + v)\n",
    "\n",
    "# subtraction \n",
    "print(u - v)\n",
    "\n",
    "# scalar multiplication \n",
    "print(2 * v)"
   ]
  },
  {
   "cell_type": "markdown",
   "id": "66c7834d",
   "metadata": {},
   "source": [
    "## Multiplication"
   ]
  },
  {
   "cell_type": "markdown",
   "id": "d480e3cd",
   "metadata": {},
   "source": [
    "### Multiplication vecteur-vecteur"
   ]
  },
  {
   "cell_type": "code",
   "execution_count": 4,
   "id": "3f572b12",
   "metadata": {},
   "outputs": [],
   "source": [
    "def vector_vector_multiplication(u, v):\n",
    "    assert u.shape[0] == v.shape[0]\n",
    "    \n",
    "    n = u.shape[0]\n",
    "    \n",
    "    result = 0.0\n",
    "\n",
    "    for i in range(n):\n",
    "        result = result + u[i] * v[i]\n",
    "    \n",
    "    return result"
   ]
  },
  {
   "cell_type": "code",
   "execution_count": 5,
   "id": "57a85257",
   "metadata": {},
   "outputs": [
    {
     "name": "stdout",
     "output_type": "stream",
     "text": [
      "110.0\n"
     ]
    }
   ],
   "source": [
    " print(vector_vector_multiplication(u, v))"
   ]
  },
  {
   "cell_type": "markdown",
   "id": "5a9f69d5",
   "metadata": {},
   "source": [
    "### Multiplication matrice-vecteur"
   ]
  },
  {
   "cell_type": "code",
   "execution_count": 6,
   "id": "fe930ae6",
   "metadata": {},
   "outputs": [],
   "source": [
    "def matrix_vector_multiplication(U, v):\n",
    "    assert U.shape[1] == v.shape[0]\n",
    "    \n",
    "    num_rows = U.shape[0]\n",
    "\n",
    "    result = np.zeros(num_rows)\n",
    "    \n",
    "    for i in range(num_rows):\n",
    "        result[i] = vector_vector_multiplication(U[i], v)\n",
    "    \n",
    "    return result"
   ]
  },
  {
   "cell_type": "code",
   "execution_count": 7,
   "id": "24bcba1a",
   "metadata": {},
   "outputs": [
    {
     "name": "stderr",
     "output_type": "stream",
     "text": [
      "/tmp/ipykernel_24933/1754765005.py:9: DeprecationWarning: Conversion of an array with ndim > 0 to a scalar is deprecated, and will error in future. Ensure you extract a single element from your array before performing this operation. (Deprecated NumPy 1.25.)\n",
      "  result[i] = vector_vector_multiplication(U[i], v)\n"
     ]
    },
    {
     "data": {
      "text/plain": [
       "array([110., 125., 125., 125.])"
      ]
     },
     "execution_count": 7,
     "metadata": {},
     "output_type": "execute_result"
    }
   ],
   "source": [
    "U = np.array([[2, 7, 5, 6],[3, 4, 8, 6], [3, 4, 8, 6], [3, 4, 8, 6]])\n",
    "V = v.reshape(4, 1)\n",
    "\n",
    "matrix_vector_multiplication(U, V)"
   ]
  },
  {
   "cell_type": "markdown",
   "id": "337ac45d",
   "metadata": {},
   "source": [
    "# Multiplication matrice-matrice"
   ]
  },
  {
   "cell_type": "code",
   "execution_count": 8,
   "id": "354ec673",
   "metadata": {},
   "outputs": [],
   "source": [
    "def matrix_matrix_multiplication(U, V):\n",
    "    assert U.shape[1] == V.shape[0]\n",
    "    \n",
    "    num_rows = U.shape[0]\n",
    "    num_cols = V.shape[1]\n",
    "    \n",
    "    result = np.zeros((num_rows, num_cols))\n",
    "    \n",
    "    for i in range(num_cols):\n",
    "        vi = V[:, i]\n",
    "        Uvi = matrix_vector_multiplication(U, vi)\n",
    "        result[:, i] = Uvi\n",
    "    \n",
    "    return result"
   ]
  },
  {
   "cell_type": "code",
   "execution_count": 9,
   "id": "9d397acf",
   "metadata": {},
   "outputs": [
    {
     "data": {
      "text/plain": [
       "array([[ 58.,  86., 154., 120.],\n",
       "       [ 60.,  93., 159., 126.],\n",
       "       [ 60.,  93., 159., 126.],\n",
       "       [ 60.,  93., 159., 126.]])"
      ]
     },
     "execution_count": 9,
     "metadata": {},
     "output_type": "execute_result"
    }
   ],
   "source": [
    "matrix_matrix_multiplication(U, U)\n"
   ]
  },
  {
   "cell_type": "markdown",
   "id": "98af9bd1",
   "metadata": {},
   "source": [
    "## Matrice d'identité"
   ]
  },
  {
   "cell_type": "code",
   "execution_count": 10,
   "id": "984fa065",
   "metadata": {},
   "outputs": [
    {
     "data": {
      "text/plain": [
       "array([[1., 0., 0.],\n",
       "       [0., 1., 0.],\n",
       "       [0., 0., 1.]])"
      ]
     },
     "execution_count": 10,
     "metadata": {},
     "output_type": "execute_result"
    }
   ],
   "source": [
    "I = np.eye(3)\n",
    "I"
   ]
  },
  {
   "cell_type": "markdown",
   "id": "e9bd9849",
   "metadata": {},
   "source": [
    "## Inverse"
   ]
  },
  {
   "cell_type": "code",
   "execution_count": 11,
   "id": "1cdd8b8d",
   "metadata": {},
   "outputs": [
    {
     "data": {
      "text/plain": [
       "array([[ 1.        , -2.        ,  0.        ],\n",
       "       [ 0.        , -0.66666667,  0.66666667],\n",
       "       [ 0.        ,  1.33333333, -0.33333333]])"
      ]
     },
     "execution_count": 11,
     "metadata": {},
     "output_type": "execute_result"
    }
   ],
   "source": [
    "V = np.array([\n",
    "    [1, 1, 2],\n",
    "    [0, 0.5, 1], \n",
    "    [0, 2, 1],\n",
    "])\n",
    "inv = np.linalg.inv(V)\n",
    "inv"
   ]
  }
 ],
 "metadata": {
  "kernelspec": {
   "display_name": "Python 3 (ipykernel)",
   "language": "python",
   "name": "python3"
  },
  "language_info": {
   "codemirror_mode": {
    "name": "ipython",
    "version": 3
   },
   "file_extension": ".py",
   "mimetype": "text/x-python",
   "name": "python",
   "nbconvert_exporter": "python",
   "pygments_lexer": "ipython3",
   "version": "3.10.12"
  }
 },
 "nbformat": 4,
 "nbformat_minor": 5
}
